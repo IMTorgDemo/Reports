{
 "cells": [
  {
   "cell_type": "markdown",
   "metadata": {
    "collapsed": true,
    "deletable": true,
    "editable": true
   },
   "source": [
    "### Preparations\n",
    "_Set-up Environment_"
   ]
  },
  {
   "cell_type": "code",
   "execution_count": 1,
   "metadata": {
    "collapsed": false,
    "deletable": true,
    "editable": true
   },
   "outputs": [
    {
     "name": "stdout",
     "output_type": "stream",
     "text": [
      "Account.py   Portfolio.py  __pycache__\tRepo.py\r\n",
      "__init__.py  Project.py    README.md\r\n"
     ]
    }
   ],
   "source": [
    "# Ensure API Wrapper is available and load it\n",
    "! ls ScrumSaga"
   ]
  },
  {
   "cell_type": "code",
   "execution_count": 2,
   "metadata": {
    "collapsed": false,
    "deletable": true,
    "editable": true
   },
   "outputs": [],
   "source": [
    "import sys\n",
    "path = '/home/jovyan/work/notebooks/ScrumSaga'\n",
    "sys.path.append(path)\n",
    "import ScrumSaga as saga"
   ]
  },
  {
   "cell_type": "code",
   "execution_count": 3,
   "metadata": {
    "collapsed": false,
    "deletable": true,
    "editable": true
   },
   "outputs": [],
   "source": [
    "saga.Account._Account__URL = 'http://144.76.39.53:3001/v1'"
   ]
  },
  {
   "cell_type": "code",
   "execution_count": 4,
   "metadata": {
    "collapsed": false,
    "deletable": true,
    "editable": true
   },
   "outputs": [
    {
     "name": "stdout",
     "output_type": "stream",
     "text": [
      "passwords match\n"
     ]
    }
   ],
   "source": [
    "# Acocunt information (must be manipulated on website: scrumsaga.com)\n",
    "SAGA_ACCT = {\"email\":\"dev.team@mgmt-tech.org\",\"password\":\"******************\"}\n",
    "\n",
    "Acct = saga.Account(acct_email=SAGA_ACCT['email'], acct_password=SAGA_ACCT['password'])\n",
    "Acct.login()"
   ]
  },
  {
   "cell_type": "markdown",
   "metadata": {
    "deletable": true,
    "editable": true
   },
   "source": [
    "_Check Available Repo Data_"
   ]
  },
  {
   "cell_type": "code",
   "execution_count": 5,
   "metadata": {
    "collapsed": false,
    "deletable": true,
    "editable": true
   },
   "outputs": [
    {
     "name": "stdout",
     "output_type": "stream",
     "text": [
      "['IMTorgTestCode--testprj_Java_aSimple']\n",
      "['IMTorg--testprj_Java_aSimple_400da3_\"Thu Mar 02 2017 17:01:59 GMT+0000 (UTC)\"', 'IMTorgTestCode--testprj_Java_aSimple_ac7454_\"Sat Mar 04 2017 15:42:39 GMT+0000 (UTC)\"', 'IMTorgTestCode--testprj_Java_aSimple_ac7454_\"Sat Mar 04 2017 15:47:29 GMT+0000 (UTC)\"']\n"
     ]
    }
   ],
   "source": [
    "Acct.view_data()\n",
    "Acct.view_diagram()"
   ]
  },
  {
   "cell_type": "markdown",
   "metadata": {
    "deletable": true,
    "editable": true
   },
   "source": [
    "### Simple Java Project"
   ]
  },
  {
   "cell_type": "code",
   "execution_count": 6,
   "metadata": {
    "collapsed": false,
    "deletable": true,
    "editable": true
   },
   "outputs": [],
   "source": [
    "# create project\n",
    "JavaRepo = saga.Repo('IMTorgTestCode','information@mgmt-tech.org','testprj_Java_aSimple')\n",
    "JSimple = saga.Project(Acct, JavaRepo)"
   ]
  },
  {
   "cell_type": "markdown",
   "metadata": {
    "deletable": true,
    "editable": true
   },
   "source": [
    "_Load Data from Repo_ "
   ]
  },
  {
   "cell_type": "code",
   "execution_count": 7,
   "metadata": {
    "collapsed": false,
    "deletable": true,
    "editable": true
   },
   "outputs": [
    {
     "name": "stdout",
     "output_type": "stream",
     "text": [
      "COMPLEXITY group records:  14\n",
      " -elapsed time: 0.018756\n",
      "ERROR group records:  0\n",
      " -elapsed time: 0.007676\n",
      "ENTITY_STRUCTURE group records:  10\n",
      " -elapsed time: 0.011541\n",
      "QUALITY group records:  0\n",
      " -elapsed time: 0.007597\n",
      "RELATION group records:  8\n",
      " -elapsed time: 0.007691\n",
      "AUTHOR group records:  6\n",
      " -elapsed time: 0.008075\n",
      "SIZE group records:  14\n",
      " -elapsed time: 0.008332\n",
      "ENTITY_CHARACTERISTIC group records:  25\n",
      " -elapsed time: 0.379007\n",
      "PROJECT group records:  27\n",
      " -elapsed time: 0.011322\n",
      "PROCESS_LOG group records:  0\n",
      " -elapsed time: 0.008313\n",
      "TAG group records:  10\n",
      " -elapsed time: 0.008624\n",
      "Loading completed with no errors\n"
     ]
    }
   ],
   "source": [
    "# load all metric groups\n",
    "JSimple.load_all()"
   ]
  },
  {
   "cell_type": "code",
   "execution_count": 8,
   "metadata": {
    "collapsed": false,
    "deletable": true,
    "editable": true
   },
   "outputs": [],
   "source": [
    "import rpy2\n",
    "%load_ext rpy2.ipython"
   ]
  },
  {
   "cell_type": "code",
   "execution_count": 11,
   "metadata": {
    "collapsed": false
   },
   "outputs": [
    {
     "data": {
      "image/png": "[encoded data removed]"
     },
     "metadata": {},
     "output_type": "display_data"
    }
   ],
   "source": [
    "%%R\n",
    "x = data.frame(replicate(10,sample(0:1,1000,rep=TRUE)))\n",
    "hist(x$X1)"
   ]
  },
  {
   "cell_type": "code",
   "execution_count": 12,
   "metadata": {
    "collapsed": true,
    "deletable": true,
    "editable": true
   },
   "outputs": [],
   "source": [
    "size = JSimple['size']"
   ]
  },
  {
   "cell_type": "code",
   "execution_count": 13,
   "metadata": {
    "collapsed": false,
    "deletable": true,
    "editable": true
   },
   "outputs": [
    {
     "data": {
      "text/plain": [
       "Index(['count', 'files_count', 'files_size', 'hash', 'id', 'loc_add',\n",
       "       'loc_del', 'loc_total', 'modified_file_count', 'original_file_count',\n",
       "       'prj_id', 'project', 'stamp', 'tag_count'],\n",
       "      dtype='object')"
      ]
     },
     "execution_count": 13,
     "metadata": {},
     "output_type": "execute_result"
    }
   ],
   "source": [
    "size.columns"
   ]
  },
  {
   "cell_type": "code",
   "execution_count": 16,
   "metadata": {
    "collapsed": false,
    "deletable": true,
    "editable": true
   },
   "outputs": [],
   "source": [
    "import rpy2.robjects as robjects\n",
    "from rpy2.robjects.packages import importr\n",
    "import pandas.rpy.common as com"
   ]
  },
  {
   "cell_type": "code",
   "execution_count": 17,
   "metadata": {
    "collapsed": false,
    "deletable": true,
    "editable": true
   },
   "outputs": [],
   "source": [
    "rdf = com.convert_to_r_dataframe(size)\n",
    "robjects.globalenv['rdf'] = rdf"
   ]
  },
  {
   "cell_type": "code",
   "execution_count": 49,
   "metadata": {
    "collapsed": false,
    "deletable": true,
    "editable": true
   },
   "outputs": [],
   "source": [
    "stats = importr('stats')\n",
    "base = importr('base')"
   ]
  },
  {
   "cell_type": "code",
   "execution_count": 53,
   "metadata": {
    "collapsed": false,
    "deletable": true,
    "editable": true
   },
   "outputs": [
    {
     "data": {
      "text/plain": [
       "R object with classes: ('table',) mapped to:\n",
       "<Matrix - Python:0x7ff9bae7cfc8 / R:0x77ec230>\n",
       "['Min...., '1st ..., 'Medi..., ..., 'Mean..., '3rd ..., 'Max....]"
      ]
     },
     "execution_count": 53,
     "metadata": {},
     "output_type": "execute_result"
    }
   ],
   "source": [
    "base.summary(rdf)"
   ]
  },
  {
   "cell_type": "code",
   "execution_count": 51,
   "metadata": {
    "collapsed": false,
    "deletable": true,
    "editable": true
   },
   "outputs": [
    {
     "data": {
      "text/plain": [
       "array(['Min.   : 1.00  ', '1st Qu.: 4.25  ', 'Median : 7.50  ',\n",
       "       'Mean   : 7.50  ', '3rd Qu.:10.75  ', 'Max.   :14.00  ',\n",
       "       'Min.   : 42.0  ', '1st Qu.:106.5  ', 'Median :145.5  ',\n",
       "       'Mean   :126.1  ', '3rd Qu.:154.0  ', 'Max.   :154.0  ',\n",
       "       'Min.   :30576278  ', '1st Qu.:53283501  ', 'Median :53319580  ',\n",
       "       'Mean   :51000277  ', '3rd Qu.:53328691  ', 'Max.   :53328715  ',\n",
       "       'Length:14         ', 'Class :AsIs       ', 'Mode  :character  ',\n",
       "       'NA', 'NA', 'NA', 'Min.   : 1.00  ', '1st Qu.: 4.25  ',\n",
       "       'Median : 7.50  ', 'Mean   : 7.50  ', '3rd Qu.:10.75  ',\n",
       "       'Max.   :14.00  ', 'Min.   : 7976  ', '1st Qu.:12682  ',\n",
       "       'Median :18449  ', 'Mean   :16611  ', '3rd Qu.:21054  ',\n",
       "       'Max.   :21063  ', 'Min.   :    0  ', '1st Qu.: 3488  ',\n",
       "       'Median : 8680  ', 'Mean   : 7218  ', '3rd Qu.:11102  ',\n",
       "       'Max.   :11105  ', 'Min.   :7976  ', '1st Qu.:9194  ',\n",
       "       'Median :9768  ', 'Mean   :9394  ', '3rd Qu.:9951  ',\n",
       "       'Max.   :9958  ', 'Min.   : 0.00  ', '1st Qu.:14.25  ',\n",
       "       'Median :19.00  ', 'Mean   :15.21  ', '3rd Qu.:20.00  ',\n",
       "       'Max.   :20.00  ', 'Min.   : 42.0  ', '1st Qu.:106.5  ',\n",
       "       'Median :145.5  ', 'Mean   :126.1  ', '3rd Qu.:154.0  ',\n",
       "       'Max.   :154.0  ', 'Min.   :1  ', '1st Qu.:1  ', 'Median :1  ',\n",
       "       'Mean   :1  ', '3rd Qu.:1  ', 'Max.   :1  ', 'Length:14         ',\n",
       "       'Class :AsIs       ', 'Mode  :character  ', 'NA', 'NA', 'NA',\n",
       "       'Length:14         ', 'Class :AsIs       ', 'Mode  :character  ',\n",
       "       'NA', 'NA', 'NA', 'Min.   :0.00000  ', '1st Qu.:0.00000  ',\n",
       "       'Median :0.00000  ', 'Mean   :0.07143  ', '3rd Qu.:0.00000  ',\n",
       "       'Max.   :1.00000  '], \n",
       "      dtype='<U18')"
      ]
     },
     "execution_count": 51,
     "metadata": {},
     "output_type": "execute_result"
    }
   ],
   "source": [
    "robjects.r('summary(rdf)')"
   ]
  },
  {
   "cell_type": "code",
   "execution_count": 18,
   "metadata": {
    "collapsed": false,
    "deletable": true,
    "editable": true
   },
   "outputs": [
    {
     "data": {
      "text/plain": [
       "array(['Min.   : 1.00  ', '1st Qu.: 4.25  ', 'Median : 7.50  ',\n",
       "       'Mean   : 7.50  ', '3rd Qu.:10.75  ', 'Max.   :14.00  ',\n",
       "       'Min.   : 42.0  ', '1st Qu.:106.5  ', 'Median :145.5  ',\n",
       "       'Mean   :126.1  ', '3rd Qu.:154.0  ', 'Max.   :154.0  ',\n",
       "       'Min.   :30576278  ', '1st Qu.:53283501  ', 'Median :53319580  ',\n",
       "       'Mean   :51000277  ', '3rd Qu.:53328691  ', 'Max.   :53328715  ',\n",
       "       'Length:14         ', 'Class :AsIs       ', 'Mode  :character  ',\n",
       "       'NA', 'NA', 'NA', 'Min.   : 1.00  ', '1st Qu.: 4.25  ',\n",
       "       'Median : 7.50  ', 'Mean   : 7.50  ', '3rd Qu.:10.75  ',\n",
       "       'Max.   :14.00  ', 'Min.   : 7976  ', '1st Qu.:12682  ',\n",
       "       'Median :18449  ', 'Mean   :16611  ', '3rd Qu.:21054  ',\n",
       "       'Max.   :21063  ', 'Min.   :    0  ', '1st Qu.: 3488  ',\n",
       "       'Median : 8680  ', 'Mean   : 7218  ', '3rd Qu.:11102  ',\n",
       "       'Max.   :11105  ', 'Min.   :7976  ', '1st Qu.:9194  ',\n",
       "       'Median :9768  ', 'Mean   :9394  ', '3rd Qu.:9951  ',\n",
       "       'Max.   :9958  ', 'Min.   : 0.00  ', '1st Qu.:14.25  ',\n",
       "       'Median :19.00  ', 'Mean   :15.21  ', '3rd Qu.:20.00  ',\n",
       "       'Max.   :20.00  ', 'Min.   : 42.0  ', '1st Qu.:106.5  ',\n",
       "       'Median :145.5  ', 'Mean   :126.1  ', '3rd Qu.:154.0  ',\n",
       "       'Max.   :154.0  ', 'Min.   :1  ', '1st Qu.:1  ', 'Median :1  ',\n",
       "       'Mean   :1  ', '3rd Qu.:1  ', 'Max.   :1  ', 'Length:14         ',\n",
       "       'Class :AsIs       ', 'Mode  :character  ', 'NA', 'NA', 'NA',\n",
       "       'Length:14         ', 'Class :AsIs       ', 'Mode  :character  ',\n",
       "       'NA', 'NA', 'NA', 'Min.   :0.00000  ', '1st Qu.:0.00000  ',\n",
       "       'Median :0.00000  ', 'Mean   :0.07143  ', '3rd Qu.:0.00000  ',\n",
       "       'Max.   :1.00000  '], \n",
       "      dtype='<U18')"
      ]
     },
     "execution_count": 18,
     "metadata": {},
     "output_type": "execute_result"
    }
   ],
   "source": [
    "%R summary(rdf)\n"
   ]
  },
  {
   "cell_type": "code",
   "execution_count": 19,
   "metadata": {
    "collapsed": false,
    "deletable": true,
    "editable": true
   },
   "outputs": [],
   "source": [
    "import pandas\n",
    "size['timestamp'] = pandas.to_datetime(size.stamp)\n",
    "rdf = com.convert_to_r_dataframe(size)\n",
    "robjects.globalenv['rdf'] = rdf"
   ]
  },
  {
   "cell_type": "code",
   "execution_count": 20,
   "metadata": {
    "collapsed": false,
    "deletable": true,
    "editable": true
   },
   "outputs": [
    {
     "data": {
      "text/plain": [
       "0    2015-12-10 13:58:11\n",
       "1    2015-12-10 14:43:48\n",
       "2    2015-12-10 14:46:29\n",
       "3    2015-12-10 14:51:57\n",
       "4    2015-12-10 14:52:40\n",
       "5    2015-12-10 15:33:23\n",
       "6    2015-12-10 16:15:33\n",
       "7    2015-12-10 16:24:03\n",
       "8    2015-12-10 16:30:12\n",
       "9    2016-02-15 13:52:37\n",
       "10   2016-02-15 09:38:41\n",
       "11   2016-04-18 16:12:52\n",
       "12   2016-06-12 17:21:07\n",
       "13   2016-06-12 06:31:02\n",
       "Name: timestamp, dtype: datetime64[ns]"
      ]
     },
     "execution_count": 20,
     "metadata": {},
     "output_type": "execute_result"
    }
   ],
   "source": [
    "size.timestamp"
   ]
  },
  {
   "cell_type": "code",
   "execution_count": 21,
   "metadata": {
    "collapsed": false,
    "deletable": true,
    "editable": true
   },
   "outputs": [
    {
     "data": {
      "text/plain": [
       "array([  1.44975589e+09,   1.44975863e+09,   1.44975879e+09,\n",
       "         1.44975912e+09,   1.44975916e+09,   1.44976160e+09,\n",
       "         1.44976413e+09,   1.44976464e+09,   1.44976501e+09,\n",
       "         1.45554436e+09,   1.45552912e+09,   1.46099597e+09,\n",
       "         1.46575207e+09,   1.46571306e+09])"
      ]
     },
     "execution_count": 21,
     "metadata": {},
     "output_type": "execute_result"
    }
   ],
   "source": [
    "%R rdf$timestamp"
   ]
  },
  {
   "cell_type": "code",
   "execution_count": 111,
   "metadata": {
    "collapsed": false,
    "deletable": true,
    "editable": true
   },
   "outputs": [
    {
     "data": {
      "image/png": "[encoded data removed]"
     },
     "metadata": {},
     "output_type": "display_data"
    }
   ],
   "source": [
    "%R plot(timestamp~loc_total, rdf)"
   ]
  },
  {
   "cell_type": "code",
   "execution_count": null,
   "metadata": {
    "collapsed": true,
    "deletable": true,
    "editable": true
   },
   "outputs": [],
   "source": []
  }
 ],
 "metadata": {
  "anaconda-cloud": {},
  "kernelspec": {
   "display_name": "Python 3",
   "language": "python",
   "name": "python3"
  },
  "language_info": {
   "codemirror_mode": {
    "name": "ipython",
    "version": 3
   },
   "file_extension": ".py",
   "mimetype": "text/x-python",
   "name": "python",
   "nbconvert_exporter": "python",
   "pygments_lexer": "ipython3",
   "version": "3.5.2"
  }
 },
 "nbformat": 4,
 "nbformat_minor": 0
}
