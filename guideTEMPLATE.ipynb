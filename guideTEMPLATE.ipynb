{
 "cells": [
  {
   "cell_type": "markdown",
   "metadata": {
    "collapsed": true,
    "deletable": true,
    "editable": true
   },
   "source": [
    "### Preparations\n",
    "_Set-up Environment_"
   ]
  },
  {
   "cell_type": "code",
   "execution_count": 1,
   "metadata": {
    "collapsed": false,
    "deletable": true,
    "editable": true
   },
   "outputs": [
    {
     "name": "stdout",
     "output_type": "stream",
     "text": [
      "Account.py   Portfolio.py  __pycache__\tRepo.py\r\n",
      "__init__.py  Project.py    README.md\r\n"
     ]
    }
   ],
   "source": [
    "# Ensure API Wrapper is available and load it\n",
    "! ls ScrumSaga"
   ]
  },
  {
   "cell_type": "code",
   "execution_count": 3,
   "metadata": {
    "collapsed": false,
    "deletable": true,
    "editable": true
   },
   "outputs": [],
   "source": [
    "import sys\n",
    "path = '/home/jovyan/work/notebooks/ScrumSaga'\n",
    "sys.path.append(path)\n",
    "import ScrumSaga as saga"
   ]
  },
  {
   "cell_type": "code",
   "execution_count": 4,
   "metadata": {
    "collapsed": false,
    "deletable": true,
    "editable": true
   },
   "outputs": [],
   "source": [
    "saga.Account._Account__URL = 'http://144.76.39.53:3001/v1'"
   ]
  },
  {
   "cell_type": "code",
   "execution_count": 5,
   "metadata": {
    "collapsed": false,
    "deletable": true,
    "editable": true
   },
   "outputs": [
    {
     "name": "stdout",
     "output_type": "stream",
     "text": [
      "passwords match\n"
     ]
    }
   ],
   "source": [
    "# Acocunt information (must be manipulated on website: scrumsaga.com)\n",
    "SAGA_ACCT = {\"email\":\"dev.team@mgmt-tech.org\",\"password\":\"**********\"}\n",
    "\n",
    "Acct = saga.Account(acct_email=SAGA_ACCT['email'], acct_password=SAGA_ACCT['password'])\n",
    "Acct.login()"
   ]
  },
  {
   "cell_type": "markdown",
   "metadata": {
    "deletable": true,
    "editable": true
   },
   "source": [
    "_Check Available Repo Data_"
   ]
  },
  {
   "cell_type": "code",
   "execution_count": 6,
   "metadata": {
    "collapsed": false,
    "deletable": true,
    "editable": true
   },
   "outputs": [
    {
     "name": "stdout",
     "output_type": "stream",
     "text": [
      "['IMTorgTestCode--testprj_Java_aSimple']\n",
      "['IMTorg--testprj_Java_aSimple_400da3_\"Thu Mar 02 2017 17:01:59 GMT+0000 (UTC)\"', 'IMTorgTestCode--testprj_Java_aSimple_ac7454_\"Sat Mar 04 2017 15:42:39 GMT+0000 (UTC)\"', 'IMTorgTestCode--testprj_Java_aSimple_ac7454_\"Sat Mar 04 2017 15:47:29 GMT+0000 (UTC)\"']\n"
     ]
    }
   ],
   "source": [
    "Acct.view_data()\n",
    "Acct.view_diagram()"
   ]
  },
  {
   "cell_type": "markdown",
   "metadata": {
    "deletable": true,
    "editable": true
   },
   "source": [
    "### Simple Java Project"
   ]
  },
  {
   "cell_type": "code",
   "execution_count": 7,
   "metadata": {
    "collapsed": false,
    "deletable": true,
    "editable": true
   },
   "outputs": [],
   "source": [
    "# create project\n",
    "JavaRepo = saga.Repo('IMTorgTestCode','information@mgmt-tech.org','testprj_Java_aSimple')\n",
    "JSimple = saga.Project(Acct, JavaRepo)"
   ]
  },
  {
   "cell_type": "markdown",
   "metadata": {
    "deletable": true,
    "editable": true
   },
   "source": [
    "_Load Data from Repo_ "
   ]
  },
  {
   "cell_type": "code",
   "execution_count": 8,
   "metadata": {
    "collapsed": false,
    "deletable": true,
    "editable": true
   },
   "outputs": [
    {
     "name": "stdout",
     "output_type": "stream",
     "text": [
      "SIZE group records:  14\n",
      " -elapsed time: 0.010567\n",
      "ENTITY_STRUCTURE group records:  10\n",
      " -elapsed time: 0.013414\n",
      "COMPLEXITY group records:  14\n",
      " -elapsed time: 0.019848\n",
      "PROJECT group records:  27\n",
      " -elapsed time: 0.010727\n",
      "QUALITY group records:  0\n",
      " -elapsed time: 0.008014\n",
      "ENTITY_CHARACTERISTIC group records:  25\n",
      " -elapsed time: 0.103594\n",
      "TAG group records:  10\n",
      " -elapsed time: 0.009926\n",
      "RELATION group records:  8\n",
      " -elapsed time: 0.008564\n",
      "ERROR group records:  0\n",
      " -elapsed time: 0.007183\n",
      "AUTHOR group records:  6\n",
      " -elapsed time: 0.007582\n",
      "PROCESS_LOG group records:  0\n",
      " -elapsed time: 0.006876\n",
      "Loading completed with no errors\n"
     ]
    }
   ],
   "source": [
    "# load all metric groups\n",
    "JSimple.load_all()"
   ]
  },
  {
   "cell_type": "code",
   "execution_count": 10,
   "metadata": {
    "collapsed": true,
    "deletable": true,
    "editable": true
   },
   "outputs": [],
   "source": [
    "size = JSimple['size']"
   ]
  },
  {
   "cell_type": "code",
   "execution_count": 43,
   "metadata": {
    "collapsed": false,
    "deletable": true,
    "editable": true
   },
   "outputs": [
    {
     "data": {
      "text/plain": [
       "Index(['count', 'files_count', 'files_size', 'hash', 'id', 'loc_add',\n",
       "       'loc_del', 'loc_total', 'modified_file_count', 'original_file_count',\n",
       "       'prj_id', 'project', 'stamp', 'tag_count'],\n",
       "      dtype='object')"
      ]
     },
     "execution_count": 43,
     "metadata": {},
     "output_type": "execute_result"
    }
   ],
   "source": [
    "size.columns"
   ]
  },
  {
   "cell_type": "code",
   "execution_count": 101,
   "metadata": {
    "collapsed": false,
    "deletable": true,
    "editable": true
   },
   "outputs": [],
   "source": [
    "import pandas\n",
    "size['timestamp'] = pandas.to_datetime(size.stamp)\n",
    "rdf = com.convert_to_r_dataframe(size)\n",
    "robjects.globalenv['rdf'] = rdf"
   ]
  },
  {
   "cell_type": "code",
   "execution_count": null,
   "metadata": {
    "collapsed": true,
    "deletable": true,
    "editable": true
   },
   "outputs": [],
   "source": []
  }
 ],
 "metadata": {
  "anaconda-cloud": {},
  "kernelspec": {
   "display_name": "Python 3",
   "language": "python",
   "name": "python3"
  },
  "language_info": {
   "codemirror_mode": {
    "name": "ipython",
    "version": 3
   },
   "file_extension": ".py",
   "mimetype": "text/x-python",
   "name": "python",
   "nbconvert_exporter": "python",
   "pygments_lexer": "ipython3",
   "version": "3.5.2"
  }
 },
 "nbformat": 4,
 "nbformat_minor": 0
}
