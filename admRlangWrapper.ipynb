{
 "cells": [
  {
   "cell_type": "markdown",
   "metadata": {
    "deletable": true,
    "editable": true
   },
   "source": [
    "# R Language API Wrapper, Prototype"
   ]
  },
  {
   "cell_type": "code",
   "execution_count": 1,
   "metadata": {
    "collapsed": false,
    "deletable": true,
    "editable": true
   },
   "outputs": [
    {
     "data": {
      "text/html": [
       "'/home/jovyan/work/notebooks'"
      ],
      "text/latex": [
       "'/home/jovyan/work/notebooks'"
      ],
      "text/markdown": [
       "'/home/jovyan/work/notebooks'"
      ],
      "text/plain": [
       "[1] \"/home/jovyan/work/notebooks\""
      ]
     },
     "metadata": {},
     "output_type": "display_data"
    },
    {
     "data": {
      "text/html": [
       "<ol class=list-inline>\n",
       "\t<li>'admApiWrapper.ipynb'</li>\n",
       "\t<li>'admProcessingTimeEstimation.ipynb'</li>\n",
       "\t<li>'admPythonTest.ipynb'</li>\n",
       "\t<li>'admRlangWrapper.ipynb'</li>\n",
       "\t<li>'admRPy2.ipynb'</li>\n",
       "\t<li>'guideComparisonOfJsFrameworks.ipynb'</li>\n",
       "\t<li>'guideHelloWorld-Py.ipynb'</li>\n",
       "\t<li>'guideHelloWorld-R.ipynb'</li>\n",
       "\t<li>'guideTechniquesForSoftware.ipynb'</li>\n",
       "\t<li>'guideTEMPLATE.ipynb'</li>\n",
       "\t<li>'guideWorkFlow.ipynb'</li>\n",
       "\t<li>'guideWorkingWithDifferentDataGroups.ipynb'</li>\n",
       "\t<li>'README.md'</li>\n",
       "\t<li>'ScrumSaga-Py'</li>\n",
       "\t<li>'ScrumSagaR'</li>\n",
       "\t<li>'Test'</li>\n",
       "</ol>\n"
      ],
      "text/latex": [
       "\\begin{enumerate*}\n",
       "\\item 'admApiWrapper.ipynb'\n",
       "\\item 'admProcessingTimeEstimation.ipynb'\n",
       "\\item 'admPythonTest.ipynb'\n",
       "\\item 'admRlangWrapper.ipynb'\n",
       "\\item 'admRPy2.ipynb'\n",
       "\\item 'guideComparisonOfJsFrameworks.ipynb'\n",
       "\\item 'guideHelloWorld-Py.ipynb'\n",
       "\\item 'guideHelloWorld-R.ipynb'\n",
       "\\item 'guideTechniquesForSoftware.ipynb'\n",
       "\\item 'guideTEMPLATE.ipynb'\n",
       "\\item 'guideWorkFlow.ipynb'\n",
       "\\item 'guideWorkingWithDifferentDataGroups.ipynb'\n",
       "\\item 'README.md'\n",
       "\\item 'ScrumSaga-Py'\n",
       "\\item 'ScrumSagaR'\n",
       "\\item 'Test'\n",
       "\\end{enumerate*}\n"
      ],
      "text/markdown": [
       "1. 'admApiWrapper.ipynb'\n",
       "2. 'admProcessingTimeEstimation.ipynb'\n",
       "3. 'admPythonTest.ipynb'\n",
       "4. 'admRlangWrapper.ipynb'\n",
       "5. 'admRPy2.ipynb'\n",
       "6. 'guideComparisonOfJsFrameworks.ipynb'\n",
       "7. 'guideHelloWorld-Py.ipynb'\n",
       "8. 'guideHelloWorld-R.ipynb'\n",
       "9. 'guideTechniquesForSoftware.ipynb'\n",
       "10. 'guideTEMPLATE.ipynb'\n",
       "11. 'guideWorkFlow.ipynb'\n",
       "12. 'guideWorkingWithDifferentDataGroups.ipynb'\n",
       "13. 'README.md'\n",
       "14. 'ScrumSaga-Py'\n",
       "15. 'ScrumSagaR'\n",
       "16. 'Test'\n",
       "\n",
       "\n"
      ],
      "text/plain": [
       " [1] \"admApiWrapper.ipynb\"                      \n",
       " [2] \"admProcessingTimeEstimation.ipynb\"        \n",
       " [3] \"admPythonTest.ipynb\"                      \n",
       " [4] \"admRlangWrapper.ipynb\"                    \n",
       " [5] \"admRPy2.ipynb\"                            \n",
       " [6] \"guideComparisonOfJsFrameworks.ipynb\"      \n",
       " [7] \"guideHelloWorld-Py.ipynb\"                 \n",
       " [8] \"guideHelloWorld-R.ipynb\"                  \n",
       " [9] \"guideTechniquesForSoftware.ipynb\"         \n",
       "[10] \"guideTEMPLATE.ipynb\"                      \n",
       "[11] \"guideWorkFlow.ipynb\"                      \n",
       "[12] \"guideWorkingWithDifferentDataGroups.ipynb\"\n",
       "[13] \"README.md\"                                \n",
       "[14] \"ScrumSaga-Py\"                             \n",
       "[15] \"ScrumSagaR\"                               \n",
       "[16] \"Test\"                                     "
      ]
     },
     "metadata": {},
     "output_type": "display_data"
    }
   ],
   "source": [
    "getwd()\n",
    "#setwd( paste( getwd(),'/ScrumSagaR',sep=''))\n",
    "list.files()"
   ]
  },
  {
   "cell_type": "code",
   "execution_count": 1,
   "metadata": {
    "collapsed": false,
    "deletable": true,
    "editable": true
   },
   "outputs": [],
   "source": [
    "# Acocunt information (must be manipulated on website: scrumsaga.com)\n",
    "EMAIL='dev.team@mgmt-tech.org'\n",
    "PASS='IMTorgTestUserPassword'"
   ]
  },
  {
   "cell_type": "markdown",
   "metadata": {
    "deletable": true,
    "editable": true
   },
   "source": [
    "---\n",
    "_Begin package__"
   ]
  },
  {
   "cell_type": "code",
   "execution_count": 2,
   "metadata": {
    "collapsed": false,
    "deletable": true,
    "editable": true
   },
   "outputs": [],
   "source": [
    "library(httr)\n",
    "library(jsonlite)\n",
    "\n",
    "\n",
    "Account <- function(email, password){\n",
    "    \n",
    "    thisEnv <- environment()\n",
    "    \n",
    "    URL = \"http://api.scrumsaga.com/v1\"\n",
    "    URL_LOCAL = '144.76.39.53:3001/v1'\n",
    "    \n",
    "    rteLogin = \"/login\"\n",
    "    rteAcctData = '/acctData'\n",
    "    rteAcctDiagram = '/acctDiagram'\n",
    "    \n",
    "    EMAIL <- email\n",
    "    PASSWORD <- password\n",
    "    TOKEN = 'TOKEN'\n",
    "\n",
    "      me <- list(\n",
    "          thisEnv = thisEnv,\n",
    "          getToken = function(){\n",
    "              return(get(\"TOKEN\",thisEnv))\n",
    "          },\n",
    "          setToken = function(value){\n",
    "              return(assign(\"TOKEN\",value,thisEnv))\n",
    "          },\n",
    "          getUrl = function(){\n",
    "              return(get(\"URL_LOCAL\",thisEnv))\n",
    "          },         \n",
    "          api_status = function(){\n",
    "              uri = URL_LOCAL\n",
    "              resp = GET(uri)\n",
    "              if (http_type(resp) != \"application/json\") {\n",
    "                  stop(\"API did not return json\", call. = FALSE)\n",
    "              }\n",
    "              parsed = jsonlite::fromJSON(content(resp, \"text\"), simplifyVector = FALSE)\n",
    "              structure(\n",
    "                  list(\n",
    "                      msg = parsed$msg,\n",
    "                      path = uri,\n",
    "                      response = resp\n",
    "                  ),\n",
    "                  class = \"resp\"\n",
    "              )   \n",
    "          },\n",
    "          login = function() {\n",
    "              uri = paste(URL_LOCAL, rteLogin, sep='')\n",
    "              resp = POST(uri, body = list(email=EMAIL, password=PASSWORD), encode = \"json\")\n",
    "              if (http_type(resp) != \"application/json\") {\n",
    "                  stop(\"API did not return json\", call. = FALSE)\n",
    "              }\n",
    "              parsed = jsonlite::fromJSON(content(resp, \"text\"), simplifyVector = FALSE)\n",
    "              me$setToken( paste('JWT',parsed$token ) )\n",
    "              structure(\n",
    "                  list(\n",
    "                      msg = parsed$msg,\n",
    "                      path = uri,\n",
    "                      response = resp\n",
    "                  ),\n",
    "                  class = \"resp\"\n",
    "              )\n",
    "          },\n",
    "          check_data = function() {\n",
    "              TOKEN = me$getToken()\n",
    "              uri = paste(URL_LOCAL, rteAcctData, sep='')\n",
    "              resp = POST(uri, add_headers(Authorization=TOKEN))\n",
    "              if (http_type(resp) != \"application/json\") {\n",
    "                  stop(\"API did not return json\", call. = FALSE)\n",
    "              }\n",
    "              parsed = jsonlite::fromJSON(content(resp, \"text\"), simplifyVector = FALSE)\n",
    "              structure(\n",
    "                  list(\n",
    "                      msg = parsed$msg,\n",
    "                      path = uri,\n",
    "                      response = resp,\n",
    "                      data = parsed$data\n",
    "                  ),\n",
    "                  class = \"resp\"\n",
    "              )\n",
    "          },\n",
    "          check_diagram = function() {\n",
    "              TOKEN = me$getToken()\n",
    "              uri = paste(URL_LOCAL, rteAcctDiagram, sep='')\n",
    "              resp = POST(uri, add_headers(Authorization=TOKEN))\n",
    "              if (http_type(resp) != \"application/json\") {\n",
    "                  stop(\"API did not return json\", call. = FALSE)\n",
    "              }\n",
    "              parsed = jsonlite::fromJSON(content(resp, \"text\"), simplifyVector = FALSE)\n",
    "              structure(\n",
    "                  list(\n",
    "                      msg = parsed$msg,\n",
    "                      path = uri,\n",
    "                      response = resp,\n",
    "                      data = parsed$data\n",
    "                  ),\n",
    "                  class = \"resp\"\n",
    "              )\n",
    "          }\n",
    "          \n",
    "                \n",
    "      )\n",
    "\n",
    "      ## Define the value of the list within the current environment.\n",
    "      assign('this',me,envir=thisEnv)\n",
    "\n",
    "      ## Set the name for the class\n",
    "      class(me) <- append(class(me),\"Account\")\n",
    "      return(me)\n",
    "}"
   ]
  },
  {
   "cell_type": "code",
   "execution_count": 92,
   "metadata": {
    "collapsed": false,
    "deletable": true,
    "editable": true
   },
   "outputs": [
    {
     "data": {
      "text/plain": [
       "$msg\n",
       "[1] \"passwords match\"\n",
       "\n",
       "$path\n",
       "[1] \"144.76.39.53:3001/v1/login\"\n",
       "\n",
       "$response\n",
       "Response [http://144.76.39.53:3001/v1/login]\n",
       "  Date: 2017-03-11 16:13\n",
       "  Status: 200\n",
       "  Content-Type: application/json; charset=utf-8\n",
       "  Size: 173 B\n",
       "\n",
       "\n",
       "attr(,\"class\")\n",
       "[1] \"resp\""
      ]
     },
     "metadata": {},
     "output_type": "display_data"
    }
   ],
   "source": [
    "userAcct <- Account(EMAIL, PASS)\n",
    "userAcct$login()"
   ]
  },
  {
   "cell_type": "markdown",
   "metadata": {
    "collapsed": false,
    "deletable": true,
    "editable": true
   },
   "source": [
    "names(userAcct)\n",
    "userAcct$getToken()\n",
    "userAcct$getUrl()\n",
    "userAcct$api_status()"
   ]
  },
  {
   "cell_type": "markdown",
   "metadata": {
    "collapsed": false,
    "deletable": true,
    "editable": true
   },
   "source": [
    "userAcct$login()\n",
    "userAcct$check_data()\n",
    "userAcct$check_diagram()"
   ]
  },
  {
   "cell_type": "code",
   "execution_count": null,
   "metadata": {
    "collapsed": true,
    "deletable": true,
    "editable": true
   },
   "outputs": [],
   "source": []
  },
  {
   "cell_type": "code",
   "execution_count": null,
   "metadata": {
    "collapsed": true,
    "deletable": true,
    "editable": true
   },
   "outputs": [],
   "source": []
  },
  {
   "cell_type": "code",
   "execution_count": null,
   "metadata": {
    "collapsed": false,
    "deletable": true,
    "editable": true
   },
   "outputs": [],
   "source": []
  },
  {
   "cell_type": "code",
   "execution_count": 7,
   "metadata": {
    "collapsed": false,
    "deletable": true,
    "editable": true
   },
   "outputs": [
    {
     "data": {
      "text/plain": [
       "[1] ‘1.2.1’"
      ]
     },
     "metadata": {},
     "output_type": "display_data"
    }
   ],
   "source": [
    "packageVersion('httr')"
   ]
  },
  {
   "cell_type": "code",
   "execution_count": 86,
   "metadata": {
    "collapsed": false,
    "deletable": true,
    "editable": true
   },
   "outputs": [],
   "source": [
    "payload=list(\n",
    "namespace = 'IMTorgTestCode',\n",
    "email = 'information@mgm-tech.org',\n",
    "repo = 'testprj_Java_aSimple',\n",
    "selection = 'all'\n",
    ")"
   ]
  },
  {
   "cell_type": "code",
   "execution_count": 88,
   "metadata": {
    "collapsed": false
   },
   "outputs": [
    {
     "name": "stdout",
     "output_type": "stream",
     "text": [
      "$namespace\n",
      "[1] \"IMTorgTestCode\"\n",
      "\n",
      "$email\n",
      "[1] \"information@mgm-tech.org\"\n",
      "\n",
      "$repo\n",
      "[1] \"testprj_Java_aSimple\"\n",
      "\n",
      "$selection\n",
      "[1] \"all\"\n",
      "\n"
     ]
    }
   ],
   "source": [
    "print( payload )"
   ]
  },
  {
   "cell_type": "code",
   "execution_count": null,
   "metadata": {
    "collapsed": true
   },
   "outputs": [],
   "source": []
  },
  {
   "cell_type": "markdown",
   "metadata": {
    "collapsed": true,
    "deletable": true,
    "editable": true
   },
   "source": [
    "# INPUTS\n",
    "argGroups = c('project', 'size', 'author', 'entity_structure', 'entity_characteristic', 'complexity', 'relation', 'error','quality','tag','process_log')\n",
    "argSelection = c('current', 'all')\n",
    "rtePathLoadGroup = '/load'\n",
    "rtePathExtract = '/extract'\n",
    "\n",
    "ACCT = userAcct\n",
    "REPO_NAMESPC = 'IMTorg'\n",
    "REPO_EMAIL = 'information@mgmt-tech.org'\n",
    "REPO_NAME = 'testprj_Java_aSimple'"
   ]
  },
  {
   "cell_type": "code",
   "execution_count": 6,
   "metadata": {
    "collapsed": false,
    "deletable": true,
    "editable": true
   },
   "outputs": [
    {
     "data": {
      "text/plain": [
       "Response [http://144.76.39.53:3001/v1/extract]\n",
       "  Date: 2017-03-11 15:07\n",
       "  Status: 200\n",
       "  Content-Type: application/json; charset=utf-8\n",
       "  Size: 39 B\n"
      ]
     },
     "metadata": {},
     "output_type": "display_data"
    },
    {
     "data": {
      "text/html": [
       "<strong>$message</strong> = 'No need to process, again'"
      ],
      "text/latex": [
       "\\textbf{\\$message} = 'No need to process, again'"
      ],
      "text/markdown": [
       "**$message** = 'No need to process, again'"
      ],
      "text/plain": [
       "$message\n",
       "[1] \"No need to process, again\"\n"
      ]
     },
     "metadata": {},
     "output_type": "display_data"
    }
   ],
   "source": [
    "# EXTRACT\n",
    "TOKEN = userAcct$getToken()\n",
    "uri = '144.76.39.53:3001/v1/extract'\n",
    "#payload = list(namespace=REPO_NAMESPC, email=REPO_EMAIL, repo=REPO_NAME, select='current')\n",
    "\n",
    "resp = POST(uri, add_headers(Authorization=TOKEN), body=payload, encode = \"json\" )\n",
    "resp\n",
    "jsonlite::fromJSON(content(resp, \"text\"), simplifyVector = FALSE)"
   ]
  },
  {
   "cell_type": "code",
   "execution_count": null,
   "metadata": {
    "collapsed": false,
    "deletable": true,
    "editable": true
   },
   "outputs": [],
   "source": []
  },
  {
   "cell_type": "code",
   "execution_count": 99,
   "metadata": {
    "collapsed": false,
    "deletable": true,
    "editable": true
   },
   "outputs": [],
   "source": [
    "library(httr)\n",
    "library(jsonlite)\n",
    "\n",
    "\n",
    "Project <- function(account, repo_namespace, repo_email, repo_name){\n",
    "    \n",
    "    thisEnv <- environment()\n",
    "    \n",
    "    # system (class) config\n",
    "    argGroups = c('project', 'size', 'author', 'entity_structure', 'entity_characteristic', 'complexity', 'relation', 'error','quality','tag','process_log')\n",
    "    argSelection = c('current', 'all')\n",
    "    # API paths\n",
    "    rtePathLoadGroup = '/load/'\n",
    "    rtePathExtract = '/extract'\n",
    "    \n",
    "    ACCT = account\n",
    "    PAYLOAD=list(\n",
    "        namespace = repo_namespace,\n",
    "        email = repo_email,\n",
    "        repo = repo_name\n",
    "    )\n",
    "\n",
    "      me <- list(\n",
    "          thisEnv = thisEnv,\n",
    "          getGroups = function(){\n",
    "              return(get(\"argGroups\",thisEnv))\n",
    "          },\n",
    "          getAcct = function(){\n",
    "              return(get(\"ACCT\",thisEnv))\n",
    "          }, \n",
    "          getPayload = function(){\n",
    "              return(get(\"PAYLOAD\",thisEnv))\n",
    "          },\n",
    "          extract = function(select='all'){\n",
    "              ACCT = me$getAcct()\n",
    "              PAYLOAD = me$getPayload()\n",
    "              PAYLOAD$selection = select\n",
    "              TOKEN = ACCT$getToken()\n",
    "              rteExtractData = 'extract'\n",
    "              uri = paste( ACCT$getUrl(), rteExtractData, sep='/')\n",
    "              resp = POST(uri, add_headers(Authorization=TOKEN), body=PAYLOAD , encode = \"json\")\n",
    "              if (http_type(resp) != \"application/json\") {\n",
    "                  stop(\"API did not return json\", call. = FALSE)\n",
    "              }\n",
    "              parsed = jsonlite::fromJSON(content(resp, \"text\"), simplifyVector = FALSE)\n",
    "              structure(\n",
    "                  list(\n",
    "                      msg = parsed$message,\n",
    "                      path = uri,\n",
    "                      response = resp,\n",
    "                      data = parsed$data\n",
    "                  ),\n",
    "                  class = \"resp\"\n",
    "              )\n",
    "          },\n",
    "          load_group = function(group='project') {\n",
    "              ACCT=me$getAcct()\n",
    "              PAYLOAD=me$getPayload()\n",
    "              TOKEN = ACCT$getToken()\n",
    "              rteLoadData = 'load'\n",
    "              uri = paste( ACCT$getUrl(), rteLoadData, group, sep='/')\n",
    "              resp = POST(uri, add_headers(Authorization=TOKEN), body=PAYLOAD , encode = \"json\")\n",
    "              if (http_type(resp) != \"application/json\") {\n",
    "                  stop(\"API did not return json\", call. = FALSE)\n",
    "              }\n",
    "              data = data.frame(jsonlite::fromJSON(content(resp,'text'))$data)\n",
    "            return(data)\n",
    "          }\n",
    "        \n",
    "      )\n",
    "\n",
    "      ## Define the value of the list within the current environment.\n",
    "      assign('this',me,envir=thisEnv)\n",
    "\n",
    "      ## Set the name for the class\n",
    "      class(me) <- append(class(me),\"Project\")\n",
    "      return(me)\n",
    "}"
   ]
  },
  {
   "cell_type": "code",
   "execution_count": 100,
   "metadata": {
    "collapsed": false,
    "deletable": true,
    "editable": true
   },
   "outputs": [
    {
     "data": {
      "text/html": [
       "<ol class=list-inline>\n",
       "\t<li>'thisEnv'</li>\n",
       "\t<li>'getGroups'</li>\n",
       "\t<li>'getAcct'</li>\n",
       "\t<li>'getPayload'</li>\n",
       "\t<li>'extract'</li>\n",
       "\t<li>'load_group'</li>\n",
       "</ol>\n"
      ],
      "text/latex": [
       "\\begin{enumerate*}\n",
       "\\item 'thisEnv'\n",
       "\\item 'getGroups'\n",
       "\\item 'getAcct'\n",
       "\\item 'getPayload'\n",
       "\\item 'extract'\n",
       "\\item 'load\\_group'\n",
       "\\end{enumerate*}\n"
      ],
      "text/markdown": [
       "1. 'thisEnv'\n",
       "2. 'getGroups'\n",
       "3. 'getAcct'\n",
       "4. 'getPayload'\n",
       "5. 'extract'\n",
       "6. 'load_group'\n",
       "\n",
       "\n"
      ],
      "text/plain": [
       "[1] \"thisEnv\"    \"getGroups\"  \"getAcct\"    \"getPayload\" \"extract\"   \n",
       "[6] \"load_group\""
      ]
     },
     "metadata": {},
     "output_type": "display_data"
    },
    {
     "data": {
      "text/html": [
       "<ol class=list-inline>\n",
       "\t<li>'project'</li>\n",
       "\t<li>'size'</li>\n",
       "\t<li>'author'</li>\n",
       "\t<li>'entity_structure'</li>\n",
       "\t<li>'entity_characteristic'</li>\n",
       "\t<li>'complexity'</li>\n",
       "\t<li>'relation'</li>\n",
       "\t<li>'error'</li>\n",
       "\t<li>'quality'</li>\n",
       "\t<li>'tag'</li>\n",
       "\t<li>'process_log'</li>\n",
       "</ol>\n"
      ],
      "text/latex": [
       "\\begin{enumerate*}\n",
       "\\item 'project'\n",
       "\\item 'size'\n",
       "\\item 'author'\n",
       "\\item 'entity\\_structure'\n",
       "\\item 'entity\\_characteristic'\n",
       "\\item 'complexity'\n",
       "\\item 'relation'\n",
       "\\item 'error'\n",
       "\\item 'quality'\n",
       "\\item 'tag'\n",
       "\\item 'process\\_log'\n",
       "\\end{enumerate*}\n"
      ],
      "text/markdown": [
       "1. 'project'\n",
       "2. 'size'\n",
       "3. 'author'\n",
       "4. 'entity_structure'\n",
       "5. 'entity_characteristic'\n",
       "6. 'complexity'\n",
       "7. 'relation'\n",
       "8. 'error'\n",
       "9. 'quality'\n",
       "10. 'tag'\n",
       "11. 'process_log'\n",
       "\n",
       "\n"
      ],
      "text/plain": [
       " [1] \"project\"               \"size\"                  \"author\"               \n",
       " [4] \"entity_structure\"      \"entity_characteristic\" \"complexity\"           \n",
       " [7] \"relation\"              \"error\"                 \"quality\"              \n",
       "[10] \"tag\"                   \"process_log\"          "
      ]
     },
     "metadata": {},
     "output_type": "display_data"
    }
   ],
   "source": [
    "jSimple = Project(account=userAcct, repo_namespace='IMTorgTestCode', repo_emai='information@mgm-tech.org', repo_name='testprj_Java_aSimple')\n",
    "names(jSimple)\n",
    "jSimple$getGroups()\n",
    "#jSimple$getAcct()"
   ]
  },
  {
   "cell_type": "code",
   "execution_count": 101,
   "metadata": {
    "collapsed": false,
    "deletable": true,
    "editable": true
   },
   "outputs": [
    {
     "data": {
      "text/plain": [
       "$msg\n",
       "[1] \"No need to process, again\"\n",
       "\n",
       "$path\n",
       "[1] \"144.76.39.53:3001/v1/extract\"\n",
       "\n",
       "$response\n",
       "Response [http://144.76.39.53:3001/v1/extract]\n",
       "  Date: 2017-03-11 16:14\n",
       "  Status: 200\n",
       "  Content-Type: application/json; charset=utf-8\n",
       "  Size: 39 B\n",
       "\n",
       "\n",
       "$data\n",
       "NULL\n",
       "\n",
       "attr(,\"class\")\n",
       "[1] \"resp\""
      ]
     },
     "metadata": {},
     "output_type": "display_data"
    }
   ],
   "source": [
    "jSimple$extract(select='all')"
   ]
  },
  {
   "cell_type": "code",
   "execution_count": 102,
   "metadata": {
    "collapsed": false,
    "deletable": true,
    "editable": true
   },
   "outputs": [
    {
     "data": {
      "text/html": [
       "<ol class=list-inline>\n",
       "\t<li>14</li>\n",
       "\t<li>14</li>\n",
       "</ol>\n"
      ],
      "text/latex": [
       "\\begin{enumerate*}\n",
       "\\item 14\n",
       "\\item 14\n",
       "\\end{enumerate*}\n"
      ],
      "text/markdown": [
       "1. 14\n",
       "2. 14\n",
       "\n",
       "\n"
      ],
      "text/plain": [
       "[1] 14 14"
      ]
     },
     "metadata": {},
     "output_type": "display_data"
    }
   ],
   "source": [
    "Prj = jSimple$load_group(group='size')\n",
    "dim(Prj)"
   ]
  },
  {
   "cell_type": "code",
   "execution_count": null,
   "metadata": {
    "collapsed": true
   },
   "outputs": [],
   "source": []
  },
  {
   "cell_type": "code",
   "execution_count": null,
   "metadata": {
    "collapsed": true
   },
   "outputs": [],
   "source": []
  },
  {
   "cell_type": "code",
   "execution_count": null,
   "metadata": {
    "collapsed": true
   },
   "outputs": [],
   "source": []
  },
  {
   "cell_type": "code",
   "execution_count": null,
   "metadata": {
    "collapsed": true
   },
   "outputs": [],
   "source": []
  },
  {
   "cell_type": "code",
   "execution_count": null,
   "metadata": {
    "collapsed": true
   },
   "outputs": [],
   "source": []
  },
  {
   "cell_type": "markdown",
   "metadata": {
    "collapsed": true,
    "deletable": true,
    "editable": true
   },
   "source": [
    "# Archive"
   ]
  },
  {
   "cell_type": "code",
   "execution_count": 7,
   "metadata": {
    "collapsed": false,
    "deletable": true,
    "editable": true
   },
   "outputs": [
    {
     "data": {
      "text/plain": [
       "Response [http://144.76.39.53:3001/v1/load/project]\n",
       "  Date: 2017-03-11 15:07\n",
       "  Status: 200\n",
       "  Content-Type: application/json; charset=utf-8\n",
       "  Size: 9.69 kB\n"
      ]
     },
     "metadata": {},
     "output_type": "display_data"
    },
    {
     "data": {
      "text/html": [
       "<ol class=list-inline>\n",
       "\t<li>14</li>\n",
       "\t<li>27</li>\n",
       "</ol>\n"
      ],
      "text/latex": [
       "\\begin{enumerate*}\n",
       "\\item 14\n",
       "\\item 27\n",
       "\\end{enumerate*}\n"
      ],
      "text/markdown": [
       "1. 14\n",
       "2. 27\n",
       "\n",
       "\n"
      ],
      "text/plain": [
       "[1] 14 27"
      ]
     },
     "metadata": {},
     "output_type": "display_data"
    }
   ],
   "source": [
    "#LOAD\n",
    "TOKEN = userAcct$getToken()\n",
    "rte2 = '/load/project'\n",
    "uri = paste(userAcct$getUrl(), rte2, sep='')\n",
    "\n",
    "resp = POST(uri, add_headers(Authorization=TOKEN), body=payload, encode='json')\n",
    "resp\n",
    "Prj = data.frame(jsonlite::fromJSON(content(resp,'text'))$data)\n",
    "\n",
    "dim(Prj)"
   ]
  },
  {
   "cell_type": "code",
   "execution_count": 15,
   "metadata": {
    "collapsed": false,
    "deletable": true,
    "editable": true
   },
   "outputs": [
    {
     "data": {
      "text/html": [
       "<ol class=list-inline>\n",
       "\t<li>701</li>\n",
       "\t<li>8</li>\n",
       "</ol>\n"
      ],
      "text/latex": [
       "\\begin{enumerate*}\n",
       "\\item 701\n",
       "\\item 8\n",
       "\\end{enumerate*}\n"
      ],
      "text/markdown": [
       "1. 701\n",
       "2. 8\n",
       "\n",
       "\n"
      ],
      "text/plain": [
       "[1] 701   8"
      ]
     },
     "metadata": {},
     "output_type": "display_data"
    }
   ],
   "source": [
    "        load_group = function(ACCT, PAYLOAD, GROUP) {\n",
    "              TOKEN = ACCT$getToken()\n",
    "              rteLoadData = 'load'\n",
    "              uri = paste( ACCT$getUrl(), rteLoadData, GROUP, sep='/')\n",
    "              payload = PAYLOAD\n",
    "              resp = POST(uri, add_headers(Authorization=TOKEN), body=payload , encode = \"json\")\n",
    "\n",
    "              if (http_type(resp) != \"application/json\") {\n",
    "                  stop(\"API did not return json\", call. = FALSE)\n",
    "              }\n",
    "              data = data.frame(jsonlite::fromJSON(content(resp,'text'))$data)\n",
    "            return(data)\n",
    "          }\n",
    "\n",
    "\n",
    "Prj = load_group(ACCT=userAcct, PAYLOAD=payload, GROUP='error')\n",
    "dim(Prj)"
   ]
  }
 ],
 "metadata": {
  "kernelspec": {
   "display_name": "R",
   "language": "R",
   "name": "ir"
  },
  "language_info": {
   "codemirror_mode": "r",
   "file_extension": ".r",
   "mimetype": "text/x-r-source",
   "name": "R",
   "pygments_lexer": "r",
   "version": "3.3.2"
  }
 },
 "nbformat": 4,
 "nbformat_minor": 2
}
