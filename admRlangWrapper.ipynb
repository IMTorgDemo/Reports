{
 "cells": [
  {
   "cell_type": "markdown",
   "metadata": {
    "deletable": true,
    "editable": true
   },
   "source": [
    "# R Language API Wrapper, Prototype"
   ]
  },
  {
   "cell_type": "code",
   "execution_count": 1,
   "metadata": {
    "collapsed": false,
    "deletable": true,
    "editable": true
   },
   "outputs": [
    {
     "data": {
      "text/html": [
       "'/home/jovyan/work/notebooks'"
      ],
      "text/latex": [
       "'/home/jovyan/work/notebooks'"
      ],
      "text/markdown": [
       "'/home/jovyan/work/notebooks'"
      ],
      "text/plain": [
       "[1] \"/home/jovyan/work/notebooks\""
      ]
     },
     "metadata": {},
     "output_type": "display_data"
    },
    {
     "data": {
      "text/html": [
       "<ol class=list-inline>\n",
       "\t<li>'admApiWrapper.ipynb'</li>\n",
       "\t<li>'admProcessingTimeEstimation.ipynb'</li>\n",
       "\t<li>'admPythonTest.ipynb'</li>\n",
       "\t<li>'admRlangWrapper.ipynb'</li>\n",
       "\t<li>'admRPy2.ipynb'</li>\n",
       "\t<li>'guideComparisonOfJsFrameworks.ipynb'</li>\n",
       "\t<li>'guideHelloWorld-Py.ipynb'</li>\n",
       "\t<li>'guideHelloWorld-R.ipynb'</li>\n",
       "\t<li>'guideTechniquesForSoftware.ipynb'</li>\n",
       "\t<li>'guideTEMPLATE.ipynb'</li>\n",
       "\t<li>'guideWorkFlow.ipynb'</li>\n",
       "\t<li>'guideWorkingWithDifferentDataGroups.ipynb'</li>\n",
       "\t<li>'README.md'</li>\n",
       "\t<li>'ScrumSaga-Py'</li>\n",
       "\t<li>'ScrumSagaR'</li>\n",
       "\t<li>'Test'</li>\n",
       "</ol>\n"
      ],
      "text/latex": [
       "\\begin{enumerate*}\n",
       "\\item 'admApiWrapper.ipynb'\n",
       "\\item 'admProcessingTimeEstimation.ipynb'\n",
       "\\item 'admPythonTest.ipynb'\n",
       "\\item 'admRlangWrapper.ipynb'\n",
       "\\item 'admRPy2.ipynb'\n",
       "\\item 'guideComparisonOfJsFrameworks.ipynb'\n",
       "\\item 'guideHelloWorld-Py.ipynb'\n",
       "\\item 'guideHelloWorld-R.ipynb'\n",
       "\\item 'guideTechniquesForSoftware.ipynb'\n",
       "\\item 'guideTEMPLATE.ipynb'\n",
       "\\item 'guideWorkFlow.ipynb'\n",
       "\\item 'guideWorkingWithDifferentDataGroups.ipynb'\n",
       "\\item 'README.md'\n",
       "\\item 'ScrumSaga-Py'\n",
       "\\item 'ScrumSagaR'\n",
       "\\item 'Test'\n",
       "\\end{enumerate*}\n"
      ],
      "text/markdown": [
       "1. 'admApiWrapper.ipynb'\n",
       "2. 'admProcessingTimeEstimation.ipynb'\n",
       "3. 'admPythonTest.ipynb'\n",
       "4. 'admRlangWrapper.ipynb'\n",
       "5. 'admRPy2.ipynb'\n",
       "6. 'guideComparisonOfJsFrameworks.ipynb'\n",
       "7. 'guideHelloWorld-Py.ipynb'\n",
       "8. 'guideHelloWorld-R.ipynb'\n",
       "9. 'guideTechniquesForSoftware.ipynb'\n",
       "10. 'guideTEMPLATE.ipynb'\n",
       "11. 'guideWorkFlow.ipynb'\n",
       "12. 'guideWorkingWithDifferentDataGroups.ipynb'\n",
       "13. 'README.md'\n",
       "14. 'ScrumSaga-Py'\n",
       "15. 'ScrumSagaR'\n",
       "16. 'Test'\n",
       "\n",
       "\n"
      ],
      "text/plain": [
       " [1] \"admApiWrapper.ipynb\"                      \n",
       " [2] \"admProcessingTimeEstimation.ipynb\"        \n",
       " [3] \"admPythonTest.ipynb\"                      \n",
       " [4] \"admRlangWrapper.ipynb\"                    \n",
       " [5] \"admRPy2.ipynb\"                            \n",
       " [6] \"guideComparisonOfJsFrameworks.ipynb\"      \n",
       " [7] \"guideHelloWorld-Py.ipynb\"                 \n",
       " [8] \"guideHelloWorld-R.ipynb\"                  \n",
       " [9] \"guideTechniquesForSoftware.ipynb\"         \n",
       "[10] \"guideTEMPLATE.ipynb\"                      \n",
       "[11] \"guideWorkFlow.ipynb\"                      \n",
       "[12] \"guideWorkingWithDifferentDataGroups.ipynb\"\n",
       "[13] \"README.md\"                                \n",
       "[14] \"ScrumSaga-Py\"                             \n",
       "[15] \"ScrumSagaR\"                               \n",
       "[16] \"Test\"                                     "
      ]
     },
     "metadata": {},
     "output_type": "display_data"
    }
   ],
   "source": [
    "getwd()\n",
    "#setwd( paste( getwd(),'/ScrumSagaR',sep=''))\n",
    "list.files()"
   ]
  },
  {
   "cell_type": "code",
   "execution_count": 16,
   "metadata": {
    "collapsed": false,
    "deletable": true,
    "editable": true
   },
   "outputs": [],
   "source": [
    "# Acocunt information (must be manipulated on website: scrumsaga.com)\n",
    "EMAIL='dev.team@mgmt-tech.org'\n",
    "PASS='IMTorgTestUserPassword'"
   ]
  },
  {
   "cell_type": "markdown",
   "metadata": {
    "deletable": true,
    "editable": true
   },
   "source": [
    "---\n",
    "_Begin package__"
   ]
  },
  {
   "cell_type": "markdown",
   "metadata": {
    "deletable": true,
    "editable": true
   },
   "source": [
    "# Account"
   ]
  },
  {
   "cell_type": "code",
   "execution_count": 17,
   "metadata": {
    "collapsed": false,
    "deletable": true,
    "editable": true
   },
   "outputs": [],
   "source": [
    "library(httr)\n",
    "library(jsonlite)\n",
    "\n",
    "\n",
    "Account <- function(email, password){\n",
    "    \n",
    "    thisEnv <- environment()\n",
    "    \n",
    "    URL = \"http://api.scrumsaga.com/v1\"\n",
    "    URL_LOCAL = '144.76.39.53:3001/v1'\n",
    "    \n",
    "    rteLogin = \"/login\"\n",
    "    rteAcctData = '/acctData'\n",
    "    rteAcctDiagram = '/acctDiagram'\n",
    "    \n",
    "    EMAIL <- email\n",
    "    PASSWORD <- password\n",
    "    TOKEN = 'TOKEN'\n",
    "\n",
    "      me <- list(\n",
    "          thisEnv = thisEnv,\n",
    "          getToken = function(){\n",
    "              return(get(\"TOKEN\",thisEnv))\n",
    "          },\n",
    "          setToken = function(value){\n",
    "              return(assign(\"TOKEN\",value,thisEnv))\n",
    "          },\n",
    "          getUrl = function(){\n",
    "              return(get(\"URL_LOCAL\",thisEnv))\n",
    "          },         \n",
    "          api_status = function(){\n",
    "              uri = URL_LOCAL\n",
    "              resp = GET(uri)\n",
    "              if (http_type(resp) != \"application/json\") {\n",
    "                  stop(\"API did not return json\", call. = FALSE)\n",
    "              }\n",
    "              parsed = jsonlite::fromJSON(content(resp, \"text\"), simplifyVector = FALSE)\n",
    "              structure(\n",
    "                  list(\n",
    "                      msg = parsed$msg,\n",
    "                      path = uri,\n",
    "                      response = resp\n",
    "                  ),\n",
    "                  class = \"resp\"\n",
    "              )   \n",
    "          },\n",
    "          login = function() {\n",
    "              uri = paste(URL_LOCAL, rteLogin, sep='')\n",
    "              resp = POST(uri, body = list(email=EMAIL, password=PASSWORD), encode = \"json\")\n",
    "              if (http_type(resp) != \"application/json\") {\n",
    "                  stop(\"API did not return json\", call. = FALSE)\n",
    "              }\n",
    "              parsed = jsonlite::fromJSON(content(resp, \"text\"), simplifyVector = FALSE)\n",
    "              me$setToken( paste('JWT',parsed$token ) )\n",
    "              structure(\n",
    "                  list(\n",
    "                      msg = parsed$msg,\n",
    "                      path = uri,\n",
    "                      response = resp\n",
    "                  ),\n",
    "                  class = \"resp\"\n",
    "              )\n",
    "          },\n",
    "          check_data = function() {\n",
    "              TOKEN = me$getToken()\n",
    "              uri = paste(URL_LOCAL, rteAcctData, sep='')\n",
    "              resp = POST(uri, add_headers(Authorization=TOKEN))\n",
    "              if (http_type(resp) != \"application/json\") {\n",
    "                  stop(\"API did not return json\", call. = FALSE)\n",
    "              }\n",
    "              parsed = jsonlite::fromJSON(content(resp, \"text\"), simplifyVector = FALSE)\n",
    "              structure(\n",
    "                  list(\n",
    "                      msg = parsed$msg,\n",
    "                      path = uri,\n",
    "                      response = resp,\n",
    "                      data = parsed$data\n",
    "                  ),\n",
    "                  class = \"resp\"\n",
    "              )\n",
    "          },\n",
    "          check_diagram = function() {\n",
    "              TOKEN = me$getToken()\n",
    "              uri = paste(URL_LOCAL, rteAcctDiagram, sep='')\n",
    "              resp = POST(uri, add_headers(Authorization=TOKEN))\n",
    "              if (http_type(resp) != \"application/json\") {\n",
    "                  stop(\"API did not return json\", call. = FALSE)\n",
    "              }\n",
    "              parsed = jsonlite::fromJSON(content(resp, \"text\"), simplifyVector = FALSE)\n",
    "              structure(\n",
    "                  list(\n",
    "                      msg = parsed$msg,\n",
    "                      path = uri,\n",
    "                      response = resp,\n",
    "                      data = parsed$data\n",
    "                  ),\n",
    "                  class = \"resp\"\n",
    "              )\n",
    "          }\n",
    "          \n",
    "                \n",
    "      )\n",
    "\n",
    "      ## Define the value of the list within the current environment.\n",
    "      assign('this',me,envir=thisEnv)\n",
    "\n",
    "      ## Set the name for the class\n",
    "      class(me) <- append(class(me),\"Account\")\n",
    "      return(me)\n",
    "}"
   ]
  },
  {
   "cell_type": "code",
   "execution_count": 121,
   "metadata": {
    "collapsed": false,
    "deletable": true,
    "editable": true
   },
   "outputs": [
    {
     "data": {
      "text/plain": [
       "$msg\n",
       "[1] \"passwords match\"\n",
       "\n",
       "$path\n",
       "[1] \"144.76.39.53:3001/v1/login\"\n",
       "\n",
       "$response\n",
       "Response [http://144.76.39.53:3001/v1/login]\n",
       "  Date: 2017-03-12 05:10\n",
       "  Status: 200\n",
       "  Content-Type: application/json; charset=utf-8\n",
       "  Size: 173 B\n",
       "\n",
       "\n",
       "attr(,\"class\")\n",
       "[1] \"resp\""
      ]
     },
     "metadata": {},
     "output_type": "display_data"
    }
   ],
   "source": [
    "userAcct <- Account(EMAIL, PASS)\n",
    "userAcct$login()"
   ]
  },
  {
   "cell_type": "code",
   "execution_count": null,
   "metadata": {
    "collapsed": true,
    "deletable": true,
    "editable": true
   },
   "outputs": [],
   "source": [
    "names(userAcct)\n",
    "userAcct$getToken()\n",
    "userAcct$getUrl()\n",
    "userAcct$api_status()"
   ]
  },
  {
   "cell_type": "code",
   "execution_count": null,
   "metadata": {
    "collapsed": true,
    "deletable": true,
    "editable": true
   },
   "outputs": [],
   "source": [
    "userAcct$login()\n",
    "userAcct$check_data()\n",
    "userAcct$check_diagram()"
   ]
  },
  {
   "cell_type": "code",
   "execution_count": null,
   "metadata": {
    "collapsed": true,
    "deletable": true,
    "editable": true
   },
   "outputs": [],
   "source": []
  },
  {
   "cell_type": "code",
   "execution_count": null,
   "metadata": {
    "collapsed": true,
    "deletable": true,
    "editable": true
   },
   "outputs": [],
   "source": []
  },
  {
   "cell_type": "code",
   "execution_count": null,
   "metadata": {
    "collapsed": false,
    "deletable": true,
    "editable": true
   },
   "outputs": [],
   "source": []
  },
  {
   "cell_type": "markdown",
   "metadata": {
    "deletable": true,
    "editable": true
   },
   "source": [
    "# Project"
   ]
  },
  {
   "cell_type": "code",
   "execution_count": 7,
   "metadata": {
    "collapsed": false,
    "deletable": true,
    "editable": true
   },
   "outputs": [
    {
     "data": {
      "text/plain": [
       "[1] ‘1.2.1’"
      ]
     },
     "metadata": {},
     "output_type": "display_data"
    }
   ],
   "source": [
    "packageVersion('httr')"
   ]
  },
  {
   "cell_type": "code",
   "execution_count": 86,
   "metadata": {
    "collapsed": false,
    "deletable": true,
    "editable": true
   },
   "outputs": [],
   "source": [
    "payload=list(\n",
    "namespace = 'IMTorgTestCode',\n",
    "email = 'information@mgm-tech.org',\n",
    "repo = 'testprj_Java_aSimple',\n",
    "selection = 'all'\n",
    ")"
   ]
  },
  {
   "cell_type": "code",
   "execution_count": null,
   "metadata": {
    "collapsed": true,
    "deletable": true,
    "editable": true
   },
   "outputs": [],
   "source": [
    "# INPUTS\n",
    "argGroups = c('project', 'size', 'author', 'entity_structure', 'entity_characteristic', 'complexity', 'relation', 'error','quality','tag','process_log')\n",
    "argSelection = c('current', 'all')\n",
    "rtePathLoadGroup = '/load'\n",
    "rtePathExtract = '/extract'\n",
    "\n",
    "ACCT = userAcct\n",
    "REPO_NAMESPC = 'IMTorg'\n",
    "REPO_EMAIL = 'information@mgmt-tech.org'\n",
    "REPO_NAME = 'testprj_Java_aSimple'"
   ]
  },
  {
   "cell_type": "code",
   "execution_count": null,
   "metadata": {
    "collapsed": true,
    "deletable": true,
    "editable": true
   },
   "outputs": [],
   "source": []
  },
  {
   "cell_type": "code",
   "execution_count": 118,
   "metadata": {
    "collapsed": false,
    "deletable": true,
    "editable": true
   },
   "outputs": [],
   "source": [
    "library(httr)\n",
    "library(jsonlite)\n",
    "\n",
    "\n",
    "Project <- function(account, repo_namespace, repo_email, repo_name){\n",
    "    \n",
    "    thisEnv <- environment()\n",
    "    \n",
    "    # system (class) config\n",
    "    argGroups = c('project', 'size', 'author', 'entity_structure', 'entity_characteristic', 'complexity', 'relation', 'error','quality','tag','process_log')\n",
    "    argSelection = c('current', 'all')\n",
    "    # API paths\n",
    "    rtePathLoadGroup = '/load/'\n",
    "    rtePathExtract = '/extract'\n",
    "    \n",
    "    ACCT = account\n",
    "    PAYLOAD = list(\n",
    "        namespace = repo_namespace,\n",
    "        email = repo_email,\n",
    "        repo = repo_name\n",
    "    )\n",
    "    n = length(argGroups)\n",
    "    DF_GROUP = as.list( rep('NA', n) )\n",
    "    names(DF_GROUP) = argGroups\n",
    "\n",
    "      me <- list(\n",
    "          thisEnv = thisEnv,\n",
    "          getArgGroups = function(){\n",
    "              return(get(\"argGroups\",thisEnv))\n",
    "          },\n",
    "          Data = function(){\n",
    "              return(get(\"DF_GROUP\",thisEnv))\n",
    "          },\n",
    "          setData = function(value){\n",
    "              return(assign(\"DF_GROUP\",value,thisEnv))\n",
    "          },\n",
    "          getAcct = function(){\n",
    "              return(get(\"ACCT\",thisEnv))\n",
    "          }, \n",
    "          getPayload = function(){\n",
    "              return(get(\"PAYLOAD\",thisEnv))\n",
    "          },\n",
    "          extract = function(select='all'){\n",
    "              ACCT = me$getAcct()\n",
    "              PAYLOAD = me$getPayload()\n",
    "              PAYLOAD$selection = select\n",
    "              TOKEN = ACCT$getToken()\n",
    "              rteExtractData = 'extract'\n",
    "              uri = paste( ACCT$getUrl(), rteExtractData, sep='/')\n",
    "              resp = POST(uri, add_headers(Authorization=TOKEN), body=PAYLOAD , encode = \"json\")\n",
    "              if (http_type(resp) != \"application/json\") {\n",
    "                  stop(\"API did not return json\", call. = FALSE)\n",
    "              }\n",
    "              parsed = jsonlite::fromJSON(content(resp, \"text\"), simplifyVector = FALSE)\n",
    "              structure(\n",
    "                  list(\n",
    "                      msg = parsed$message,\n",
    "                      path = uri,\n",
    "                      response = resp,\n",
    "                      data = parsed$data\n",
    "                  ),\n",
    "                  class = \"resp\"\n",
    "              )\n",
    "          },\n",
    "          load_group = function(group='project') {\n",
    "              ACCT=me$getAcct()\n",
    "              PAYLOAD=me$getPayload()\n",
    "              TOKEN = ACCT$getToken()\n",
    "              rteLoadData = 'load'\n",
    "              uri = paste( ACCT$getUrl(), rteLoadData, group, sep='/')\n",
    "              resp = POST(uri, add_headers(Authorization=TOKEN), body=PAYLOAD , encode = \"json\")\n",
    "              if (http_type(resp) != \"application/json\") {\n",
    "                  stop(\"API did not return json\", call. = FALSE)\n",
    "              }\n",
    "              data = data.frame(jsonlite::fromJSON(content(resp,'text'))$data)\n",
    "            return(data)\n",
    "          },\n",
    "          load_all = function(){\n",
    "              dfNames = names( me$Data() )\n",
    "              newData <- vector(\"list\", length(dfNames))\n",
    "              names(newData) <- dfNames\n",
    "              for(nm in dfNames ){\n",
    "                  rslt <- me$load_group( group = nm )\n",
    "                  if( is.data.frame(rslt) ){ newData[[nm]] <- rslt }\n",
    "              }\n",
    "              me$setData(newData)\n",
    "              print('all done!')\n",
    "          }\n",
    "        \n",
    "      )\n",
    "\n",
    "      ## Define the value of the list within the current environment.\n",
    "      assign('this',me,envir=thisEnv)\n",
    "\n",
    "      ## Set the name for the class\n",
    "      class(me) <- append(class(me),\"Project\")\n",
    "      return(me)\n",
    "}"
   ]
  },
  {
   "cell_type": "code",
   "execution_count": 122,
   "metadata": {
    "collapsed": false,
    "deletable": true,
    "editable": true
   },
   "outputs": [
    {
     "data": {
      "text/html": [
       "<ol class=list-inline>\n",
       "\t<li>'thisEnv'</li>\n",
       "\t<li>'getArgGroups'</li>\n",
       "\t<li>'Data'</li>\n",
       "\t<li>'setData'</li>\n",
       "\t<li>'getAcct'</li>\n",
       "\t<li>'getPayload'</li>\n",
       "\t<li>'extract'</li>\n",
       "\t<li>'load_group'</li>\n",
       "\t<li>'load_all'</li>\n",
       "</ol>\n"
      ],
      "text/latex": [
       "\\begin{enumerate*}\n",
       "\\item 'thisEnv'\n",
       "\\item 'getArgGroups'\n",
       "\\item 'Data'\n",
       "\\item 'setData'\n",
       "\\item 'getAcct'\n",
       "\\item 'getPayload'\n",
       "\\item 'extract'\n",
       "\\item 'load\\_group'\n",
       "\\item 'load\\_all'\n",
       "\\end{enumerate*}\n"
      ],
      "text/markdown": [
       "1. 'thisEnv'\n",
       "2. 'getArgGroups'\n",
       "3. 'Data'\n",
       "4. 'setData'\n",
       "5. 'getAcct'\n",
       "6. 'getPayload'\n",
       "7. 'extract'\n",
       "8. 'load_group'\n",
       "9. 'load_all'\n",
       "\n",
       "\n"
      ],
      "text/plain": [
       "[1] \"thisEnv\"      \"getArgGroups\" \"Data\"         \"setData\"      \"getAcct\"     \n",
       "[6] \"getPayload\"   \"extract\"      \"load_group\"   \"load_all\"    "
      ]
     },
     "metadata": {},
     "output_type": "display_data"
    },
    {
     "data": {
      "text/html": [
       "<ol class=list-inline>\n",
       "\t<li>'project'</li>\n",
       "\t<li>'size'</li>\n",
       "\t<li>'author'</li>\n",
       "\t<li>'entity_structure'</li>\n",
       "\t<li>'entity_characteristic'</li>\n",
       "\t<li>'complexity'</li>\n",
       "\t<li>'relation'</li>\n",
       "\t<li>'error'</li>\n",
       "\t<li>'quality'</li>\n",
       "\t<li>'tag'</li>\n",
       "\t<li>'process_log'</li>\n",
       "</ol>\n"
      ],
      "text/latex": [
       "\\begin{enumerate*}\n",
       "\\item 'project'\n",
       "\\item 'size'\n",
       "\\item 'author'\n",
       "\\item 'entity\\_structure'\n",
       "\\item 'entity\\_characteristic'\n",
       "\\item 'complexity'\n",
       "\\item 'relation'\n",
       "\\item 'error'\n",
       "\\item 'quality'\n",
       "\\item 'tag'\n",
       "\\item 'process\\_log'\n",
       "\\end{enumerate*}\n"
      ],
      "text/markdown": [
       "1. 'project'\n",
       "2. 'size'\n",
       "3. 'author'\n",
       "4. 'entity_structure'\n",
       "5. 'entity_characteristic'\n",
       "6. 'complexity'\n",
       "7. 'relation'\n",
       "8. 'error'\n",
       "9. 'quality'\n",
       "10. 'tag'\n",
       "11. 'process_log'\n",
       "\n",
       "\n"
      ],
      "text/plain": [
       " [1] \"project\"               \"size\"                  \"author\"               \n",
       " [4] \"entity_structure\"      \"entity_characteristic\" \"complexity\"           \n",
       " [7] \"relation\"              \"error\"                 \"quality\"              \n",
       "[10] \"tag\"                   \"process_log\"          "
      ]
     },
     "metadata": {},
     "output_type": "display_data"
    },
    {
     "data": {
      "text/html": [
       "<ol class=list-inline>\n",
       "\t<li>'project'</li>\n",
       "\t<li>'size'</li>\n",
       "\t<li>'author'</li>\n",
       "\t<li>'entity_structure'</li>\n",
       "\t<li>'entity_characteristic'</li>\n",
       "\t<li>'complexity'</li>\n",
       "\t<li>'relation'</li>\n",
       "\t<li>'error'</li>\n",
       "\t<li>'quality'</li>\n",
       "\t<li>'tag'</li>\n",
       "\t<li>'process_log'</li>\n",
       "</ol>\n"
      ],
      "text/latex": [
       "\\begin{enumerate*}\n",
       "\\item 'project'\n",
       "\\item 'size'\n",
       "\\item 'author'\n",
       "\\item 'entity\\_structure'\n",
       "\\item 'entity\\_characteristic'\n",
       "\\item 'complexity'\n",
       "\\item 'relation'\n",
       "\\item 'error'\n",
       "\\item 'quality'\n",
       "\\item 'tag'\n",
       "\\item 'process\\_log'\n",
       "\\end{enumerate*}\n"
      ],
      "text/markdown": [
       "1. 'project'\n",
       "2. 'size'\n",
       "3. 'author'\n",
       "4. 'entity_structure'\n",
       "5. 'entity_characteristic'\n",
       "6. 'complexity'\n",
       "7. 'relation'\n",
       "8. 'error'\n",
       "9. 'quality'\n",
       "10. 'tag'\n",
       "11. 'process_log'\n",
       "\n",
       "\n"
      ],
      "text/plain": [
       " [1] \"project\"               \"size\"                  \"author\"               \n",
       " [4] \"entity_structure\"      \"entity_characteristic\" \"complexity\"           \n",
       " [7] \"relation\"              \"error\"                 \"quality\"              \n",
       "[10] \"tag\"                   \"process_log\"          "
      ]
     },
     "metadata": {},
     "output_type": "display_data"
    }
   ],
   "source": [
    "jSimple = Project(account=userAcct, repo_namespace='IMTorgTestCode', repo_emai='information@mgm-tech.org', repo_name='testprj_Java_aSimple')\n",
    "names(jSimple)\n",
    "jSimple$getArgGroups()\n",
    "#jSimple$getAcct()\n",
    "\n",
    "#jSimple$Data()$project\n",
    "#jSimple$Data()[[1]]\n",
    "names(jSimple$Data()) "
   ]
  },
  {
   "cell_type": "code",
   "execution_count": 123,
   "metadata": {
    "collapsed": false,
    "deletable": true,
    "editable": true
   },
   "outputs": [
    {
     "name": "stdout",
     "output_type": "stream",
     "text": [
      "[1] \"all done!\"\n"
     ]
    }
   ],
   "source": [
    "jSimple$load_all()"
   ]
  },
  {
   "cell_type": "code",
   "execution_count": 133,
   "metadata": {
    "collapsed": false
   },
   "outputs": [
    {
     "data": {
      "text/html": [
       "<table>\n",
       "<thead><tr><th scope=col>prj_id</th><th scope=col>project</th><th scope=col>id</th><th scope=col>hash</th><th scope=col>stamp</th><th scope=col>stamp_author</th><th scope=col>subject</th><th scope=col>release_count</th><th scope=col>author_id</th><th scope=col>author_add</th><th scope=col>⋯</th><th scope=col>authors_count</th><th scope=col>reviewer_name</th><th scope=col>reviewer_add</th><th scope=col>reviewer_del</th><th scope=col>reviewer_total</th><th scope=col>reviewer_files_size</th><th scope=col>reviewer_commits_count</th><th scope=col>reviewer_modified_count</th><th scope=col>reviewer_original_count</th><th scope=col>reviewer_paths_count</th></tr></thead>\n",
       "<tbody>\n",
       "\t<tr><td>1                                       </td><td>testprj_Java_aSimple                    </td><td>1                                       </td><td>2cd4c25a1c199e127cd4f0d7a1fdb10b06456ca3</td><td>2015-12-10 13:58:11.000000              </td><td>2015-12-10 13:58:11.000000              </td><td>initialize Java Eclipse project         </td><td>0                                       </td><td>1                                       </td><td> 7976                                   </td><td>⋯                                       </td><td>1                                       </td><td>IMTorg                                  </td><td> 7976                                   </td><td>   0                                    </td><td>7976                                    </td><td>30576278                                </td><td>1                                       </td><td> 0                                      </td><td> 42                                     </td><td> 42                                     </td></tr>\n",
       "\t<tr><td>1                                       </td><td>testprj_Java_aSimple                    </td><td>2                                       </td><td>f1f49c701afa79f8a66bf9c07cf234cf1a5f5625</td><td>2015-12-10 14:43:48.000000              </td><td>2015-12-10 14:43:48.000000              </td><td>added common_lang .jar files            </td><td>0                                       </td><td>1                                       </td><td> 9795                                   </td><td>⋯                                       </td><td>1                                       </td><td>IMTorg                                  </td><td> 9795                                   </td><td>1516                                    </td><td>8279                                    </td><td>48477175                                </td><td>2                                       </td><td> 3                                      </td><td> 86                                     </td><td> 86                                     </td></tr>\n",
       "\t<tr><td>1                                       </td><td>testprj_Java_aSimple                    </td><td>3                                       </td><td>6316a909ef1bddd934b3f086ae2cb3a6d4489ca5</td><td>2015-12-10 14:46:29.000000              </td><td>2015-12-10 14:46:29.000000              </td><td>added Sample class                      </td><td>0                                       </td><td>1                                       </td><td> 9808                                   </td><td>⋯                                       </td><td>1                                       </td><td>IMTorg                                  </td><td> 9808                                   </td><td>1517                                    </td><td>8291                                    </td><td>48478030                                </td><td>3                                       </td><td> 7                                      </td><td> 90                                     </td><td> 90                                     </td></tr>\n",
       "\t<tr><td>1                                       </td><td>testprj_Java_aSimple                    </td><td>4                                       </td><td>ac7454903abdd055c831e63ce5bdc20b523b0299</td><td>2015-12-10 14:51:57.000000              </td><td>2015-12-10 14:51:57.000000              </td><td>provided a new class                    </td><td>0                                       </td><td>1                                       </td><td>12283                                   </td><td>⋯                                       </td><td>1                                       </td><td>IMTorg                                  </td><td>12283                                   </td><td>3091                                    </td><td>9192                                    </td><td>53283342                                </td><td>4                                       </td><td>14                                      </td><td>106                                     </td><td>106                                     </td></tr>\n",
       "\t<tr><td>1                                       </td><td>testprj_Java_aSimple                    </td><td>5                                       </td><td>ba281d2a34b32f8c7480127d4d4c7d271d9bc9d7</td><td>2015-12-10 14:52:40.000000              </td><td>2015-12-10 14:52:40.000000              </td><td>added Hello World!                      </td><td>0                                       </td><td>1                                       </td><td>13880                                   </td><td>⋯                                       </td><td>1                                       </td><td>IMTorg                                  </td><td>13880                                   </td><td>4679                                    </td><td>9201                                    </td><td>53283978                                </td><td>5                                       </td><td>15                                      </td><td>108                                     </td><td>108                                     </td></tr>\n",
       "\t<tr><td>1                                       </td><td>testprj_Java_aSimple                    </td><td>6                                       </td><td>6609d88dad1ed900b3bec6e095661d8601d2b42e</td><td>2015-12-10 15:33:23.000000              </td><td>2015-12-10 15:33:23.000000              </td><td>new class Animal with many new fields   </td><td>0                                       </td><td>1                                       </td><td>15593                                   </td><td>⋯                                       </td><td>1                                       </td><td>IMTorg                                  </td><td>15593                                   </td><td>6267                                    </td><td>9326                                    </td><td>53293864                                </td><td>6                                       </td><td>16                                      </td><td>119                                     </td><td>119                                     </td></tr>\n",
       "</tbody>\n",
       "</table>\n"
      ],
      "text/latex": [
       "\\begin{tabular}{r|lllllllllllllllllllllllllll}\n",
       " prj\\_id & project & id & hash & stamp & stamp\\_author & subject & release\\_count & author\\_id & author\\_add & ⋯ & authors\\_count & reviewer\\_name & reviewer\\_add & reviewer\\_del & reviewer\\_total & reviewer\\_files\\_size & reviewer\\_commits\\_count & reviewer\\_modified\\_count & reviewer\\_original\\_count & reviewer\\_paths\\_count\\\\\n",
       "\\hline\n",
       "\t 1                                        & testprj\\_Java\\_aSimple                 & 1                                        & 2cd4c25a1c199e127cd4f0d7a1fdb10b06456ca3 & 2015-12-10 13:58:11.000000               & 2015-12-10 13:58:11.000000               & initialize Java Eclipse project          & 0                                        & 1                                        &  7976                                    & ⋯                                        & 1                                        & IMTorg                                   &  7976                                    &    0                                     & 7976                                     & 30576278                                 & 1                                        &  0                                       &  42                                      &  42                                     \\\\\n",
       "\t 1                                        & testprj\\_Java\\_aSimple                 & 2                                        & f1f49c701afa79f8a66bf9c07cf234cf1a5f5625 & 2015-12-10 14:43:48.000000               & 2015-12-10 14:43:48.000000               & added common\\_lang .jar files           & 0                                        & 1                                        &  9795                                    & ⋯                                        & 1                                        & IMTorg                                   &  9795                                    & 1516                                     & 8279                                     & 48477175                                 & 2                                        &  3                                       &  86                                      &  86                                     \\\\\n",
       "\t 1                                        & testprj\\_Java\\_aSimple                 & 3                                        & 6316a909ef1bddd934b3f086ae2cb3a6d4489ca5 & 2015-12-10 14:46:29.000000               & 2015-12-10 14:46:29.000000               & added Sample class                       & 0                                        & 1                                        &  9808                                    & ⋯                                        & 1                                        & IMTorg                                   &  9808                                    & 1517                                     & 8291                                     & 48478030                                 & 3                                        &  7                                       &  90                                      &  90                                     \\\\\n",
       "\t 1                                        & testprj\\_Java\\_aSimple                 & 4                                        & ac7454903abdd055c831e63ce5bdc20b523b0299 & 2015-12-10 14:51:57.000000               & 2015-12-10 14:51:57.000000               & provided a new class                     & 0                                        & 1                                        & 12283                                    & ⋯                                        & 1                                        & IMTorg                                   & 12283                                    & 3091                                     & 9192                                     & 53283342                                 & 4                                        & 14                                       & 106                                      & 106                                     \\\\\n",
       "\t 1                                        & testprj\\_Java\\_aSimple                 & 5                                        & ba281d2a34b32f8c7480127d4d4c7d271d9bc9d7 & 2015-12-10 14:52:40.000000               & 2015-12-10 14:52:40.000000               & added Hello World!                       & 0                                        & 1                                        & 13880                                    & ⋯                                        & 1                                        & IMTorg                                   & 13880                                    & 4679                                     & 9201                                     & 53283978                                 & 5                                        & 15                                       & 108                                      & 108                                     \\\\\n",
       "\t 1                                        & testprj\\_Java\\_aSimple                 & 6                                        & 6609d88dad1ed900b3bec6e095661d8601d2b42e & 2015-12-10 15:33:23.000000               & 2015-12-10 15:33:23.000000               & new class Animal with many new fields    & 0                                        & 1                                        & 15593                                    & ⋯                                        & 1                                        & IMTorg                                   & 15593                                    & 6267                                     & 9326                                     & 53293864                                 & 6                                        & 16                                       & 119                                      & 119                                     \\\\\n",
       "\\end{tabular}\n"
      ],
      "text/markdown": [
       "\n",
       "prj_id | project | id | hash | stamp | stamp_author | subject | release_count | author_id | author_add | ⋯ | authors_count | reviewer_name | reviewer_add | reviewer_del | reviewer_total | reviewer_files_size | reviewer_commits_count | reviewer_modified_count | reviewer_original_count | reviewer_paths_count | \n",
       "|---|---|---|---|---|---|\n",
       "| 1                                        | testprj_Java_aSimple                     | 1                                        | 2cd4c25a1c199e127cd4f0d7a1fdb10b06456ca3 | 2015-12-10 13:58:11.000000               | 2015-12-10 13:58:11.000000               | initialize Java Eclipse project          | 0                                        | 1                                        |  7976                                    | ⋯                                        | 1                                        | IMTorg                                   |  7976                                    |    0                                     | 7976                                     | 30576278                                 | 1                                        |  0                                       |  42                                      |  42                                      | \n",
       "| 1                                        | testprj_Java_aSimple                     | 2                                        | f1f49c701afa79f8a66bf9c07cf234cf1a5f5625 | 2015-12-10 14:43:48.000000               | 2015-12-10 14:43:48.000000               | added common_lang .jar files             | 0                                        | 1                                        |  9795                                    | ⋯                                        | 1                                        | IMTorg                                   |  9795                                    | 1516                                     | 8279                                     | 48477175                                 | 2                                        |  3                                       |  86                                      |  86                                      | \n",
       "| 1                                        | testprj_Java_aSimple                     | 3                                        | 6316a909ef1bddd934b3f086ae2cb3a6d4489ca5 | 2015-12-10 14:46:29.000000               | 2015-12-10 14:46:29.000000               | added Sample class                       | 0                                        | 1                                        |  9808                                    | ⋯                                        | 1                                        | IMTorg                                   |  9808                                    | 1517                                     | 8291                                     | 48478030                                 | 3                                        |  7                                       |  90                                      |  90                                      | \n",
       "| 1                                        | testprj_Java_aSimple                     | 4                                        | ac7454903abdd055c831e63ce5bdc20b523b0299 | 2015-12-10 14:51:57.000000               | 2015-12-10 14:51:57.000000               | provided a new class                     | 0                                        | 1                                        | 12283                                    | ⋯                                        | 1                                        | IMTorg                                   | 12283                                    | 3091                                     | 9192                                     | 53283342                                 | 4                                        | 14                                       | 106                                      | 106                                      | \n",
       "| 1                                        | testprj_Java_aSimple                     | 5                                        | ba281d2a34b32f8c7480127d4d4c7d271d9bc9d7 | 2015-12-10 14:52:40.000000               | 2015-12-10 14:52:40.000000               | added Hello World!                       | 0                                        | 1                                        | 13880                                    | ⋯                                        | 1                                        | IMTorg                                   | 13880                                    | 4679                                     | 9201                                     | 53283978                                 | 5                                        | 15                                       | 108                                      | 108                                      | \n",
       "| 1                                        | testprj_Java_aSimple                     | 6                                        | 6609d88dad1ed900b3bec6e095661d8601d2b42e | 2015-12-10 15:33:23.000000               | 2015-12-10 15:33:23.000000               | new class Animal with many new fields    | 0                                        | 1                                        | 15593                                    | ⋯                                        | 1                                        | IMTorg                                   | 15593                                    | 6267                                     | 9326                                     | 53293864                                 | 6                                        | 16                                       | 119                                      | 119                                      | \n",
       "\n",
       "\n"
      ],
      "text/plain": [
       "  prj_id project              id hash                                    \n",
       "1 1      testprj_Java_aSimple 1  2cd4c25a1c199e127cd4f0d7a1fdb10b06456ca3\n",
       "2 1      testprj_Java_aSimple 2  f1f49c701afa79f8a66bf9c07cf234cf1a5f5625\n",
       "3 1      testprj_Java_aSimple 3  6316a909ef1bddd934b3f086ae2cb3a6d4489ca5\n",
       "4 1      testprj_Java_aSimple 4  ac7454903abdd055c831e63ce5bdc20b523b0299\n",
       "5 1      testprj_Java_aSimple 5  ba281d2a34b32f8c7480127d4d4c7d271d9bc9d7\n",
       "6 1      testprj_Java_aSimple 6  6609d88dad1ed900b3bec6e095661d8601d2b42e\n",
       "  stamp                      stamp_author              \n",
       "1 2015-12-10 13:58:11.000000 2015-12-10 13:58:11.000000\n",
       "2 2015-12-10 14:43:48.000000 2015-12-10 14:43:48.000000\n",
       "3 2015-12-10 14:46:29.000000 2015-12-10 14:46:29.000000\n",
       "4 2015-12-10 14:51:57.000000 2015-12-10 14:51:57.000000\n",
       "5 2015-12-10 14:52:40.000000 2015-12-10 14:52:40.000000\n",
       "6 2015-12-10 15:33:23.000000 2015-12-10 15:33:23.000000\n",
       "  subject                               release_count author_id author_add ⋯\n",
       "1 initialize Java Eclipse project       0             1          7976      ⋯\n",
       "2 added common_lang .jar files          0             1          9795      ⋯\n",
       "3 added Sample class                    0             1          9808      ⋯\n",
       "4 provided a new class                  0             1         12283      ⋯\n",
       "5 added Hello World!                    0             1         13880      ⋯\n",
       "6 new class Animal with many new fields 0             1         15593      ⋯\n",
       "  authors_count reviewer_name reviewer_add reviewer_del reviewer_total\n",
       "1 1             IMTorg         7976           0         7976          \n",
       "2 1             IMTorg         9795        1516         8279          \n",
       "3 1             IMTorg         9808        1517         8291          \n",
       "4 1             IMTorg        12283        3091         9192          \n",
       "5 1             IMTorg        13880        4679         9201          \n",
       "6 1             IMTorg        15593        6267         9326          \n",
       "  reviewer_files_size reviewer_commits_count reviewer_modified_count\n",
       "1 30576278            1                       0                     \n",
       "2 48477175            2                       3                     \n",
       "3 48478030            3                       7                     \n",
       "4 53283342            4                      14                     \n",
       "5 53283978            5                      15                     \n",
       "6 53293864            6                      16                     \n",
       "  reviewer_original_count reviewer_paths_count\n",
       "1  42                      42                 \n",
       "2  86                      86                 \n",
       "3  90                      90                 \n",
       "4 106                     106                 \n",
       "5 108                     108                 \n",
       "6 119                     119                 "
      ]
     },
     "metadata": {},
     "output_type": "display_data"
    }
   ],
   "source": [
    "head( jSimple$Data()$project )"
   ]
  },
  {
   "cell_type": "code",
   "execution_count": 87,
   "metadata": {
    "collapsed": false,
    "deletable": true,
    "editable": true
   },
   "outputs": [
    {
     "data": {
      "text/plain": [
       "$msg\n",
       "[1] \"No need to process, again\"\n",
       "\n",
       "$path\n",
       "[1] \"144.76.39.53:3001/v1/extract\"\n",
       "\n",
       "$response\n",
       "Response [http://144.76.39.53:3001/v1/extract]\n",
       "  Date: 2017-03-12 04:39\n",
       "  Status: 200\n",
       "  Content-Type: application/json; charset=utf-8\n",
       "  Size: 39 B\n",
       "\n",
       "\n",
       "$data\n",
       "NULL\n",
       "\n",
       "attr(,\"class\")\n",
       "[1] \"resp\""
      ]
     },
     "metadata": {},
     "output_type": "display_data"
    }
   ],
   "source": [
    "jSimple$extract(select='all')"
   ]
  },
  {
   "cell_type": "code",
   "execution_count": 89,
   "metadata": {
    "collapsed": false,
    "deletable": true,
    "editable": true
   },
   "outputs": [
    {
     "data": {
      "text/html": [
       "<ol class=list-inline>\n",
       "\t<li>14</li>\n",
       "\t<li>27</li>\n",
       "</ol>\n"
      ],
      "text/latex": [
       "\\begin{enumerate*}\n",
       "\\item 14\n",
       "\\item 27\n",
       "\\end{enumerate*}\n"
      ],
      "text/markdown": [
       "1. 14\n",
       "2. 27\n",
       "\n",
       "\n"
      ],
      "text/plain": [
       "[1] 14 27"
      ]
     },
     "metadata": {},
     "output_type": "display_data"
    }
   ],
   "source": [
    "Prj = jSimple$load_group(group='project')\n",
    "dim(Prj)"
   ]
  },
  {
   "cell_type": "code",
   "execution_count": null,
   "metadata": {
    "collapsed": true,
    "deletable": true,
    "editable": true
   },
   "outputs": [],
   "source": []
  },
  {
   "cell_type": "code",
   "execution_count": null,
   "metadata": {
    "collapsed": true,
    "deletable": true,
    "editable": true
   },
   "outputs": [],
   "source": []
  },
  {
   "cell_type": "code",
   "execution_count": null,
   "metadata": {
    "collapsed": true,
    "deletable": true,
    "editable": true
   },
   "outputs": [],
   "source": []
  },
  {
   "cell_type": "code",
   "execution_count": null,
   "metadata": {
    "collapsed": true,
    "deletable": true,
    "editable": true
   },
   "outputs": [],
   "source": []
  },
  {
   "cell_type": "markdown",
   "metadata": {
    "collapsed": true,
    "deletable": true,
    "editable": true
   },
   "source": [
    "# Archive"
   ]
  },
  {
   "cell_type": "code",
   "execution_count": 6,
   "metadata": {
    "collapsed": false,
    "deletable": true,
    "editable": true
   },
   "outputs": [
    {
     "data": {
      "text/plain": [
       "Response [http://144.76.39.53:3001/v1/extract]\n",
       "  Date: 2017-03-11 15:07\n",
       "  Status: 200\n",
       "  Content-Type: application/json; charset=utf-8\n",
       "  Size: 39 B\n"
      ]
     },
     "metadata": {},
     "output_type": "display_data"
    },
    {
     "data": {
      "text/html": [
       "<strong>$message</strong> = 'No need to process, again'"
      ],
      "text/latex": [
       "\\textbf{\\$message} = 'No need to process, again'"
      ],
      "text/markdown": [
       "**$message** = 'No need to process, again'"
      ],
      "text/plain": [
       "$message\n",
       "[1] \"No need to process, again\"\n"
      ]
     },
     "metadata": {},
     "output_type": "display_data"
    }
   ],
   "source": [
    "# EXTRACT\n",
    "TOKEN = userAcct$getToken()\n",
    "uri = '144.76.39.53:3001/v1/extract'\n",
    "#payload = list(namespace=REPO_NAMESPC, email=REPO_EMAIL, repo=REPO_NAME, select='current')\n",
    "\n",
    "resp = POST(uri, add_headers(Authorization=TOKEN), body=payload, encode = \"json\" )\n",
    "resp\n",
    "jsonlite::fromJSON(content(resp, \"text\"), simplifyVector = FALSE)"
   ]
  },
  {
   "cell_type": "code",
   "execution_count": 7,
   "metadata": {
    "collapsed": false,
    "deletable": true,
    "editable": true
   },
   "outputs": [
    {
     "data": {
      "text/plain": [
       "Response [http://144.76.39.53:3001/v1/load/project]\n",
       "  Date: 2017-03-11 15:07\n",
       "  Status: 200\n",
       "  Content-Type: application/json; charset=utf-8\n",
       "  Size: 9.69 kB\n"
      ]
     },
     "metadata": {},
     "output_type": "display_data"
    },
    {
     "data": {
      "text/html": [
       "<ol class=list-inline>\n",
       "\t<li>14</li>\n",
       "\t<li>27</li>\n",
       "</ol>\n"
      ],
      "text/latex": [
       "\\begin{enumerate*}\n",
       "\\item 14\n",
       "\\item 27\n",
       "\\end{enumerate*}\n"
      ],
      "text/markdown": [
       "1. 14\n",
       "2. 27\n",
       "\n",
       "\n"
      ],
      "text/plain": [
       "[1] 14 27"
      ]
     },
     "metadata": {},
     "output_type": "display_data"
    }
   ],
   "source": [
    "#LOAD\n",
    "TOKEN = userAcct$getToken()\n",
    "rte2 = '/load/project'\n",
    "uri = paste(userAcct$getUrl(), rte2, sep='')\n",
    "\n",
    "resp = POST(uri, add_headers(Authorization=TOKEN), body=payload, encode='json')\n",
    "resp\n",
    "Prj = data.frame(jsonlite::fromJSON(content(resp,'text'))$data)\n",
    "\n",
    "dim(Prj)"
   ]
  },
  {
   "cell_type": "code",
   "execution_count": 15,
   "metadata": {
    "collapsed": false,
    "deletable": true,
    "editable": true
   },
   "outputs": [
    {
     "data": {
      "text/html": [
       "<ol class=list-inline>\n",
       "\t<li>701</li>\n",
       "\t<li>8</li>\n",
       "</ol>\n"
      ],
      "text/latex": [
       "\\begin{enumerate*}\n",
       "\\item 701\n",
       "\\item 8\n",
       "\\end{enumerate*}\n"
      ],
      "text/markdown": [
       "1. 701\n",
       "2. 8\n",
       "\n",
       "\n"
      ],
      "text/plain": [
       "[1] 701   8"
      ]
     },
     "metadata": {},
     "output_type": "display_data"
    }
   ],
   "source": [
    "        load_group = function(ACCT, PAYLOAD, GROUP) {\n",
    "              TOKEN = ACCT$getToken()\n",
    "              rteLoadData = 'load'\n",
    "              uri = paste( ACCT$getUrl(), rteLoadData, GROUP, sep='/')\n",
    "              payload = PAYLOAD\n",
    "              resp = POST(uri, add_headers(Authorization=TOKEN), body=payload , encode = \"json\")\n",
    "\n",
    "              if (http_type(resp) != \"application/json\") {\n",
    "                  stop(\"API did not return json\", call. = FALSE)\n",
    "              }\n",
    "              data = data.frame(jsonlite::fromJSON(content(resp,'text'))$data)\n",
    "            return(data)\n",
    "          }\n",
    "\n",
    "\n",
    "Prj = load_group(ACCT=userAcct, PAYLOAD=payload, GROUP='error')\n",
    "dim(Prj)"
   ]
  }
 ],
 "metadata": {
  "kernelspec": {
   "display_name": "R",
   "language": "R",
   "name": "ir"
  },
  "language_info": {
   "codemirror_mode": "r",
   "file_extension": ".r",
   "mimetype": "text/x-r-source",
   "name": "R",
   "pygments_lexer": "r",
   "version": "3.3.2"
  }
 },
 "nbformat": 4,
 "nbformat_minor": 2
}
