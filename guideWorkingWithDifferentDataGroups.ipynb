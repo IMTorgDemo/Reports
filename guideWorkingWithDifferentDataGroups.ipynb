{
 "cells": [
  {
   "cell_type": "markdown",
   "metadata": {},
   "source": [
    "# Working with Different Software Data Groups\n",
    "\n",
    "The ScrumSaga system extracts many different (100+) data fields, with transformation alorithms for many more.  This can seem unmanageable, but becomes intuitive after learning the various categories and sub-categories of metric Data Groups.\n",
    "\n",
    "This guide describes a few of the basic Data Groups, how they are related.  While all of the data can be represented in any of the categories, for instructional purposes, we can categorize them by their structure and typical use:\n",
    "\n",
    "* Metric (timeseries)\n",
    "* Hierarchical (parent-child)\n",
    "* Entity-Relation (graph/network)\n",
    "* Descriptive\n",
    "\n",
    "We also provide the _processing data_ for those with interest."
   ]
  },
  {
   "cell_type": "markdown",
   "metadata": {
    "collapsed": true
   },
   "source": [
    "### Preparations\n",
    "_Set-up Environment_"
   ]
  },
  {
   "cell_type": "code",
   "execution_count": 1,
   "metadata": {
    "collapsed": false
   },
   "outputs": [
    {
     "name": "stdout",
     "output_type": "stream",
     "text": [
      "Account.py\n",
      "Portfolio.py\n",
      "Project.py\n",
      "README.md\n",
      "Repo.py\n",
      "__init__.py\n",
      "__pycache__\n"
     ]
    }
   ],
   "source": [
    "# Ensure API Wrapper is available and load it\n",
    "! ls ./ScrumSaga"
   ]
  },
  {
   "cell_type": "code",
   "execution_count": 3,
   "metadata": {
    "collapsed": false
   },
   "outputs": [],
   "source": [
    "import sys\n",
    "path = r'C:\\Users\\Jason\\Documents\\IPython Notebooks\\SS-Reports\\ScrumSaga'\n",
    "sys.path.append(path)\n",
    "import ScrumSaga as saga"
   ]
  },
  {
   "cell_type": "code",
   "execution_count": 4,
   "metadata": {
    "collapsed": false
   },
   "outputs": [
    {
     "name": "stdout",
     "output_type": "stream",
     "text": [
      "passwords match\n"
     ]
    }
   ],
   "source": [
    "# Acocunt information (must be manipulated on website: scrumsaga.com)\n",
    "SAGA_ACCT = {\"email\":\"dev.team@mgmt-tech.org\",\"password\":\"IMTorgTestUserPassword\"}\n",
    "\n",
    "Acct = saga.Account(acct_email=SAGA_ACCT['email'], acct_password=SAGA_ACCT['password'])\n",
    "Acct.login()"
   ]
  },
  {
   "cell_type": "markdown",
   "metadata": {},
   "source": [
    "_Check Available Repo Data_"
   ]
  },
  {
   "cell_type": "code",
   "execution_count": 5,
   "metadata": {
    "collapsed": false
   },
   "outputs": [
    {
     "name": "stdout",
     "output_type": "stream",
     "text": [
      "['IMTorgTestCode--testprj_Java_aSimple']\n"
     ]
    }
   ],
   "source": [
    "Acct.view_data()"
   ]
  },
  {
   "cell_type": "markdown",
   "metadata": {},
   "source": [
    "### Simple Java Project"
   ]
  },
  {
   "cell_type": "code",
   "execution_count": 76,
   "metadata": {
    "collapsed": false
   },
   "outputs": [],
   "source": [
    "# create project\n",
    "JavaRepo = saga.Repo('IMTorgTestProj','information@mgmt-tech.org','demoprj_Java_HumanResourceApp')\n",
    "jHrApp = saga.Project(Acct, JavaRepo)"
   ]
  },
  {
   "cell_type": "code",
   "execution_count": 77,
   "metadata": {
    "collapsed": false
   },
   "outputs": [
    {
     "name": "stdout",
     "output_type": "stream",
     "text": [
      "It appears there are no contributors\n"
     ]
    },
    {
     "data": {
      "text/plain": [
       "<Response [400]>"
      ]
     },
     "execution_count": 77,
     "metadata": {},
     "output_type": "execute_result"
    }
   ],
   "source": [
    "jHrApp.extract()"
   ]
  },
  {
   "cell_type": "markdown",
   "metadata": {},
   "source": [
    "_Load Data from Repo_ "
   ]
  },
  {
   "cell_type": "code",
   "execution_count": 7,
   "metadata": {
    "collapsed": false
   },
   "outputs": [
    {
     "name": "stdout",
     "output_type": "stream",
     "text": [
      "PROJECT group records:  27\n",
      " -elapsed time: 0.233480\n",
      "ENTITY_STRUCTURE group records:  10\n",
      " -elapsed time: 0.456476\n",
      "ENTITY_CHARACTERISTIC group records:  25\n",
      " -elapsed time: 4.469988\n",
      "SIZE group records:  14\n",
      " -elapsed time: 0.230188\n",
      "TAG group records:  10\n",
      " -elapsed time: 0.234169\n",
      "RELATION group records:  8\n",
      " -elapsed time: 0.231337\n",
      "ERROR group records:  0\n",
      " -elapsed time: 0.239268\n",
      "QUALITY group records:  0\n",
      " -elapsed time: 0.226874\n",
      "COMPLEXITY group records:  14\n",
      " -elapsed time: 0.662828\n",
      "AUTHOR group records:  6\n",
      " -elapsed time: 0.233922\n",
      "PROCESS_LOG group records:  0\n",
      " -elapsed time: 0.228385\n",
      "Loading completed with no errors\n"
     ]
    }
   ],
   "source": [
    "# load all metric groups\n",
    "JSimple.load_all()"
   ]
  },
  {
   "cell_type": "markdown",
   "metadata": {
    "collapsed": true
   },
   "source": [
    "### Metric Data"
   ]
  },
  {
   "cell_type": "markdown",
   "metadata": {},
   "source": [
    "project, size, complexity"
   ]
  },
  {
   "cell_type": "code",
   "execution_count": 29,
   "metadata": {
    "collapsed": false
   },
   "outputs": [
    {
     "name": "stdout",
     "output_type": "stream",
     "text": [
      "Index(['author_add', 'author_commits_count', 'author_del', 'author_files_size',\n",
      "       'author_id', 'author_modified_count', 'author_original_count',\n",
      "       'author_paths_count', 'author_total', 'authors_count', 'hash', 'id',\n",
      "       'prj_id', 'project', 'release_count', 'reviewer_add',\n",
      "       'reviewer_commits_count', 'reviewer_del', 'reviewer_files_size',\n",
      "       'reviewer_modified_count', 'reviewer_name', 'reviewer_original_count',\n",
      "       'reviewer_paths_count', 'reviewer_total', 'stamp', 'stamp_author',\n",
      "       'subject'],\n",
      "      dtype='object')\n",
      "Index(['count', 'files_count', 'files_size', 'hash', 'id', 'loc_add',\n",
      "       'loc_del', 'loc_total', 'modified_file_count', 'original_file_count',\n",
      "       'prj_id', 'project', 'stamp', 'tag_count'],\n",
      "      dtype='object')\n",
      "Index(['bugs', 'calculated_length', 'cyclomatic_complexity', 'difficulty',\n",
      "       'effort', 'entity_id', 'hash', 'id', 'n1', 'n2', 'nn1', 'nn2', 'time',\n",
      "       'volume'],\n",
      "      dtype='object')\n"
     ]
    }
   ],
   "source": [
    "import pandas\n",
    "import numpy as np\n",
    "\n",
    "# per commit\n",
    "print( JSimple['project'].columns ) \n",
    "print( JSimple['size'].columns )\n",
    "\n",
    "# per commit, per entity\n",
    "print( JSimple['complexity'].columns) "
   ]
  },
  {
   "cell_type": "code",
   "execution_count": 47,
   "metadata": {
    "collapsed": false
   },
   "outputs": [],
   "source": [
    "JSimple['complexity']['volume'] = JSimple['complexity']['volume'].astype('float')"
   ]
  },
  {
   "cell_type": "code",
   "execution_count": 67,
   "metadata": {
    "collapsed": false
   },
   "outputs": [],
   "source": [
    "## SELECT day, AVG(tip), COUNT(*) FROM tips GROUP BY day;\n",
    "cmplx = JSimple['complexity'].groupby('hash').agg({'volume': np.sum})"
   ]
  },
  {
   "cell_type": "code",
   "execution_count": 73,
   "metadata": {
    "collapsed": false
   },
   "outputs": [],
   "source": [
    "cmplx['hash'] = cmplx.index.values"
   ]
  },
  {
   "cell_type": "code",
   "execution_count": 74,
   "metadata": {
    "collapsed": false
   },
   "outputs": [],
   "source": [
    "m1 = pandas.merge(JSimple['project'], JSimple['size'], on='hash', how='left')\n",
    "metric = pandas.merge(m1, cmplx, on='hash', how='left')"
   ]
  },
  {
   "cell_type": "code",
   "execution_count": 75,
   "metadata": {
    "collapsed": false
   },
   "outputs": [
    {
     "data": {
      "text/html": [
       "<div>\n",
       "<table border=\"1\" class=\"dataframe\">\n",
       "  <thead>\n",
       "    <tr style=\"text-align: right;\">\n",
       "      <th></th>\n",
       "      <th>stamp_x</th>\n",
       "      <th>loc_total</th>\n",
       "      <th>volume</th>\n",
       "    </tr>\n",
       "  </thead>\n",
       "  <tbody>\n",
       "    <tr>\n",
       "      <th>0</th>\n",
       "      <td>2015-12-10 13:58:11.000000</td>\n",
       "      <td>7976</td>\n",
       "      <td>NaN</td>\n",
       "    </tr>\n",
       "    <tr>\n",
       "      <th>1</th>\n",
       "      <td>2015-12-10 14:43:48.000000</td>\n",
       "      <td>8279</td>\n",
       "      <td>NaN</td>\n",
       "    </tr>\n",
       "    <tr>\n",
       "      <th>2</th>\n",
       "      <td>2015-12-10 14:46:29.000000</td>\n",
       "      <td>8291</td>\n",
       "      <td>342.36</td>\n",
       "    </tr>\n",
       "    <tr>\n",
       "      <th>3</th>\n",
       "      <td>2015-12-10 14:51:57.000000</td>\n",
       "      <td>9192</td>\n",
       "      <td>342.36</td>\n",
       "    </tr>\n",
       "    <tr>\n",
       "      <th>4</th>\n",
       "      <td>2015-12-10 14:52:40.000000</td>\n",
       "      <td>9201</td>\n",
       "      <td>1393.20</td>\n",
       "    </tr>\n",
       "    <tr>\n",
       "      <th>5</th>\n",
       "      <td>2015-12-10 15:33:23.000000</td>\n",
       "      <td>9326</td>\n",
       "      <td>3187.98</td>\n",
       "    </tr>\n",
       "    <tr>\n",
       "      <th>6</th>\n",
       "      <td>2015-12-10 16:15:33.000000</td>\n",
       "      <td>9695</td>\n",
       "      <td>7651.37</td>\n",
       "    </tr>\n",
       "    <tr>\n",
       "      <th>7</th>\n",
       "      <td>2015-12-10 16:24:03.000000</td>\n",
       "      <td>9842</td>\n",
       "      <td>7832.81</td>\n",
       "    </tr>\n",
       "    <tr>\n",
       "      <th>8</th>\n",
       "      <td>2015-12-10 16:30:12.000000</td>\n",
       "      <td>9944</td>\n",
       "      <td>10056.64</td>\n",
       "    </tr>\n",
       "    <tr>\n",
       "      <th>9</th>\n",
       "      <td>2016-02-15 13:52:37.000000</td>\n",
       "      <td>9948</td>\n",
       "      <td>10056.64</td>\n",
       "    </tr>\n",
       "    <tr>\n",
       "      <th>10</th>\n",
       "      <td>2016-02-15 09:38:41.000000</td>\n",
       "      <td>9952</td>\n",
       "      <td>10056.64</td>\n",
       "    </tr>\n",
       "    <tr>\n",
       "      <th>11</th>\n",
       "      <td>2016-04-18 16:12:52.000000</td>\n",
       "      <td>9952</td>\n",
       "      <td>10056.64</td>\n",
       "    </tr>\n",
       "    <tr>\n",
       "      <th>12</th>\n",
       "      <td>2016-06-12 17:21:07.000000</td>\n",
       "      <td>9955</td>\n",
       "      <td>10056.64</td>\n",
       "    </tr>\n",
       "    <tr>\n",
       "      <th>13</th>\n",
       "      <td>2016-06-12 06:31:02.000000</td>\n",
       "      <td>9958</td>\n",
       "      <td>10056.64</td>\n",
       "    </tr>\n",
       "  </tbody>\n",
       "</table>\n",
       "</div>"
      ],
      "text/plain": [
       "                       stamp_x  loc_total    volume\n",
       "0   2015-12-10 13:58:11.000000       7976       NaN\n",
       "1   2015-12-10 14:43:48.000000       8279       NaN\n",
       "2   2015-12-10 14:46:29.000000       8291    342.36\n",
       "3   2015-12-10 14:51:57.000000       9192    342.36\n",
       "4   2015-12-10 14:52:40.000000       9201   1393.20\n",
       "5   2015-12-10 15:33:23.000000       9326   3187.98\n",
       "6   2015-12-10 16:15:33.000000       9695   7651.37\n",
       "7   2015-12-10 16:24:03.000000       9842   7832.81\n",
       "8   2015-12-10 16:30:12.000000       9944  10056.64\n",
       "9   2016-02-15 13:52:37.000000       9948  10056.64\n",
       "10  2016-02-15 09:38:41.000000       9952  10056.64\n",
       "11  2016-04-18 16:12:52.000000       9952  10056.64\n",
       "12  2016-06-12 17:21:07.000000       9955  10056.64\n",
       "13  2016-06-12 06:31:02.000000       9958  10056.64"
      ]
     },
     "execution_count": 75,
     "metadata": {},
     "output_type": "execute_result"
    }
   ],
   "source": [
    "metric[['stamp_x','loc_total','volume']]"
   ]
  },
  {
   "cell_type": "markdown",
   "metadata": {},
   "source": [
    "### Hierarchical Data"
   ]
  },
  {
   "cell_type": "markdown",
   "metadata": {
    "collapsed": true
   },
   "source": [
    "entity_structure, tag"
   ]
  },
  {
   "cell_type": "code",
   "execution_count": 80,
   "metadata": {
    "collapsed": false
   },
   "outputs": [
    {
     "name": "stdout",
     "output_type": "stream",
     "text": [
      "Index(['child_of', 'child_of_id', 'created_hash', 'entity_name', 'entity_type',\n",
      "       'ext', 'id', 'last_before_removed_hash', 'prj_id', 'type'],\n",
      "      dtype='object')\n",
      "Index(['class_name', 'file_path', 'func_id', 'hash', 'id', 'project',\n",
      "       'tag_key', 'tag_value', 'user', 'var_name'],\n",
      "      dtype='object')\n"
     ]
    }
   ],
   "source": [
    "print( JSimple['entity_structure'].columns )\n",
    "print( JSimple['tag'].columns )"
   ]
  },
  {
   "cell_type": "code",
   "execution_count": 102,
   "metadata": {
    "collapsed": false
   },
   "outputs": [
    {
     "data": {
      "text/html": [
       "<div>\n",
       "<table border=\"1\" class=\"dataframe\">\n",
       "  <thead>\n",
       "    <tr style=\"text-align: right;\">\n",
       "      <th></th>\n",
       "      <th>entity_type</th>\n",
       "    </tr>\n",
       "    <tr>\n",
       "      <th>entity_type</th>\n",
       "      <th></th>\n",
       "    </tr>\n",
       "  </thead>\n",
       "  <tbody>\n",
       "    <tr>\n",
       "      <th>project</th>\n",
       "      <td>1</td>\n",
       "    </tr>\n",
       "    <tr>\n",
       "      <th>directory</th>\n",
       "      <td>79</td>\n",
       "    </tr>\n",
       "    <tr>\n",
       "      <th>file</th>\n",
       "      <td>154</td>\n",
       "    </tr>\n",
       "    <tr>\n",
       "      <th>class</th>\n",
       "      <td>4</td>\n",
       "    </tr>\n",
       "    <tr>\n",
       "      <th>method</th>\n",
       "      <td>7</td>\n",
       "    </tr>\n",
       "    <tr>\n",
       "      <th>param</th>\n",
       "      <td>5</td>\n",
       "    </tr>\n",
       "    <tr>\n",
       "      <th>variable</th>\n",
       "      <td>9</td>\n",
       "    </tr>\n",
       "  </tbody>\n",
       "</table>\n",
       "</div>"
      ],
      "text/plain": [
       "             entity_type\n",
       "entity_type             \n",
       "project                1\n",
       "directory             79\n",
       "file                 154\n",
       "class                  4\n",
       "method                 7\n",
       "param                  5\n",
       "variable               9"
      ]
     },
     "execution_count": 102,
     "metadata": {},
     "output_type": "execute_result"
    }
   ],
   "source": [
    "tmp = JSimple['entity_structure']\n",
    "tmp = tmp[tmp['last_before_removed_hash'] =='']\n",
    "tmp = JSimple['entity_structure'].groupby('entity_type').agg({'entity_type':np.size})\n",
    "tmp.reindex(['project','directory','file','class','method','param','variable'])"
   ]
  },
  {
   "cell_type": "code",
   "execution_count": 85,
   "metadata": {
    "collapsed": false
   },
   "outputs": [
    {
     "data": {
      "text/html": [
       "<div>\n",
       "<table border=\"1\" class=\"dataframe\">\n",
       "  <thead>\n",
       "    <tr style=\"text-align: right;\">\n",
       "      <th></th>\n",
       "      <th>class_name</th>\n",
       "      <th>file_path</th>\n",
       "      <th>func_id</th>\n",
       "      <th>hash</th>\n",
       "      <th>id</th>\n",
       "      <th>project</th>\n",
       "      <th>tag_key</th>\n",
       "      <th>tag_value</th>\n",
       "      <th>user</th>\n",
       "      <th>var_name</th>\n",
       "    </tr>\n",
       "  </thead>\n",
       "  <tbody>\n",
       "    <tr>\n",
       "      <th>17</th>\n",
       "      <td>aSimple::Animal</td>\n",
       "      <td>None</td>\n",
       "      <td>NaN</td>\n",
       "      <td>4fc5084ad116ea2bcc1953bf816f0ae6af34a979</td>\n",
       "      <td>18</td>\n",
       "      <td>testprj_Java_aSimple</td>\n",
       "      <td>thisIs</td>\n",
       "      <td>aClassDeclaration</td>\n",
       "      <td>IMTorgTestCode</td>\n",
       "      <td>None</td>\n",
       "    </tr>\n",
       "    <tr>\n",
       "      <th>18</th>\n",
       "      <td>None</td>\n",
       "      <td>None</td>\n",
       "      <td>NaN</td>\n",
       "      <td>4fc5084ad116ea2bcc1953bf816f0ae6af34a979</td>\n",
       "      <td>19</td>\n",
       "      <td>testprj_Java_aSimple</td>\n",
       "      <td>thisIs</td>\n",
       "      <td>classVariable</td>\n",
       "      <td>IMTorgTestCode</td>\n",
       "      <td>NumOfAnimals</td>\n",
       "    </tr>\n",
       "    <tr>\n",
       "      <th>19</th>\n",
       "      <td>None</td>\n",
       "      <td>None</td>\n",
       "      <td>225.0</td>\n",
       "      <td>400da368b4a92ea4ed33d6847d5c4deaaf388a16</td>\n",
       "      <td>20</td>\n",
       "      <td>testprj_Java_aSimple</td>\n",
       "      <td>thisIs</td>\n",
       "      <td>classMethod</td>\n",
       "      <td>IMTorgTestCode</td>\n",
       "      <td>None</td>\n",
       "    </tr>\n",
       "    <tr>\n",
       "      <th>20</th>\n",
       "      <td>aSimple::Animal</td>\n",
       "      <td>None</td>\n",
       "      <td>NaN</td>\n",
       "      <td>400da368b4a92ea4ed33d6847d5c4deaaf388a16</td>\n",
       "      <td>21</td>\n",
       "      <td>testprj_Java_aSimple</td>\n",
       "      <td>thisIs</td>\n",
       "      <td>aClassDeclaration</td>\n",
       "      <td>IMTorgTestCode</td>\n",
       "      <td>None</td>\n",
       "    </tr>\n",
       "    <tr>\n",
       "      <th>21</th>\n",
       "      <td>None</td>\n",
       "      <td>None</td>\n",
       "      <td>NaN</td>\n",
       "      <td>400da368b4a92ea4ed33d6847d5c4deaaf388a16</td>\n",
       "      <td>22</td>\n",
       "      <td>testprj_Java_aSimple</td>\n",
       "      <td>thisIs</td>\n",
       "      <td>classVariable</td>\n",
       "      <td>IMTorgTestCode</td>\n",
       "      <td>NumOfAnimals</td>\n",
       "    </tr>\n",
       "  </tbody>\n",
       "</table>\n",
       "</div>"
      ],
      "text/plain": [
       "         class_name file_path  func_id  \\\n",
       "17  aSimple::Animal      None      NaN   \n",
       "18             None      None      NaN   \n",
       "19             None      None    225.0   \n",
       "20  aSimple::Animal      None      NaN   \n",
       "21             None      None      NaN   \n",
       "\n",
       "                                        hash  id               project  \\\n",
       "17  4fc5084ad116ea2bcc1953bf816f0ae6af34a979  18  testprj_Java_aSimple   \n",
       "18  4fc5084ad116ea2bcc1953bf816f0ae6af34a979  19  testprj_Java_aSimple   \n",
       "19  400da368b4a92ea4ed33d6847d5c4deaaf388a16  20  testprj_Java_aSimple   \n",
       "20  400da368b4a92ea4ed33d6847d5c4deaaf388a16  21  testprj_Java_aSimple   \n",
       "21  400da368b4a92ea4ed33d6847d5c4deaaf388a16  22  testprj_Java_aSimple   \n",
       "\n",
       "   tag_key          tag_value            user      var_name  \n",
       "17  thisIs  aClassDeclaration  IMTorgTestCode          None  \n",
       "18  thisIs      classVariable  IMTorgTestCode  NumOfAnimals  \n",
       "19  thisIs        classMethod  IMTorgTestCode          None  \n",
       "20  thisIs  aClassDeclaration  IMTorgTestCode          None  \n",
       "21  thisIs      classVariable  IMTorgTestCode  NumOfAnimals  "
      ]
     },
     "execution_count": 85,
     "metadata": {},
     "output_type": "execute_result"
    }
   ],
   "source": [
    "JSimple['tag'].tail()"
   ]
  },
  {
   "cell_type": "markdown",
   "metadata": {},
   "source": [
    "### Entity-Relation Data"
   ]
  },
  {
   "cell_type": "code",
   "execution_count": null,
   "metadata": {
    "collapsed": true
   },
   "outputs": [],
   "source": [
    "entity_structure, relation"
   ]
  },
  {
   "cell_type": "code",
   "execution_count": 95,
   "metadata": {
    "collapsed": false
   },
   "outputs": [
    {
     "data": {
      "text/plain": [
       "(13, 8)"
      ]
     },
     "execution_count": 95,
     "metadata": {},
     "output_type": "execute_result"
    }
   ],
   "source": [
    "JSimple['relation'].shape"
   ]
  },
  {
   "cell_type": "markdown",
   "metadata": {},
   "source": [
    "### Descriptive Data"
   ]
  },
  {
   "cell_type": "markdown",
   "metadata": {
    "collapsed": true
   },
   "source": [
    "entity_characteristic, quality, error, author"
   ]
  },
  {
   "cell_type": "code",
   "execution_count": 123,
   "metadata": {
    "collapsed": false
   },
   "outputs": [
    {
     "name": "stdout",
     "output_type": "stream",
     "text": [
      "Index(['author_domain', 'author_email', 'author_name', 'date_author_join_prj',\n",
      "       'id', 'prj_id'],\n",
      "      dtype='object')\n",
      "Index(['blank', 'brief_desc', 'code', 'comment', 'detailed_desc', 'end_line',\n",
      "       'entity_id', 'hash', 'id', 'inbody_desc', 'last_modification_hash',\n",
      "       'last_modification_loc_added', 'last_modification_loc_changes',\n",
      "       'last_modification_loc_removed', 'last_modification_user', 'loc_add',\n",
      "       'loc_del', 'loc_total', 'location', 'modifications', 'reimplements_id',\n",
      "       'start_line', 'total_loc_added', 'total_loc_removed',\n",
      "       'total_references'],\n",
      "      dtype='object')\n",
      "Index([], dtype='object')\n",
      "Index([], dtype='object')\n"
     ]
    }
   ],
   "source": [
    "print( JSimple['author'].columns )\n",
    "print( JSimple['entity_characteristic'].columns )\n",
    "print( JSimple['quality'].columns )\n",
    "print( JSimple['error'].columns )"
   ]
  },
  {
   "cell_type": "code",
   "execution_count": 106,
   "metadata": {
    "collapsed": false
   },
   "outputs": [
    {
     "data": {
      "text/html": [
       "<div>\n",
       "<table border=\"1\" class=\"dataframe\">\n",
       "  <thead>\n",
       "    <tr style=\"text-align: right;\">\n",
       "      <th></th>\n",
       "      <th>child_of</th>\n",
       "      <th>child_of_id</th>\n",
       "      <th>created_hash</th>\n",
       "      <th>entity_name</th>\n",
       "      <th>entity_type</th>\n",
       "      <th>ext</th>\n",
       "      <th>id</th>\n",
       "      <th>last_before_removed_hash</th>\n",
       "      <th>prj_id</th>\n",
       "      <th>type</th>\n",
       "    </tr>\n",
       "  </thead>\n",
       "  <tbody>\n",
       "    <tr>\n",
       "      <th>254</th>\n",
       "      <td>aSimple/bin/aSimple</td>\n",
       "      <td>127</td>\n",
       "      <td>7405846a24596c8fdcadec8be1f392783d1517fc</td>\n",
       "      <td>Cat.class</td>\n",
       "      <td>file</td>\n",
       "      <td>.class</td>\n",
       "      <td>255</td>\n",
       "      <td></td>\n",
       "      <td>1</td>\n",
       "      <td>None</td>\n",
       "    </tr>\n",
       "    <tr>\n",
       "      <th>255</th>\n",
       "      <td>aSimple/src/aSimple</td>\n",
       "      <td>130</td>\n",
       "      <td>7405846a24596c8fdcadec8be1f392783d1517fc</td>\n",
       "      <td>Cat.java</td>\n",
       "      <td>file</td>\n",
       "      <td>.java</td>\n",
       "      <td>256</td>\n",
       "      <td></td>\n",
       "      <td>1</td>\n",
       "      <td>None</td>\n",
       "    </tr>\n",
       "    <tr>\n",
       "      <th>256</th>\n",
       "      <td>Cat.java</td>\n",
       "      <td>256</td>\n",
       "      <td>7405846a24596c8fdcadec8be1f392783d1517fc</td>\n",
       "      <td>aSimple::Cat</td>\n",
       "      <td>class</td>\n",
       "      <td>.java</td>\n",
       "      <td>257</td>\n",
       "      <td></td>\n",
       "      <td>1</td>\n",
       "      <td>None</td>\n",
       "    </tr>\n",
       "    <tr>\n",
       "      <th>257</th>\n",
       "      <td>aSimple::Cat</td>\n",
       "      <td>257</td>\n",
       "      <td>7405846a24596c8fdcadec8be1f392783d1517fc</td>\n",
       "      <td>Cat</td>\n",
       "      <td>method</td>\n",
       "      <td>.java</td>\n",
       "      <td>258</td>\n",
       "      <td></td>\n",
       "      <td>1</td>\n",
       "      <td>None</td>\n",
       "    </tr>\n",
       "    <tr>\n",
       "      <th>258</th>\n",
       "      <td>Cat</td>\n",
       "      <td>258</td>\n",
       "      <td>7405846a24596c8fdcadec8be1f392783d1517fc</td>\n",
       "      <td>name</td>\n",
       "      <td>param</td>\n",
       "      <td>.java</td>\n",
       "      <td>259</td>\n",
       "      <td></td>\n",
       "      <td>1</td>\n",
       "      <td>String</td>\n",
       "    </tr>\n",
       "  </tbody>\n",
       "</table>\n",
       "</div>"
      ],
      "text/plain": [
       "                child_of  child_of_id  \\\n",
       "254  aSimple/bin/aSimple          127   \n",
       "255  aSimple/src/aSimple          130   \n",
       "256             Cat.java          256   \n",
       "257         aSimple::Cat          257   \n",
       "258                  Cat          258   \n",
       "\n",
       "                                 created_hash   entity_name entity_type  \\\n",
       "254  7405846a24596c8fdcadec8be1f392783d1517fc     Cat.class        file   \n",
       "255  7405846a24596c8fdcadec8be1f392783d1517fc      Cat.java        file   \n",
       "256  7405846a24596c8fdcadec8be1f392783d1517fc  aSimple::Cat       class   \n",
       "257  7405846a24596c8fdcadec8be1f392783d1517fc           Cat      method   \n",
       "258  7405846a24596c8fdcadec8be1f392783d1517fc          name       param   \n",
       "\n",
       "        ext   id last_before_removed_hash  prj_id    type  \n",
       "254  .class  255                                1    None  \n",
       "255   .java  256                                1    None  \n",
       "256   .java  257                                1    None  \n",
       "257   .java  258                                1    None  \n",
       "258   .java  259                                1  String  "
      ]
     },
     "execution_count": 106,
     "metadata": {},
     "output_type": "execute_result"
    }
   ],
   "source": [
    "tmp = JSimple['entity_structure']\n",
    "tmp = tmp[['id','entity_name']]\n",
    "m1 = pandas.merge(tmp,JSimple['entity_characteristic'], on='id', how='left')\n",
    "m2 = pandas.merge(m1, JSimple['quality'], on='hash', how='left')"
   ]
  },
  {
   "cell_type": "code",
   "execution_count": 109,
   "metadata": {
    "collapsed": false
   },
   "outputs": [
    {
     "data": {
      "text/html": [
       "<div>\n",
       "<table border=\"1\" class=\"dataframe\">\n",
       "  <thead>\n",
       "    <tr style=\"text-align: right;\">\n",
       "      <th></th>\n",
       "      <th>author_domain</th>\n",
       "      <th>author_email</th>\n",
       "      <th>author_name</th>\n",
       "      <th>date_author_join_prj</th>\n",
       "      <th>id</th>\n",
       "      <th>prj_id</th>\n",
       "    </tr>\n",
       "  </thead>\n",
       "  <tbody>\n",
       "    <tr>\n",
       "      <th>0</th>\n",
       "      <td>mgmt-tech.org</td>\n",
       "      <td>jason.beach@mgmt-tech.org</td>\n",
       "      <td>IMTorg</td>\n",
       "      <td>2015-12-10 13:58:11.000000</td>\n",
       "      <td>1</td>\n",
       "      <td>1</td>\n",
       "    </tr>\n",
       "    <tr>\n",
       "      <th>1</th>\n",
       "      <td>gmx.com</td>\n",
       "      <td>claytonk@gmx.com</td>\n",
       "      <td>clayton</td>\n",
       "      <td>2016-02-15 13:52:37.000000</td>\n",
       "      <td>2</td>\n",
       "      <td>1</td>\n",
       "    </tr>\n",
       "  </tbody>\n",
       "</table>\n",
       "</div>"
      ],
      "text/plain": [
       "   author_domain               author_email author_name  \\\n",
       "0  mgmt-tech.org  jason.beach@mgmt-tech.org      IMTorg   \n",
       "1        gmx.com           claytonk@gmx.com     clayton   \n",
       "\n",
       "         date_author_join_prj  id prj_id  \n",
       "0  2015-12-10 13:58:11.000000   1      1  \n",
       "1  2016-02-15 13:52:37.000000   2      1  "
      ]
     },
     "execution_count": 109,
     "metadata": {},
     "output_type": "execute_result"
    }
   ],
   "source": []
  },
  {
   "cell_type": "markdown",
   "metadata": {},
   "source": [
    "### Processing - Related"
   ]
  },
  {
   "cell_type": "markdown",
   "metadata": {
    "collapsed": true
   },
   "source": [
    "process_log"
   ]
  },
  {
   "cell_type": "code",
   "execution_count": 124,
   "metadata": {
    "collapsed": false
   },
   "outputs": [
    {
     "name": "stdout",
     "output_type": "stream",
     "text": [
      "<class 'pandas.core.frame.DataFrame'>\n",
      "Index: 0 entries\n",
      "Empty DataFrame"
     ]
    }
   ],
   "source": [
    "JSimple['process_log'].info()"
   ]
  },
  {
   "cell_type": "markdown",
   "metadata": {},
   "source": [
    "### Conclusion"
   ]
  },
  {
   "cell_type": "markdown",
   "metadata": {
    "collapsed": true
   },
   "source": [
    "This overview of the raw data collected provides a basis for workflows and understanding advanced, calculated data.  You can learn more in follow-on [guides](http://guides.scrumsaga.com/)."
   ]
  }
 ],
 "metadata": {
  "anaconda-cloud": {},
  "kernelspec": {
   "display_name": "Python [default]",
   "language": "python",
   "name": "python3"
  },
  "language_info": {
   "codemirror_mode": {
    "name": "ipython",
    "version": 3
   },
   "file_extension": ".py",
   "mimetype": "text/x-python",
   "name": "python",
   "nbconvert_exporter": "python",
   "pygments_lexer": "ipython3",
   "version": "3.5.2"
  }
 },
 "nbformat": 4,
 "nbformat_minor": 0
}
