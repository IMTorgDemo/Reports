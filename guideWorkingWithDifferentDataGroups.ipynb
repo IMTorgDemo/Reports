{
 "cells": [
  {
   "cell_type": "markdown",
   "metadata": {},
   "source": [
    "# Working with Different Software Data Groups\n",
    "\n",
    "The ScrumSaga system extracts many different (100+) data fields, with transformation alorithms for many more.  This can seem unmanageable, but becomes intuitive after learning the various categories and sub-categories of metric Data Groups.\n",
    "\n",
    "This guide describes a few of the basic Data Groups, how they are related.  While all of the data can be represented in any of the categories, for instructional purposes, we can categorize them by their structure and typical use:\n",
    "\n",
    "* Metric (timeseries)\n",
    "* Hierarchical (parent-child)\n",
    "* Entity-Relation (graph/network)\n",
    "* Descriptive\n",
    "\n",
    "We also provide the _processing data_ for those with interest."
   ]
  },
  {
   "cell_type": "markdown",
   "metadata": {
    "collapsed": true
   },
   "source": [
    "### Preparations\n",
    "_Set-up Environment_"
   ]
  },
  {
   "cell_type": "code",
   "execution_count": 1,
   "metadata": {
    "collapsed": false
   },
   "outputs": [
    {
     "name": "stdout",
     "output_type": "stream",
     "text": [
      "Account.py\n",
      "Portfolio.py\n",
      "Project.py\n",
      "README.md\n",
      "Repo.py\n",
      "__init__.py\n",
      "__pycache__\n"
     ]
    }
   ],
   "source": [
    "# Ensure API Wrapper is available and load it\n",
    "! ls ./ScrumSaga"
   ]
  },
  {
   "cell_type": "code",
   "execution_count": 2,
   "metadata": {
    "collapsed": false
   },
   "outputs": [],
   "source": [
    "import sys\n",
    "path = r'C:\\Users\\Jason\\Documents\\IPython Notebooks\\SS-Reports\\ScrumSaga'\n",
    "sys.path.append(path)\n",
    "import ScrumSaga as saga"
   ]
  },
  {
   "cell_type": "code",
   "execution_count": 3,
   "metadata": {
    "collapsed": false
   },
   "outputs": [
    {
     "name": "stdout",
     "output_type": "stream",
     "text": [
      "passwords match\n"
     ]
    }
   ],
   "source": [
    "# Acocunt information (must be manipulated on website: scrumsaga.com)\n",
    "SAGA_ACCT = {\"email\":\"dev.team@mgmt-tech.org\",\"password\":\"*********\"}\n",
    "\n",
    "Acct = saga.Account(acct_email=SAGA_ACCT['email'], acct_password=SAGA_ACCT['password'])\n",
    "Acct.login()"
   ]
  },
  {
   "cell_type": "markdown",
   "metadata": {},
   "source": [
    "_Check Available Repo Data_"
   ]
  },
  {
   "cell_type": "code",
   "execution_count": 23,
   "metadata": {
    "collapsed": false
   },
   "outputs": [
    {
     "name": "stdout",
     "output_type": "stream",
     "text": [
      "['IMTorg--testprj_Java_aSimple', 'IMTorgTestCode--testprj_Java_aSimple', 'IMTorgTestProj--demoprj_Java_HumanResourceApp']\n"
     ]
    }
   ],
   "source": [
    "Acct.view_data()"
   ]
  },
  {
   "cell_type": "markdown",
   "metadata": {},
   "source": [
    "### Simple Java Project"
   ]
  },
  {
   "cell_type": "code",
   "execution_count": 24,
   "metadata": {
    "collapsed": false
   },
   "outputs": [],
   "source": [
    "# create project\n",
    "JavaRepo = saga.Repo('IMTorgTestProj','information@mgmt-tech.org','demoprj_Java_HumanResourceApp')\n",
    "jHrApp = saga.Project(Acct, JavaRepo)"
   ]
  },
  {
   "cell_type": "code",
   "execution_count": 27,
   "metadata": {
    "collapsed": false
   },
   "outputs": [
    {
     "name": "stdout",
     "output_type": "stream",
     "text": [
      "No need to process, again\n"
     ]
    },
    {
     "data": {
      "text/plain": [
       "<Response [200]>"
      ]
     },
     "execution_count": 27,
     "metadata": {},
     "output_type": "execute_result"
    }
   ],
   "source": [
    "jHrApp.extract(selection='all')"
   ]
  },
  {
   "cell_type": "markdown",
   "metadata": {},
   "source": [
    "_Load Data from Repo_ "
   ]
  },
  {
   "cell_type": "code",
   "execution_count": 28,
   "metadata": {
    "collapsed": false
   },
   "outputs": [
    {
     "name": "stdout",
     "output_type": "stream",
     "text": [
      "ERROR group records:  4274\n",
      " -elapsed time: 4.323942\n",
      "SIZE group records:  69\n",
      " -elapsed time: 0.348959\n",
      "AUTHOR group records:  4\n",
      " -elapsed time: 0.226758\n",
      "PROJECT group records:  69\n",
      " -elapsed time: 0.466084\n",
      "PROCESS_LOG group records:  11\n",
      " -elapsed time: 0.229918\n",
      "ENTITY_CHARACTERISTIC group records:  4438\n",
      " -elapsed time: 7.090637\n",
      "COMPLEXITY group records:  465\n",
      " -elapsed time: 0.595327\n",
      "QUALITY group records:  874\n",
      " -elapsed time: 0.721322\n",
      "ENTITY_STRUCTURE group records:  1114\n",
      " -elapsed time: 1.159667\n",
      "RELATION group records:  12\n",
      " -elapsed time: 0.234500\n",
      "TAG group records:  204\n",
      " -elapsed time: 0.452131\n",
      "Loading completed with no errors\n"
     ]
    }
   ],
   "source": [
    "# load all metric groups\n",
    "jHrApp.load_all()"
   ]
  },
  {
   "cell_type": "code",
   "execution_count": 78,
   "metadata": {
    "collapsed": false
   },
   "outputs": [
    {
     "data": {
      "text/html": [
       "<div>\n",
       "<table border=\"1\" class=\"dataframe\">\n",
       "  <thead>\n",
       "    <tr style=\"text-align: right;\">\n",
       "      <th></th>\n",
       "      <th>stamp</th>\n",
       "      <th>hash</th>\n",
       "      <th>subject</th>\n",
       "    </tr>\n",
       "  </thead>\n",
       "  <tbody>\n",
       "    <tr>\n",
       "      <th>64</th>\n",
       "      <td>2016-05-01 05:15:25.000000</td>\n",
       "      <td>e9f59b54d0bc10569ae86abae7607658ca2503d9</td>\n",
       "      <td>Downgrading Java to 1.7</td>\n",
       "    </tr>\n",
       "    <tr>\n",
       "      <th>65</th>\n",
       "      <td>2016-05-01 05:20:24.000000</td>\n",
       "      <td>fb0b48d81a4d9be7dfcdd2119fde8e321894cc8a</td>\n",
       "      <td>Updating DB password as DEMO server</td>\n",
       "    </tr>\n",
       "    <tr>\n",
       "      <th>66</th>\n",
       "      <td>2016-07-13 22:40:33.000000</td>\n",
       "      <td>8bc5a79bf92a7cee970d5e4c5bfa8c94f88a5a53</td>\n",
       "      <td>1. Add new Employee bug is resolved. 2. Search...</td>\n",
       "    </tr>\n",
       "    <tr>\n",
       "      <th>67</th>\n",
       "      <td>2016-07-15 21:33:56.000000</td>\n",
       "      <td>e633c4898600159cf6b62c37256c39e9bc563203</td>\n",
       "      <td>1. Search Assignment functionality is updated.</td>\n",
       "    </tr>\n",
       "    <tr>\n",
       "      <th>68</th>\n",
       "      <td>2016-07-17 04:40:04.000000</td>\n",
       "      <td>c73e2824188fe99555f6f435bbe7959631b5d1c6</td>\n",
       "      <td>Updated missing js file usage with existing js...</td>\n",
       "    </tr>\n",
       "  </tbody>\n",
       "</table>\n",
       "</div>"
      ],
      "text/plain": [
       "                         stamp                                      hash  \\\n",
       "64  2016-05-01 05:15:25.000000  e9f59b54d0bc10569ae86abae7607658ca2503d9   \n",
       "65  2016-05-01 05:20:24.000000  fb0b48d81a4d9be7dfcdd2119fde8e321894cc8a   \n",
       "66  2016-07-13 22:40:33.000000  8bc5a79bf92a7cee970d5e4c5bfa8c94f88a5a53   \n",
       "67  2016-07-15 21:33:56.000000  e633c4898600159cf6b62c37256c39e9bc563203   \n",
       "68  2016-07-17 04:40:04.000000  c73e2824188fe99555f6f435bbe7959631b5d1c6   \n",
       "\n",
       "                                              subject  \n",
       "64                            Downgrading Java to 1.7  \n",
       "65                Updating DB password as DEMO server  \n",
       "66  1. Add new Employee bug is resolved. 2. Search...  \n",
       "67     1. Search Assignment functionality is updated.  \n",
       "68  Updated missing js file usage with existing js...  "
      ]
     },
     "execution_count": 78,
     "metadata": {},
     "output_type": "execute_result"
    }
   ],
   "source": [
    "# timeline of events\n",
    "jHrApp['project'][['stamp', 'hash','subject']].tail()"
   ]
  },
  {
   "cell_type": "markdown",
   "metadata": {
    "collapsed": true
   },
   "source": [
    "### Metric Data"
   ]
  },
  {
   "cell_type": "markdown",
   "metadata": {},
   "source": [
    "This section looks at project, size, and complexity data in order to better understand how they might be used in measures for business decisions."
   ]
  },
  {
   "cell_type": "code",
   "execution_count": 62,
   "metadata": {
    "collapsed": false
   },
   "outputs": [
    {
     "name": "stdout",
     "output_type": "stream",
     "text": [
      "PROJECT:  Index(['author_add', 'author_commits_count', 'author_del', 'author_files_size',\n",
      "       'author_id', 'author_modified_count', 'author_original_count',\n",
      "       'author_paths_count', 'author_total', 'authors_count', 'hash', 'id',\n",
      "       'prj_id', 'project', 'release_count', 'reviewer_add',\n",
      "       'reviewer_commits_count', 'reviewer_del', 'reviewer_files_size',\n",
      "       'reviewer_modified_count', 'reviewer_name', 'reviewer_original_count',\n",
      "       'reviewer_paths_count', 'reviewer_total', 'stamp', 'stamp_author',\n",
      "       'subject'],\n",
      "      dtype='object')\n",
      "SIZE:  Index(['count', 'files_count', 'files_size', 'hash', 'id', 'loc_add',\n",
      "       'loc_del', 'loc_total', 'modified_file_count', 'original_file_count',\n",
      "       'prj_id', 'project', 'stamp', 'tag_count'],\n",
      "      dtype='object')\n",
      "COMPLEXITY:  Index(['bugs', 'calculated_length', 'cyclomatic_complexity', 'difficulty',\n",
      "       'effort', 'entity_id', 'hash', 'id', 'n1', 'n2', 'nn1', 'nn2', 'time',\n",
      "       'volume'],\n",
      "      dtype='object')\n"
     ]
    }
   ],
   "source": [
    "import pandas\n",
    "import numpy as np\n",
    "\n",
    "# per commit (all commits)\n",
    "print('PROJECT: ', jHrApp['project'].columns ) \n",
    "print('SIZE: ', jHrApp['size'].columns )\n",
    "\n",
    "# per commit (10 commits), per entity\n",
    "print('COMPLEXITY: ', jHrApp['complexity'].columns) "
   ]
  },
  {
   "cell_type": "code",
   "execution_count": 57,
   "metadata": {
    "collapsed": true
   },
   "outputs": [],
   "source": [
    "jHrApp['complexity']['volume'] = jHrApp['complexity']['volume'].astype('float')\n",
    "jHrApp['complexity']['difficulty'] = jHrApp['complexity']['difficulty'].astype('float')\n",
    "jHrApp['complexity']['effort'] = jHrApp['complexity']['effort'].astype('float')\n",
    "\n",
    "cmplx = jHrApp['complexity'].groupby('hash').agg({'volume': np.sum, 'difficulty':np.sum, 'effort':np.sum})\n",
    "cmplx['hash'] = cmplx.index.values"
   ]
  },
  {
   "cell_type": "code",
   "execution_count": 58,
   "metadata": {
    "collapsed": false
   },
   "outputs": [],
   "source": [
    "m1 = pandas.merge(jHrApp['project'], jHrApp['size'], on='hash', how='left')\n",
    "metric = pandas.merge(m1, cmplx, on='hash', how='right')"
   ]
  },
  {
   "cell_type": "code",
   "execution_count": 79,
   "metadata": {
    "collapsed": false
   },
   "outputs": [
    {
     "data": {
      "text/html": [
       "<div>\n",
       "<table border=\"1\" class=\"dataframe\">\n",
       "  <thead>\n",
       "    <tr style=\"text-align: right;\">\n",
       "      <th></th>\n",
       "      <th>stamp_x</th>\n",
       "      <th>authors_count</th>\n",
       "      <th>files_size</th>\n",
       "      <th>loc_total</th>\n",
       "      <th>loc_add</th>\n",
       "      <th>loc_del</th>\n",
       "      <th>volume</th>\n",
       "      <th>difficulty</th>\n",
       "      <th>effort</th>\n",
       "    </tr>\n",
       "  </thead>\n",
       "  <tbody>\n",
       "    <tr>\n",
       "      <th>0</th>\n",
       "      <td>2016-04-16 12:11:18.000000</td>\n",
       "      <td>1</td>\n",
       "      <td>8584450</td>\n",
       "      <td>2935</td>\n",
       "      <td>2935</td>\n",
       "      <td>0</td>\n",
       "      <td>2304.00</td>\n",
       "      <td>106.50</td>\n",
       "      <td>40906.08</td>\n",
       "    </tr>\n",
       "    <tr>\n",
       "      <th>1</th>\n",
       "      <td>2016-04-16 17:23:21.000000</td>\n",
       "      <td>1</td>\n",
       "      <td>8724989</td>\n",
       "      <td>3701</td>\n",
       "      <td>3717</td>\n",
       "      <td>16</td>\n",
       "      <td>13733.25</td>\n",
       "      <td>609.30</td>\n",
       "      <td>303455.13</td>\n",
       "    </tr>\n",
       "    <tr>\n",
       "      <th>2</th>\n",
       "      <td>2016-04-21 18:21:39.000000</td>\n",
       "      <td>1</td>\n",
       "      <td>8756060</td>\n",
       "      <td>4700</td>\n",
       "      <td>4745</td>\n",
       "      <td>45</td>\n",
       "      <td>28847.13</td>\n",
       "      <td>1014.02</td>\n",
       "      <td>694932.82</td>\n",
       "    </tr>\n",
       "    <tr>\n",
       "      <th>3</th>\n",
       "      <td>2016-05-10 19:09:34.000000</td>\n",
       "      <td>2</td>\n",
       "      <td>768312</td>\n",
       "      <td>5000</td>\n",
       "      <td>5228</td>\n",
       "      <td>228</td>\n",
       "      <td>50281.08</td>\n",
       "      <td>1409.60</td>\n",
       "      <td>1402362.56</td>\n",
       "    </tr>\n",
       "    <tr>\n",
       "      <th>4</th>\n",
       "      <td>2016-06-08 12:43:32.000000</td>\n",
       "      <td>2</td>\n",
       "      <td>768730</td>\n",
       "      <td>5027</td>\n",
       "      <td>5259</td>\n",
       "      <td>232</td>\n",
       "      <td>50281.08</td>\n",
       "      <td>1409.60</td>\n",
       "      <td>1402362.56</td>\n",
       "    </tr>\n",
       "    <tr>\n",
       "      <th>5</th>\n",
       "      <td>2016-06-16 10:03:12.000000</td>\n",
       "      <td>2</td>\n",
       "      <td>768797</td>\n",
       "      <td>5032</td>\n",
       "      <td>5304</td>\n",
       "      <td>272</td>\n",
       "      <td>50281.08</td>\n",
       "      <td>1409.60</td>\n",
       "      <td>1402362.56</td>\n",
       "    </tr>\n",
       "    <tr>\n",
       "      <th>6</th>\n",
       "      <td>2016-04-23 11:14:43.000000</td>\n",
       "      <td>3</td>\n",
       "      <td>8766352</td>\n",
       "      <td>5041</td>\n",
       "      <td>5322</td>\n",
       "      <td>281</td>\n",
       "      <td>30920.61</td>\n",
       "      <td>1059.11</td>\n",
       "      <td>787295.47</td>\n",
       "    </tr>\n",
       "    <tr>\n",
       "      <th>7</th>\n",
       "      <td>2016-04-28 20:23:38.000000</td>\n",
       "      <td>3</td>\n",
       "      <td>9085553</td>\n",
       "      <td>6444</td>\n",
       "      <td>6801</td>\n",
       "      <td>357</td>\n",
       "      <td>45262.26</td>\n",
       "      <td>1310.09</td>\n",
       "      <td>1166944.23</td>\n",
       "    </tr>\n",
       "    <tr>\n",
       "      <th>8</th>\n",
       "      <td>2016-04-30 16:37:40.000000</td>\n",
       "      <td>3</td>\n",
       "      <td>9110644</td>\n",
       "      <td>7131</td>\n",
       "      <td>7576</td>\n",
       "      <td>445</td>\n",
       "      <td>47297.79</td>\n",
       "      <td>1339.17</td>\n",
       "      <td>1258266.39</td>\n",
       "    </tr>\n",
       "    <tr>\n",
       "      <th>9</th>\n",
       "      <td>2016-07-17 04:40:04.000000</td>\n",
       "      <td>4</td>\n",
       "      <td>778936</td>\n",
       "      <td>7382</td>\n",
       "      <td>12245</td>\n",
       "      <td>4863</td>\n",
       "      <td>51805.56</td>\n",
       "      <td>1445.40</td>\n",
       "      <td>1482433.08</td>\n",
       "    </tr>\n",
       "  </tbody>\n",
       "</table>\n",
       "</div>"
      ],
      "text/plain": [
       "                      stamp_x  authors_count  files_size  loc_total  loc_add  \\\n",
       "0  2016-04-16 12:11:18.000000              1     8584450       2935     2935   \n",
       "1  2016-04-16 17:23:21.000000              1     8724989       3701     3717   \n",
       "2  2016-04-21 18:21:39.000000              1     8756060       4700     4745   \n",
       "3  2016-05-10 19:09:34.000000              2      768312       5000     5228   \n",
       "4  2016-06-08 12:43:32.000000              2      768730       5027     5259   \n",
       "5  2016-06-16 10:03:12.000000              2      768797       5032     5304   \n",
       "6  2016-04-23 11:14:43.000000              3     8766352       5041     5322   \n",
       "7  2016-04-28 20:23:38.000000              3     9085553       6444     6801   \n",
       "8  2016-04-30 16:37:40.000000              3     9110644       7131     7576   \n",
       "9  2016-07-17 04:40:04.000000              4      778936       7382    12245   \n",
       "\n",
       "   loc_del    volume  difficulty      effort  \n",
       "0        0   2304.00      106.50    40906.08  \n",
       "1       16  13733.25      609.30   303455.13  \n",
       "2       45  28847.13     1014.02   694932.82  \n",
       "3      228  50281.08     1409.60  1402362.56  \n",
       "4      232  50281.08     1409.60  1402362.56  \n",
       "5      272  50281.08     1409.60  1402362.56  \n",
       "6      281  30920.61     1059.11   787295.47  \n",
       "7      357  45262.26     1310.09  1166944.23  \n",
       "8      445  47297.79     1339.17  1258266.39  \n",
       "9     4863  51805.56     1445.40  1482433.08  "
      ]
     },
     "execution_count": 79,
     "metadata": {},
     "output_type": "execute_result"
    }
   ],
   "source": [
    "# External stakeholders may look at data, such as this for an overview of project progress\n",
    "metric[['stamp_x','authors_count','files_size','loc_total','loc_add','loc_del','volume','difficulty','effort']]"
   ]
  },
  {
   "cell_type": "markdown",
   "metadata": {},
   "source": [
    "### Hierarchical Data"
   ]
  },
  {
   "cell_type": "markdown",
   "metadata": {
    "collapsed": true
   },
   "source": [
    "This secion will look at the hierarchical structure from two sets of data: entity_structure and tags.  While entity_structure comes naturally from code, tags are manually pasted into code comments by the developer in order to organize additional aspects."
   ]
  },
  {
   "cell_type": "code",
   "execution_count": 64,
   "metadata": {
    "collapsed": false
   },
   "outputs": [
    {
     "name": "stdout",
     "output_type": "stream",
     "text": [
      "Structure:  Index(['child_of', 'child_of_id', 'created_hash', 'entity_name', 'entity_type',\n",
      "       'ext', 'id', 'last_before_removed_hash', 'prj_id', 'type'],\n",
      "      dtype='object')\n",
      "Tags:  Index(['class_name', 'file_path', 'func_id', 'hash', 'id', 'project',\n",
      "       'tag_key', 'tag_value', 'user', 'var_name'],\n",
      "      dtype='object')\n"
     ]
    }
   ],
   "source": [
    "print('Structure: ', jHrApp['entity_structure'].columns )\n",
    "print('Tags: ', jHrApp['tag'].columns )"
   ]
  },
  {
   "cell_type": "code",
   "execution_count": 85,
   "metadata": {
    "collapsed": false
   },
   "outputs": [
    {
     "data": {
      "text/html": [
       "<div>\n",
       "<table border=\"1\" class=\"dataframe\">\n",
       "  <thead>\n",
       "    <tr style=\"text-align: right;\">\n",
       "      <th></th>\n",
       "      <th>entity_type</th>\n",
       "    </tr>\n",
       "    <tr>\n",
       "      <th>entity_type</th>\n",
       "      <th></th>\n",
       "    </tr>\n",
       "  </thead>\n",
       "  <tbody>\n",
       "    <tr>\n",
       "      <th>project</th>\n",
       "      <td>1</td>\n",
       "    </tr>\n",
       "    <tr>\n",
       "      <th>directory</th>\n",
       "      <td>41</td>\n",
       "    </tr>\n",
       "    <tr>\n",
       "      <th>file</th>\n",
       "      <td>135</td>\n",
       "    </tr>\n",
       "    <tr>\n",
       "      <th>class</th>\n",
       "      <td>329</td>\n",
       "    </tr>\n",
       "    <tr>\n",
       "      <th>method</th>\n",
       "      <td>245</td>\n",
       "    </tr>\n",
       "    <tr>\n",
       "      <th>param</th>\n",
       "      <td>162</td>\n",
       "    </tr>\n",
       "    <tr>\n",
       "      <th>variable</th>\n",
       "      <td>140</td>\n",
       "    </tr>\n",
       "  </tbody>\n",
       "</table>\n",
       "</div>"
      ],
      "text/plain": [
       "             entity_type\n",
       "entity_type             \n",
       "project                1\n",
       "directory             41\n",
       "file                 135\n",
       "class                329\n",
       "method               245\n",
       "param                162\n",
       "variable             140"
      ]
     },
     "execution_count": 85,
     "metadata": {},
     "output_type": "execute_result"
    }
   ],
   "source": [
    "tmp = jHrApp['entity_structure']\n",
    "tmp = tmp[tmp['last_before_removed_hash'] =='']\n",
    "tmp = jHrApp['entity_structure'].groupby('entity_type').agg({'entity_type':np.size})\n",
    "struct = tmp.reindex(['project','directory','file','class','method','param','variable'])\n",
    "struct"
   ]
  },
  {
   "cell_type": "code",
   "execution_count": 86,
   "metadata": {
    "collapsed": false
   },
   "outputs": [
    {
     "data": {
      "text/html": [
       "<div>\n",
       "<table border=\"1\" class=\"dataframe\">\n",
       "  <thead>\n",
       "    <tr style=\"text-align: right;\">\n",
       "      <th></th>\n",
       "      <th>id</th>\n",
       "      <th>tag_key</th>\n",
       "      <th>tag_value</th>\n",
       "    </tr>\n",
       "  </thead>\n",
       "  <tbody>\n",
       "    <tr>\n",
       "      <th>201</th>\n",
       "      <td>202</td>\n",
       "      <td>Func</td>\n",
       "      <td>List_Job</td>\n",
       "    </tr>\n",
       "    <tr>\n",
       "      <th>202</th>\n",
       "      <td>203</td>\n",
       "      <td>Func</td>\n",
       "      <td>List_Job</td>\n",
       "    </tr>\n",
       "    <tr>\n",
       "      <th>203</th>\n",
       "      <td>204</td>\n",
       "      <td>Func</td>\n",
       "      <td>Add_Job</td>\n",
       "    </tr>\n",
       "  </tbody>\n",
       "</table>\n",
       "</div>"
      ],
      "text/plain": [
       "      id tag_key tag_value\n",
       "201  202    Func  List_Job\n",
       "202  203    Func  List_Job\n",
       "203  204    Func   Add_Job"
      ]
     },
     "execution_count": 86,
     "metadata": {},
     "output_type": "execute_result"
    }
   ],
   "source": [
    "# \n",
    "tag = jHrApp['tag']\n",
    "tag = tag[tag['hash']=='c73e2824188fe99555f6f435bbe7959631b5d1c6']\n",
    "tag[['id','tag_key','tag_value']]"
   ]
  },
  {
   "cell_type": "markdown",
   "metadata": {},
   "source": [
    "### Entity-Relation Data"
   ]
  },
  {
   "cell_type": "code",
   "execution_count": null,
   "metadata": {
    "collapsed": true
   },
   "outputs": [],
   "source": [
    "entity_structure, relation"
   ]
  },
  {
   "cell_type": "code",
   "execution_count": 95,
   "metadata": {
    "collapsed": false
   },
   "outputs": [
    {
     "data": {
      "text/plain": [
       "(13, 8)"
      ]
     },
     "execution_count": 95,
     "metadata": {},
     "output_type": "execute_result"
    }
   ],
   "source": [
    "jHrApp['relation'].shape"
   ]
  },
  {
   "cell_type": "markdown",
   "metadata": {},
   "source": [
    "### Descriptive Data"
   ]
  },
  {
   "cell_type": "markdown",
   "metadata": {
    "collapsed": true
   },
   "source": [
    "entity_characteristic, quality, error, author"
   ]
  },
  {
   "cell_type": "code",
   "execution_count": 87,
   "metadata": {
    "collapsed": false
   },
   "outputs": [
    {
     "name": "stdout",
     "output_type": "stream",
     "text": [
      "Author:  Index(['author_domain', 'author_email', 'author_name', 'date_author_join_prj',\n",
      "       'id', 'prj_id'],\n",
      "      dtype='object')\n",
      "Characteristics:  Index(['blank', 'brief_desc', 'code', 'comment', 'detailed_desc', 'end_line',\n",
      "       'entity_id', 'hash', 'id', 'inbody_desc', 'last_modification_hash',\n",
      "       'last_modification_loc_added', 'last_modification_loc_changes',\n",
      "       'last_modification_loc_removed', 'last_modification_user', 'loc_add',\n",
      "       'loc_del', 'loc_total', 'location', 'modifications', 'reimplements_id',\n",
      "       'start_line', 'total_loc_added', 'total_loc_removed',\n",
      "       'total_references'],\n",
      "      dtype='object')\n",
      "Quality:  Index(['entity', 'errors', 'hash', 'id', 'project', 'user', 'warnings'], dtype='object')\n",
      "Error:  Index(['entity', 'hash', 'id', 'location', 'message', 'project', 'type',\n",
      "       'user'],\n",
      "      dtype='object')\n"
     ]
    }
   ],
   "source": [
    "print('Author: ', jHrApp['author'].columns )\n",
    "print('Characteristics: ', jHrApp['entity_characteristic'].columns )\n",
    "print('Quality: ', jHrApp['quality'].columns )\n",
    "print('Error: ', jHrApp['error'].columns )"
   ]
  },
  {
   "cell_type": "code",
   "execution_count": 106,
   "metadata": {
    "collapsed": false
   },
   "outputs": [
    {
     "data": {
      "text/html": [
       "<div>\n",
       "<table border=\"1\" class=\"dataframe\">\n",
       "  <thead>\n",
       "    <tr style=\"text-align: right;\">\n",
       "      <th></th>\n",
       "      <th>child_of</th>\n",
       "      <th>child_of_id</th>\n",
       "      <th>created_hash</th>\n",
       "      <th>entity_name</th>\n",
       "      <th>entity_type</th>\n",
       "      <th>ext</th>\n",
       "      <th>id</th>\n",
       "      <th>last_before_removed_hash</th>\n",
       "      <th>prj_id</th>\n",
       "      <th>type</th>\n",
       "    </tr>\n",
       "  </thead>\n",
       "  <tbody>\n",
       "    <tr>\n",
       "      <th>254</th>\n",
       "      <td>aSimple/bin/aSimple</td>\n",
       "      <td>127</td>\n",
       "      <td>7405846a24596c8fdcadec8be1f392783d1517fc</td>\n",
       "      <td>Cat.class</td>\n",
       "      <td>file</td>\n",
       "      <td>.class</td>\n",
       "      <td>255</td>\n",
       "      <td></td>\n",
       "      <td>1</td>\n",
       "      <td>None</td>\n",
       "    </tr>\n",
       "    <tr>\n",
       "      <th>255</th>\n",
       "      <td>aSimple/src/aSimple</td>\n",
       "      <td>130</td>\n",
       "      <td>7405846a24596c8fdcadec8be1f392783d1517fc</td>\n",
       "      <td>Cat.java</td>\n",
       "      <td>file</td>\n",
       "      <td>.java</td>\n",
       "      <td>256</td>\n",
       "      <td></td>\n",
       "      <td>1</td>\n",
       "      <td>None</td>\n",
       "    </tr>\n",
       "    <tr>\n",
       "      <th>256</th>\n",
       "      <td>Cat.java</td>\n",
       "      <td>256</td>\n",
       "      <td>7405846a24596c8fdcadec8be1f392783d1517fc</td>\n",
       "      <td>aSimple::Cat</td>\n",
       "      <td>class</td>\n",
       "      <td>.java</td>\n",
       "      <td>257</td>\n",
       "      <td></td>\n",
       "      <td>1</td>\n",
       "      <td>None</td>\n",
       "    </tr>\n",
       "    <tr>\n",
       "      <th>257</th>\n",
       "      <td>aSimple::Cat</td>\n",
       "      <td>257</td>\n",
       "      <td>7405846a24596c8fdcadec8be1f392783d1517fc</td>\n",
       "      <td>Cat</td>\n",
       "      <td>method</td>\n",
       "      <td>.java</td>\n",
       "      <td>258</td>\n",
       "      <td></td>\n",
       "      <td>1</td>\n",
       "      <td>None</td>\n",
       "    </tr>\n",
       "    <tr>\n",
       "      <th>258</th>\n",
       "      <td>Cat</td>\n",
       "      <td>258</td>\n",
       "      <td>7405846a24596c8fdcadec8be1f392783d1517fc</td>\n",
       "      <td>name</td>\n",
       "      <td>param</td>\n",
       "      <td>.java</td>\n",
       "      <td>259</td>\n",
       "      <td></td>\n",
       "      <td>1</td>\n",
       "      <td>String</td>\n",
       "    </tr>\n",
       "  </tbody>\n",
       "</table>\n",
       "</div>"
      ],
      "text/plain": [
       "                child_of  child_of_id  \\\n",
       "254  aSimple/bin/aSimple          127   \n",
       "255  aSimple/src/aSimple          130   \n",
       "256             Cat.java          256   \n",
       "257         aSimple::Cat          257   \n",
       "258                  Cat          258   \n",
       "\n",
       "                                 created_hash   entity_name entity_type  \\\n",
       "254  7405846a24596c8fdcadec8be1f392783d1517fc     Cat.class        file   \n",
       "255  7405846a24596c8fdcadec8be1f392783d1517fc      Cat.java        file   \n",
       "256  7405846a24596c8fdcadec8be1f392783d1517fc  aSimple::Cat       class   \n",
       "257  7405846a24596c8fdcadec8be1f392783d1517fc           Cat      method   \n",
       "258  7405846a24596c8fdcadec8be1f392783d1517fc          name       param   \n",
       "\n",
       "        ext   id last_before_removed_hash  prj_id    type  \n",
       "254  .class  255                                1    None  \n",
       "255   .java  256                                1    None  \n",
       "256   .java  257                                1    None  \n",
       "257   .java  258                                1    None  \n",
       "258   .java  259                                1  String  "
      ]
     },
     "execution_count": 106,
     "metadata": {},
     "output_type": "execute_result"
    }
   ],
   "source": [
    "tmp = jHrApp['entity_structure']\n",
    "tmp = tmp[['id','entity_name']]\n",
    "m1 = pandas.merge(tmp,jHrApp['entity_characteristic'], on='id', how='left')\n",
    "m2 = pandas.merge(m1, jHrApp['quality'], on='hash', how='left')"
   ]
  },
  {
   "cell_type": "markdown",
   "metadata": {},
   "source": [
    "### Processing - Related"
   ]
  },
  {
   "cell_type": "markdown",
   "metadata": {
    "collapsed": true
   },
   "source": [
    "process_log"
   ]
  },
  {
   "cell_type": "code",
   "execution_count": 31,
   "metadata": {
    "collapsed": false
   },
   "outputs": [
    {
     "name": "stdout",
     "output_type": "stream",
     "text": [
      "<class 'pandas.core.frame.DataFrame'>\n",
      "RangeIndex: 11 entries, 0 to 10\n",
      "Data columns (total 5 columns):\n",
      "hash       11 non-null object\n",
      "id         11 non-null int64\n",
      "project    11 non-null object\n",
      "seconds    11 non-null int64\n",
      "user       11 non-null object\n",
      "dtypes: int64(2), object(3)\n",
      "memory usage: 520.0+ bytes\n"
     ]
    }
   ],
   "source": [
    "jHrApp['process_log'].info()"
   ]
  },
  {
   "cell_type": "markdown",
   "metadata": {},
   "source": [
    "### Conclusion"
   ]
  },
  {
   "cell_type": "markdown",
   "metadata": {
    "collapsed": true
   },
   "source": [
    "This overview of the raw data collected provides a basis for workflows and understanding advanced, calculated data.  You can learn more in follow-on [guides](http://guides.scrumsaga.com/)."
   ]
  }
 ],
 "metadata": {
  "anaconda-cloud": {},
  "kernelspec": {
   "display_name": "Python [default]",
   "language": "python",
   "name": "python3"
  },
  "language_info": {
   "codemirror_mode": {
    "name": "ipython",
    "version": 3
   },
   "file_extension": ".py",
   "mimetype": "text/x-python",
   "name": "python",
   "nbconvert_exporter": "python",
   "pygments_lexer": "ipython3",
   "version": "3.5.2"
  }
 },
 "nbformat": 4,
 "nbformat_minor": 0
}
