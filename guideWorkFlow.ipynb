{
 "cells": [
  {
   "cell_type": "markdown",
   "metadata": {},
   "source": [
    "# Understanding the ScrumSaga WorkFlow\n",
    "\n",
    "The ScrumSaga API can provide data for a variety of purposes, such as custom dashboards, integrated logging, and summary reports. However, when performing manual data analysis, the [ScrumSaga API Wrapper](https://github.com/IMTorgCustomSoln/ScrumSagaAPI) can support user workflow and greatly enhance productivity.\n",
    "\n",
    "The API Wrapper focuses on three main classes:\n",
    " * User __Account__\n",
    " * Individual __Project__\n",
    " * __Portfolio__ of Projects\n",
    " \n",
    "By initiating these in sequence, the user ensures fundamental configuration is completed before automated requests are made to the API.  It also helps the user in plan data-intensive work that may take considerable resources to implement."
   ]
  },
  {
   "cell_type": "markdown",
   "metadata": {},
   "source": [
    "### Account"
   ]
  },
  {
   "cell_type": "code",
   "execution_count": 3,
   "metadata": {
    "collapsed": false
   },
   "outputs": [
    {
     "name": "stdout",
     "output_type": "stream",
     "text": [
      "passwords match\n"
     ]
    }
   ],
   "source": [
    "import sys\n",
    "path = r'C:\\Users\\Jason\\Documents\\IPython Notebooks\\SS-Reports\\ScrumSaga'\n",
    "sys.path.append(path)\n",
    "import ScrumSaga as saga\n",
    "\n",
    "# Acocunt information (must be manipulated on website: scrumsaga.com)\n",
    "SAGA_ACCT = {\"email\":\"dev.team@mgmt-tech.org\",\"password\":\"*************\"}\n",
    "\n",
    "# Initialize and login\n",
    "Acct = saga.Account(acct_email=SAGA_ACCT['email'], acct_password=SAGA_ACCT['password'])\n",
    "Acct.login()"
   ]
  },
  {
   "cell_type": "markdown",
   "metadata": {},
   "source": [
    "After login, the user can work with account-related information, such as data and diagrams, as well as license information tracking the amount of processing performed and remaining."
   ]
  },
  {
   "cell_type": "code",
   "execution_count": 5,
   "metadata": {
    "collapsed": false
   },
   "outputs": [
    {
     "name": "stdout",
     "output_type": "stream",
     "text": [
      "['IMTorg--testprj_Java_aSimple', 'IMTorgTestCode--testprj_Java_aSimple', 'IMTorgTestProj--demoprj_Java_HumanResourceApp']\n",
      "['IMTorg--testprj_Java_aSimple_400da3_\"Thu Mar 02 2017 17:01:59 GMT+0000 (UTC)\"', 'IMTorgTestCode--testprj_Java_aSimple_ac7454_\"Mon Mar 06 2017 08:54:23 GMT+0000 (UTC)\"', 'IMTorgTestCode--testprj_Java_aSimple_ac7454_\"Sat Mar 04 2017 15:42:39 GMT+0000 (UTC)\"', 'IMTorgTestCode--testprj_Java_aSimple_ac7454_\"Sat Mar 04 2017 15:47:29 GMT+0000 (UTC)\"']\n"
     ]
    }
   ],
   "source": [
    "Acct.view_data()\n",
    "Acct.view_diagram()"
   ]
  },
  {
   "cell_type": "code",
   "execution_count": null,
   "metadata": {
    "collapsed": true
   },
   "outputs": [],
   "source": [
    "# Implemented in a future version\n",
    "Acct.update_data()\n",
    "Acct.remove_data()\n",
    "Acct.acct_license()"
   ]
  },
  {
   "cell_type": "markdown",
   "metadata": {},
   "source": [
    "### Project"
   ]
  },
  {
   "cell_type": "code",
   "execution_count": 7,
   "metadata": {
    "collapsed": false
   },
   "outputs": [
    {
     "name": "stdout",
     "output_type": "stream",
     "text": [
      "SIZE group records:  14\n",
      " -elapsed time: 0.242744\n",
      "TAG group records:  20\n",
      " -elapsed time: 0.249458\n",
      "PROJECT group records:  14\n",
      " -elapsed time: 0.232257\n",
      "RELATION group records:  13\n",
      " -elapsed time: 0.234459\n",
      "PROCESS_LOG group records:  11\n",
      " -elapsed time: 0.226718\n",
      "ERROR group records:  701\n",
      " -elapsed time: 0.812206\n",
      "QUALITY group records:  141\n",
      " -elapsed time: 0.348646\n",
      "ENTITY_CHARACTERISTIC group records:  1600\n",
      " -elapsed time: 2.719808\n",
      "SIZE group records:  14\n",
      " -elapsed time: 0.236715\n",
      "COMPLEXITY group records:  281\n",
      " -elapsed time: 0.479835\n",
      "AUTHOR group records:  2\n",
      " -elapsed time: 0.231293\n",
      "ENTITY_STRUCTURE group records:  259\n",
      " -elapsed time: 0.474076\n",
      "Loading completed with no errors\n"
     ]
    }
   ],
   "source": [
    "# create project\n",
    "JavaRepo = saga.Repo('IMTorgTestCode','information@mgmt-tech.org','testprj_Java_aSimple')\n",
    "JSimple = saga.Project(Acct, JavaRepo)\n",
    "sz = JSimple.load_group(metric_group='size')\n",
    "# load all metric groups\n",
    "JSimple.load_all()"
   ]
  },
  {
   "cell_type": "code",
   "execution_count": 11,
   "metadata": {
    "collapsed": false
   },
   "outputs": [
    {
     "name": "stdout",
     "output_type": "stream",
     "text": [
      "Keys:  dict_keys(['tag', 'project', 'relation', 'process_log', 'error', 'quality', 'entity_characteristic', 'size', 'complexity', 'author', 'entity_structure'])\n",
      "tag : \n",
      " (20, 10)\n",
      "project : \n",
      " (14, 27)\n",
      "relation : \n",
      " (13, 8)\n",
      "process_log : \n",
      " (11, 5)\n",
      "error : \n",
      " (701, 8)\n",
      "quality : \n",
      " (141, 7)\n",
      "entity_characteristic : \n",
      " (1600, 25)\n",
      "size : \n",
      " (14, 14)\n",
      "complexity : \n",
      " (281, 14)\n",
      "author : \n",
      " (2, 6)\n",
      "entity_structure : \n",
      " (259, 10)\n",
      "Row x Col:  None\n"
     ]
    }
   ],
   "source": [
    "# project level attributes\n",
    "print('Keys: ', JSimple.keys() )\n",
    "print('Row x Col: ', JSimple.shape() )"
   ]
  },
  {
   "cell_type": "code",
   "execution_count": 8,
   "metadata": {
    "collapsed": false
   },
   "outputs": [
    {
     "name": "stdout",
     "output_type": "stream",
     "text": [
      "SHAPE: \n",
      " (281, 14)\n",
      "COLUMNS: \n",
      " Index(['bugs', 'calculated_length', 'cyclomatic_complexity', 'difficulty',\n",
      "       'effort', 'entity_id', 'hash', 'id', 'n1', 'n2', 'nn1', 'nn2', 'time',\n",
      "       'volume'],\n",
      "      dtype='object')\n",
      "HEAD: \n",
      "    bugs calculated_length cyclomatic_complexity difficulty  effort  entity_id  \\\n",
      "0  5.57            139.31                  None       5.92  687.41          7   \n",
      "1  5.57            139.31                  None       5.92  687.41          7   \n",
      "2  5.57            139.31                  None       5.92  687.41          7   \n",
      "\n",
      "                                       hash  id  n1  n2  nn1  nn2   time  \\\n",
      "0  ba281d2a34b32f8c7480127d4d4c7d271d9bc9d7   1  15  19   10   15  38.19   \n",
      "1  ba281d2a34b32f8c7480127d4d4c7d271d9bc9d7   1  15  19   10   15  38.19   \n",
      "2  ba281d2a34b32f8c7480127d4d4c7d271d9bc9d7   1  15  19   10   15  38.19   \n",
      "\n",
      "  volume  \n",
      "0  116.1  \n",
      "1  116.1  \n",
      "2  116.1  \n"
     ]
    }
   ],
   "source": [
    "# access typical pandas attributes\n",
    "print('SHAPE: \\n', JSimple['complexity'].shape )\n",
    "print('COLUMNS: \\n',JSimple['complexity'].columns) \n",
    "print('HEAD: \\n',JSimple['complexity'].head(3))"
   ]
  },
  {
   "cell_type": "markdown",
   "metadata": {},
   "source": [
    "### Portfolio"
   ]
  },
  {
   "cell_type": "markdown",
   "metadata": {},
   "source": [
    "JavaScript Frameworks are interesting because there are so many competitors.  The popularity ranking is constantly changing.  For these groups, we will stack three traditional (>2 years old) against three new-comers.\n",
    " * [Angular1 MEAN Stack](https://github.com/IMTorgTestProj/todoapp)\n",
    " * [MVC](https://github.com/IMTorgTestProj/todo)\n",
    " * [Meteor](https://github.com/IMTorgTestProj/todomvc-meteor)\n",
    " * [Vue](https://github.com/IMTorgTestProj/vue-cli-todomvc)\n",
    " * [Angular2](https://github.com/IMTorgTestProj/angular2-todo)\n",
    " * [Aurelia](https://github.com/IMTorgTestProj/todomvc-aurelia)\n",
    "\n",
    "\n",
    "\n",
    "\n"
   ]
  },
  {
   "cell_type": "markdown",
   "metadata": {
    "collapsed": true
   },
   "source": [
    "Future versions of the Portfolio class will allow for batch processing of many projects."
   ]
  },
  {
   "cell_type": "code",
   "execution_count": null,
   "metadata": {
    "collapsed": true
   },
   "outputs": [],
   "source": []
  },
  {
   "cell_type": "markdown",
   "metadata": {},
   "source": [
    "### Conclusion\n",
    "\n",
    "The workflow suggested by the API Wrapper is useful as a starting point for performing your own analyses.  To learn more, read more advanced [guides](http://guides.scrumsaga.com/)."
   ]
  },
  {
   "cell_type": "code",
   "execution_count": null,
   "metadata": {
    "collapsed": true
   },
   "outputs": [],
   "source": []
  }
 ],
 "metadata": {
  "anaconda-cloud": {},
  "kernelspec": {
   "display_name": "Python [default]",
   "language": "python",
   "name": "python3"
  },
  "language_info": {
   "codemirror_mode": {
    "name": "ipython",
    "version": 3
   },
   "file_extension": ".py",
   "mimetype": "text/x-python",
   "name": "python",
   "nbconvert_exporter": "python",
   "pygments_lexer": "ipython3",
   "version": "3.5.2"
  }
 },
 "nbformat": 4,
 "nbformat_minor": 0
}
