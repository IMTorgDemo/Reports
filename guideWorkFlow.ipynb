{
 "cells": [
  {
   "cell_type": "markdown",
   "metadata": {},
   "source": [
    "# Understanding the ScrumSaga WorkFlow\n",
    "\n",
    "The ScrumSaga API can provide data for a variety of purposes, such as custom dashboards, integrated logging, and summary reports. However, when performing manual data analysis, the [ScrumSaga API Wrapper](https://github.com/IMTorgCustomSoln/ScrumSagaAPI) can support user workflow and greatly enhance productivity.\n",
    "\n",
    "The API Wrapper focuses on three main classes:\n",
    " * User __Account__\n",
    " * Individual __Project__\n",
    " * __Portfolio__ of Projects\n",
    " \n",
    "By initiating these in sequence, the user ensures fundamental configuration is completed before automated requests are made to the API.  It also helps the user in plan data-intensive work that may take considerable resources to implement."
   ]
  },
  {
   "cell_type": "markdown",
   "metadata": {},
   "source": [
    "### Account"
   ]
  },
  {
   "cell_type": "code",
   "execution_count": null,
   "metadata": {
    "collapsed": true
   },
   "outputs": [],
   "source": [
    "import sys\n",
    "path = r'C:\\Users\\Jason\\Documents\\IPython Notebooks\\Reports\\ScrumSaga'\n",
    "sys.path.append(path)\n",
    "import ScrumSaga as saga\n",
    "\n",
    "# Acocunt information (must be manipulated on website: scrumsaga.com)\n",
    "SAGA_ACCT = {\"email\":\"dev.team@mgmt-tech.org\",\"password\":\"*******\"}\n",
    "\n",
    "# Initialize and login\n",
    "Acct = saga.Account(acct_email=SAGA_ACCT['email'], acct_password=SAGA_ACCT['password'])\n",
    "Acct.login()"
   ]
  },
  {
   "cell_type": "code",
   "execution_count": null,
   "metadata": {
    "collapsed": true
   },
   "outputs": [],
   "source": [
    "Acct.view_data()\n",
    "Acct.update_data()\n",
    "Acct.remove_data()\n",
    "Acct.view_license()"
   ]
  },
  {
   "cell_type": "markdown",
   "metadata": {},
   "source": [
    "### Project"
   ]
  },
  {
   "cell_type": "code",
   "execution_count": null,
   "metadata": {
    "collapsed": true
   },
   "outputs": [],
   "source": [
    "# create project\n",
    "JavaRepo = saga.Repo('IMTorgTestCode','information@mgmt-tech.org','testprj_Java_aSimple')\n",
    "JSimple = saga.Project(Acct, JavaRepo)\n",
    "sz = JSimple.load_group(metric_group='size')\n",
    "# load all metric groups\n",
    "JSimple.load_all()"
   ]
  },
  {
   "cell_type": "code",
   "execution_count": null,
   "metadata": {
    "collapsed": true
   },
   "outputs": [],
   "source": [
    "# project level attributes\n",
    "JSimple.keys()\n",
    "JSimple.shape()"
   ]
  },
  {
   "cell_type": "code",
   "execution_count": null,
   "metadata": {
    "collapsed": true
   },
   "outputs": [],
   "source": [
    "# access typical pandas attributes\n",
    "print('SHAPE: \\n', JSimple['complexity'].shape )\n",
    "print('COLUMNS: \\n',JSimple['complexity'].columns) \n",
    "print('HEAD: \\n',JSimple['complexity'].head(3))"
   ]
  },
  {
   "cell_type": "markdown",
   "metadata": {},
   "source": [
    "### Portfolio"
   ]
  },
  {
   "cell_type": "markdown",
   "metadata": {},
   "source": [
    "JavaScript Frameworks are interesting because there are so many competitors.  The popularity ranking is constantly changing.  For these groups, we will stack three traditional (>2 years old) against three new-comers.\n",
    " * [Angular1 MEAN Stack](https://github.com/IMTorgTestProj/todoapp)\n",
    " * [MVC](https://github.com/IMTorgTestProj/todo)\n",
    " * [Meteor](https://github.com/IMTorgTestProj/todomvc-meteor)\n",
    " * [Vue](https://github.com/IMTorgTestProj/vue-cli-todomvc)\n",
    " * [Angular2](https://github.com/IMTorgTestProj/angular2-todo)\n",
    " * [Aurelia](https://github.com/IMTorgTestProj/todomvc-aurelia)\n",
    "\n",
    "\n",
    "\n",
    "\n"
   ]
  },
  {
   "cell_type": "code",
   "execution_count": null,
   "metadata": {
    "collapsed": true
   },
   "outputs": [],
   "source": []
  },
  {
   "cell_type": "code",
   "execution_count": null,
   "metadata": {
    "collapsed": true
   },
   "outputs": [],
   "source": []
  },
  {
   "cell_type": "markdown",
   "metadata": {},
   "source": [
    "### Conclusion\n",
    "\n",
    "The workflow suggested by the API Wrapper is useful as a starting point for performing your own analyses.  To learn more, read more advanced [guides](http://guides.scrumsaga.com/)."
   ]
  },
  {
   "cell_type": "code",
   "execution_count": null,
   "metadata": {
    "collapsed": true
   },
   "outputs": [],
   "source": []
  }
 ],
 "metadata": {
  "anaconda-cloud": {},
  "kernelspec": {
   "display_name": "Python [default]",
   "language": "python",
   "name": "python3"
  },
  "language_info": {
   "codemirror_mode": {
    "name": "ipython",
    "version": 3
   },
   "file_extension": ".py",
   "mimetype": "text/x-python",
   "name": "python",
   "nbconvert_exporter": "python",
   "pygments_lexer": "ipython3",
   "version": "3.5.2"
  }
 },
 "nbformat": 4,
 "nbformat_minor": 0
}
