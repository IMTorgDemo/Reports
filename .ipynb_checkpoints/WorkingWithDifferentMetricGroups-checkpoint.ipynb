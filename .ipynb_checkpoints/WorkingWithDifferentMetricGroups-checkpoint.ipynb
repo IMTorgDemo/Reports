{
 "cells": [
  {
   "cell_type": "markdown",
   "metadata": {},
   "source": [
    "# Working with Different Software Metric Groups\n",
    "\n",
    "The ScrumSaga system extracts many different (100+) data metrics, with transformation alorithms for many more.  This can seem unmanageable, at first glance, but becomes intuitive after learning the various categories and sub-categories."
   ]
  },
  {
   "cell_type": "markdown",
   "metadata": {
    "collapsed": true
   },
   "source": [
    "### Preparations\n",
    "_Set-up Environment_"
   ]
  },
  {
   "cell_type": "code",
   "execution_count": 2,
   "metadata": {
    "collapsed": false
   },
   "outputs": [
    {
     "data": {
      "text/plain": [
       "'passwords match'"
      ]
     },
     "execution_count": 2,
     "metadata": {},
     "output_type": "execute_result"
    }
   ],
   "source": [
    "# Configure\n",
    "import requests\n",
    "\n",
    "# URI root\n",
    "URL = \"http://api.scrumsaga.com/v1\"\n",
    "\n",
    "# Acocunt information (must be manipulated on website: scrumsaga.com)\n",
    "SAGA_ACCT = {\"email\":\"dev.team@mgmt-tech.org\",\"password\":\"IMTorgTestUserPassword\"}\n",
    "\n",
    "# Sign-in for token\n",
    "rte = \"/login\"\n",
    "r = requests.post(URL+rte, data=SAGA_ACCT)\n",
    "r.json()['msg']"
   ]
  },
  {
   "cell_type": "markdown",
   "metadata": {},
   "source": [
    "_Check Available Repo Data_"
   ]
  },
  {
   "cell_type": "code",
   "execution_count": 3,
   "metadata": {
    "collapsed": false
   },
   "outputs": [
    {
     "data": {
      "text/plain": [
       "['IMTorg--testprj_Java_aSimple',\n",
       " 'IMTorgTestProj--demoprj_C-_nerddinner',\n",
       " 'IMTorgTestProj--demoprj_Java_HumanResourceApp',\n",
       " 'IMTorgTestProj--vue-cli-todomvc']"
      ]
     },
     "execution_count": 3,
     "metadata": {},
     "output_type": "execute_result"
    }
   ],
   "source": [
    "# This is the ScrumSaga user information\n",
    "hdr={'Authorization': 'JWT '+r.json()[\"token\"] }\n",
    "\n",
    "# The /acctData route is used to view avialable repo data\n",
    "rte1 = '/acctData'\n",
    "r1 = requests.post(URL+rte1, headers=hdr)\n",
    "r1.json()['data']"
   ]
  },
  {
   "cell_type": "markdown",
   "metadata": {},
   "source": [
    "_Load Data from Repo_ "
   ]
  },
  {
   "cell_type": "code",
   "execution_count": 4,
   "metadata": {
    "collapsed": true
   },
   "outputs": [],
   "source": [
    "import timeit\n",
    "\n",
    "start_time = timeit.default_timer()\n",
    "# code you want to evaluate\n",
    "elapsed = timeit.default_timer() - start_time\n",
    "\n",
    "def time_usage(func):\n",
    "    def wrapper(*args, **kwargs):\n",
    "        start_time = timeit.default_timer()\n",
    "        retval = func(*args, **kwargs)\n",
    "        elapsed = timeit.default_timer() - start_time\n",
    "        print(\" -elapsed time: %f\" % (elapsed))\n",
    "        return retval\n",
    "    return wrapper"
   ]
  },
  {
   "cell_type": "code",
   "execution_count": 5,
   "metadata": {
    "collapsed": true
   },
   "outputs": [],
   "source": [
    "import pandas \n",
    "\n",
    "class Repo:\n",
    "    \n",
    "    def __init__(self, namespace, email, repo_name):\n",
    "        self.namespace = namespace\n",
    "        self.email = email\n",
    "        self.repo_name = repo_name\n",
    " "
   ]
  },
  {
   "cell_type": "code",
   "execution_count": 132,
   "metadata": {
    "collapsed": false
   },
   "outputs": [],
   "source": [
    "class Project(dict):\n",
    "    \n",
    "    \"\"\" container for project data \"\"\"\n",
    "    # system (class) config\n",
    "    __acct = \" token \"\n",
    "    __repo_name = \" {'namespace':'IMTorg', 'email':'dev-team@mgmt-tech.org', 'repo':'testprj_Java_aSimple'} \"\n",
    "    __server = 'http://api.scrumsaga.com/v1'\n",
    "    __groups = ('project', 'size', 'author', 'entity_structure', 'entity_characteristic', 'complexity', 'relation', 'error','quality','tag','process_log')\n",
    "    __selection = ('current','all')\n",
    "    \n",
    "    \n",
    "    def __init__(self, acct=__acct, repo=__repo_name):\n",
    "        super( Project, self ).__init__()\n",
    "                    \n",
    "        # typical dict attributes minus those that are intrusive (possible removal of groups)\n",
    "        def __setitem__(self, key, item):\n",
    "            self.__dict__[key] = item\n",
    "        def __getitem__(self, key): \n",
    "            return self.__dict__[key]\n",
    "        def __len__(self): \n",
    "            return len(self.__dict__)\n",
    "        def copy(self):\n",
    "            return self.__dict__.copy()\n",
    "        def keys(self):\n",
    "            return self.__dict__.keys()\n",
    "        def __cmp__(self, dict):\n",
    "            return cmp(self.__dict__, dict)\n",
    "        def __contains__(self, item):\n",
    "            return item in self.__dict__\n",
    "        def __iter__(self):\n",
    "            return iter(self.__dict__)\n",
    "        def __unicode__(self):\n",
    "            return unicode(repr(self.__dict__)) \n",
    "        \n",
    "        # instance attributes\n",
    "        self.prj_acct = acct\n",
    "        self.prj_repo_name = repo\n",
    "        for grp in Project.__groups:\n",
    "            self.__setitem__(grp, 'unavailable')\n",
    "    \n",
    "    # pandas integration methods\n",
    "    # FIND WAY TO - apply function to all keys without creating a method\n",
    "    def __repr__(self):\n",
    "        return \"<class {0}{1}>\".format(self.__module__.__name__,self.__class__.__name__)\n",
    "    \n",
    "    def __dir__(self):\n",
    "        return self.keys()\n",
    "\n",
    "    def shape(self):\n",
    "        tmp = list(self.keys())\n",
    "        [print(i,\":\",self[i].shape) for i in tmp]\n",
    "        \n",
    "    def columns(self):\n",
    "        tmp = list(self.keys())\n",
    "        [print(i,\": \\n\",self[i].columns) for i in tmp]\n",
    "        \n",
    "    # api methods\n",
    "    # def extract_data():    \n",
    "    \n",
    "    @time_usage  \n",
    "    def load_group (self, metric_group='project', account=__acct, repo=__repo_name, server=__server):\n",
    "        route = '/load/'\n",
    "        try:\n",
    "            if metric_group in Project.__groups:\n",
    "                url = server + route + metric_group\n",
    "                headers = {'Authorization': 'JWT '+account}\n",
    "                payload = {'namespace':repo.namespace, 'email':repo.email, 'repo':repo.repo_name}\n",
    "                r = requests.post(url, data = payload, headers=headers)\n",
    "                rec=r.json()['data']\n",
    "                prec=pandas.DataFrame(rec)\n",
    "                print(metric_group.upper(),\"group records: \",prec.shape[1])\n",
    "                return prec\n",
    "            else:\n",
    "                print(metric_group+\" is not an available group\")\n",
    "        except:\n",
    "            print('there was a problem')\n",
    "    \n",
    "    def load_all (self):\n",
    "        err = []\n",
    "        for grp in self.keys():\n",
    "            try:\n",
    "                tmp = self.load_group(grp, self.prj_acct, self.prj_repo_name)\n",
    "                self.__setitem__(grp, tmp)\n",
    "                self.__setattr__(grp, tmp.__getattr__)\n",
    "            except:\n",
    "                self.group[grp] = 'unavailable'\n",
    "                err.append(grp)\n",
    "        if len(err)>0:\n",
    "            print(\"Loading completed with the following groups missing:\",err)\n",
    "        else:\n",
    "            print(\"Loading completed with no errors\")\n",
    "    \n",
    "    def extract (self, selection='current', account=__acct, repo=__repo_name, server=__server):\n",
    "        route = '/extract'\n",
    "        try:\n",
    "            if selection in Project.__selection:\n",
    "                headers = {'Authorization': 'JWT '+account}\n",
    "                url = server + route\n",
    "                payload = {'namespace':repo.namespace, 'email':repo.email, 'repo':repo.repo_name, 'selection':selection}\n",
    "                r = requests.post(url, headers=headers, data=payload)\n",
    "                print(r.json()['message'])\n",
    "                return r\n",
    "            else:\n",
    "                print(selection+\" is not an available selection\")\n",
    "        except:\n",
    "            print('there was a problem')\n",
    "\n",
    "    \n"
   ]
  },
  {
   "cell_type": "code",
   "execution_count": 245,
   "metadata": {
    "collapsed": false
   },
   "outputs": [],
   "source": [
    "import collections\n",
    "\n",
    "class Portfolio(collections.MutableSequence):\n",
    "    \"\"\" container for multiple Projects \"\"\"\n",
    "    __allowedType = Project\n",
    "\n",
    "    def __init__(self, *args):\n",
    "        self.allowedType = Portfolio.__allowedType\n",
    "        super(Portfolio, self).__init__()        \n",
    "        self._list = list()\n",
    "        if args is not None:\n",
    "            for arg in args:\n",
    "            #    if isinstance(arg, self.allowedType):\n",
    "            #        print(arg.__class__.__name__)\n",
    "            #        print(self.allowedType)\n",
    "                   self._list.extend(arg)\n",
    "            #    else:\n",
    "            #        print('not of type: ',self.allowedType)\n",
    "\n",
    "    def check(self, v):\n",
    "        if not isinstance(v.__class__.__name__, self.allowedType):\n",
    "            raise TypeError(v)\n",
    "\n",
    "    def __len__(self): return len(self._list)\n",
    "    def __getitem__(self, i): return self._list[i]\n",
    "    def __delitem__(self, i): del self._list[i]\n",
    "    def __setitem__(self, i, v):\n",
    "        #self.check(v)\n",
    "        self._list[i] = v\n",
    "    def insert(self, i, v):\n",
    "        #self.check(v)\n",
    "        self._list.insert(i, v)\n",
    "    def __extend__(self, v):\n",
    "        #self.check(v)\n",
    "        self._list.extend(v)"
   ]
  },
  {
   "cell_type": "code",
   "execution_count": 246,
   "metadata": {
    "collapsed": false
   },
   "outputs": [],
   "source": [
    "test = Portfolio(JSimple, JHrApp)\n",
    "#JSimple.__class__.__name__\n",
    "#isinstance(JSimple, Project)\n",
    "#type(JSimple)\n",
    "#JSimple.__class__.__name__\n",
    "#print(JSimple)\n"
   ]
  },
  {
   "cell_type": "code",
   "execution_count": 251,
   "metadata": {
    "collapsed": false
   },
   "outputs": [
    {
     "data": {
      "text/plain": [
       "<Project>"
      ]
     },
     "execution_count": 251,
     "metadata": {},
     "output_type": "execute_result"
    }
   ],
   "source": [
    "test.append(JSimple)\n",
    "test[20]"
   ]
  },
  {
   "cell_type": "code",
   "execution_count": null,
   "metadata": {
    "collapsed": true
   },
   "outputs": [],
   "source": []
  },
  {
   "cell_type": "markdown",
   "metadata": {},
   "source": [
    "### Simple Java Project"
   ]
  },
  {
   "cell_type": "code",
   "execution_count": 134,
   "metadata": {
    "collapsed": false
   },
   "outputs": [],
   "source": [
    "# create project\n",
    "TKN = r.json()[\"token\"]\n",
    "REPO = Repo('IMTorg','dev-team@mgmt-tech.org','testprj_Java_aSimple')\n",
    "JSimple = Project(TKN, REPO)"
   ]
  },
  {
   "cell_type": "code",
   "execution_count": 135,
   "metadata": {
    "collapsed": false
   },
   "outputs": [
    {
     "data": {
      "text/plain": [
       "'Project'"
      ]
     },
     "execution_count": 135,
     "metadata": {},
     "output_type": "execute_result"
    }
   ],
   "source": [
    "#JSimple.__repr__()\n",
    "JSimple.__class__.__name__"
   ]
  },
  {
   "cell_type": "code",
   "execution_count": 136,
   "metadata": {
    "collapsed": false
   },
   "outputs": [
    {
     "name": "stdout",
     "output_type": "stream",
     "text": [
      "SIZE group records:  14\n",
      " -elapsed time: 0.232241\n"
     ]
    }
   ],
   "source": [
    "# load specific metric group\n",
    "sz = JSimple.load_group(metric_group='size', account=TKN, repo=REPO)"
   ]
  },
  {
   "cell_type": "code",
   "execution_count": 137,
   "metadata": {
    "collapsed": false
   },
   "outputs": [
    {
     "data": {
      "text/plain": [
       "Index(['count', 'files_count', 'files_size', 'hash', 'id', 'loc_add',\n",
       "       'loc_del', 'loc_total', 'modified_file_count', 'original_file_count',\n",
       "       'prj_id', 'project', 'stamp', 'tag_count'],\n",
       "      dtype='object')"
      ]
     },
     "execution_count": 137,
     "metadata": {},
     "output_type": "execute_result"
    }
   ],
   "source": [
    "sz.columns"
   ]
  },
  {
   "cell_type": "code",
   "execution_count": 138,
   "metadata": {
    "collapsed": false
   },
   "outputs": [
    {
     "name": "stdout",
     "output_type": "stream",
     "text": [
      "RELATION group records:  0\n",
      " -elapsed time: 0.232571\n",
      "AUTHOR group records:  6\n",
      " -elapsed time: 0.221882\n",
      "SIZE group records:  14\n",
      " -elapsed time: 0.222969\n",
      "ENTITY_STRUCTURE group records:  10\n",
      " -elapsed time: 0.478857\n",
      "ERROR group records:  0\n",
      " -elapsed time: 0.317445\n",
      "PROJECT group records:  27\n",
      " -elapsed time: 0.318994\n",
      "QUALITY group records:  0\n",
      " -elapsed time: 0.304283\n",
      "PROCESS_LOG group records:  5\n",
      " -elapsed time: 0.307120\n",
      "ENTITY_CHARACTERISTIC group records:  26\n",
      " -elapsed time: 0.679225\n",
      "TAG group records:  0\n",
      " -elapsed time: 0.220403\n",
      "Loading completed with no errors\n"
     ]
    }
   ],
   "source": [
    "# load all metric groups\n",
    "JSimple.load_all()"
   ]
  },
  {
   "cell_type": "code",
   "execution_count": 139,
   "metadata": {
    "collapsed": false
   },
   "outputs": [
    {
     "data": {
      "text/plain": [
       "'<Project>'"
      ]
     },
     "execution_count": 139,
     "metadata": {},
     "output_type": "execute_result"
    }
   ],
   "source": [
    "JSimple.__repr__()"
   ]
  },
  {
   "cell_type": "code",
   "execution_count": 253,
   "metadata": {
    "collapsed": false
   },
   "outputs": [
    {
     "name": "stdout",
     "output_type": "stream",
     "text": [
      "entity_characteristic : (128, 26)\n",
      "author : (2, 6)\n",
      "entity_structure : (234, 10)\n",
      "relation : (0, 0)\n",
      "process_log : (3, 5)\n",
      "commit : (14, 36)\n"
     ]
    }
   ],
   "source": [
    "# project level attributes\n",
    "JSimple.shape()"
   ]
  },
  {
   "cell_type": "code",
   "execution_count": 303,
   "metadata": {
    "collapsed": false
   },
   "outputs": [],
   "source": [
    "# access typical pandas attributes\n",
    "#JSimple['author'].shape, \n",
    "#JSimple['author'].describe, \n",
    "#JSimple['author'].columns, \n",
    "#JSimple['author'].head"
   ]
  },
  {
   "cell_type": "code",
   "execution_count": 282,
   "metadata": {
    "collapsed": false
   },
   "outputs": [],
   "source": [
    "# *** GET ATTR TO SHOW WITH TAB COMPLETION\n",
    "# Ref:\n",
    "# https://docs.python.org/3/library/functions.html#dir\n",
    "# https://goodcode.io/articles/python-dict-object/\n",
    "#\n",
    "#JSimple['author'].__getattr__('author_email')\n",
    "#cmt.__getattr__\n",
    "#JSimple['commit'].__setattr__(cmt)\n",
    "#help(JSimple['commit'].__getattr__)"
   ]
  },
  {
   "cell_type": "code",
   "execution_count": 285,
   "metadata": {
    "collapsed": false
   },
   "outputs": [
    {
     "data": {
      "text/plain": [
       "dict_keys(['entity_characteristic', 'author', 'entity_structure', 'relation', 'process_log', 'commit'])"
      ]
     },
     "execution_count": 285,
     "metadata": {},
     "output_type": "execute_result"
    }
   ],
   "source": [
    "JSimple.keys()"
   ]
  },
  {
   "cell_type": "code",
   "execution_count": 301,
   "metadata": {
    "collapsed": false
   },
   "outputs": [
    {
     "name": "stdout",
     "output_type": "stream",
     "text": [
      "entity_characteristic : \n",
      " Index(['blank', 'brief_desc', 'code', 'comment', 'cyclomatic_complexity',\n",
      "       'detailed_desc', 'end_line', 'entity_id', 'hash', 'id', 'inbody_desc',\n",
      "       'last_modification_hash', 'last_modification_loc_added',\n",
      "       'last_modification_loc_changes', 'last_modification_loc_removed',\n",
      "       'last_modification_user', 'loc_add', 'loc_del', 'loc_total', 'location',\n",
      "       'modifications', 'reimplements_id', 'start_line', 'total_loc_added',\n",
      "       'total_loc_removed', 'total_references'],\n",
      "      dtype='object')\n",
      "author : \n",
      " Index(['author_domain', 'author_email', 'author_name', 'date_author_join_prj',\n",
      "       'id', 'prj_id'],\n",
      "      dtype='object')\n",
      "entity_structure : \n",
      " Index(['child_of', 'child_of_id', 'created_hash', 'entity_name', 'entity_type',\n",
      "       'ext', 'id', 'last_before_removed_hash', 'prj_id', 'type'],\n",
      "      dtype='object')\n",
      "relation : \n",
      " Index([], dtype='object')\n",
      "process_log : \n",
      " Index(['hash', 'id', 'project', 'seconds', 'user'], dtype='object')\n",
      "commit : \n",
      " Index(['author_add', 'author_commits_count', 'author_del', 'author_files_size',\n",
      "       'author_id', 'author_modified_count', 'author_original_count',\n",
      "       'author_paths_count', 'author_total', 'authors_count', 'count',\n",
      "       'files_count', 'files_size', 'hash', 'id', 'loc_add', 'loc_del',\n",
      "       'loc_total', 'modified_file_count', 'original_file_count', 'prj_id',\n",
      "       'project', 'release_count', 'reviewer_add', 'reviewer_commits_count',\n",
      "       'reviewer_del', 'reviewer_files_size', 'reviewer_modified_count',\n",
      "       'reviewer_name', 'reviewer_original_count', 'reviewer_paths_count',\n",
      "       'reviewer_total', 'stamp', 'stamp_author', 'subject', 'tag_count'],\n",
      "      dtype='object')\n"
     ]
    }
   ],
   "source": [
    "JSimple.columns()"
   ]
  },
  {
   "cell_type": "code",
   "execution_count": null,
   "metadata": {
    "collapsed": true
   },
   "outputs": [],
   "source": []
  },
  {
   "cell_type": "markdown",
   "metadata": {},
   "source": [
    "### Demo HR App Project"
   ]
  },
  {
   "cell_type": "code",
   "execution_count": 140,
   "metadata": {
    "collapsed": true
   },
   "outputs": [],
   "source": [
    "# create project\n",
    "TKN = r.json()[\"token\"]\n",
    "REPO = Repo('IMTorgTestProj','information@mgm-tech.org','demoprj_Java_HumanResourceApp')\n",
    "JHrApp = Project(TKN, REPO)"
   ]
  },
  {
   "cell_type": "code",
   "execution_count": 141,
   "metadata": {
    "collapsed": false
   },
   "outputs": [
    {
     "name": "stdout",
     "output_type": "stream",
     "text": [
      "No need to process, again\n"
     ]
    },
    {
     "data": {
      "text/plain": [
       "<Response [200]>"
      ]
     },
     "execution_count": 141,
     "metadata": {},
     "output_type": "execute_result"
    }
   ],
   "source": [
    "JHrApp.extract(selection='current', account=TKN, repo=REPO)"
   ]
  },
  {
   "cell_type": "code",
   "execution_count": 142,
   "metadata": {
    "collapsed": false
   },
   "outputs": [
    {
     "name": "stdout",
     "output_type": "stream",
     "text": [
      "RELATION group records:  0\n",
      " -elapsed time: 0.220142\n",
      "AUTHOR group records:  6\n",
      " -elapsed time: 0.214169\n",
      "SIZE group records:  14\n",
      " -elapsed time: 0.328728\n",
      "ENTITY_STRUCTURE group records:  10\n",
      " -elapsed time: 0.443619\n",
      "ERROR group records:  0\n",
      " -elapsed time: 0.217748\n",
      "PROJECT group records:  27\n",
      " -elapsed time: 0.424192\n",
      "QUALITY group records:  0\n",
      " -elapsed time: 0.213607\n",
      "PROCESS_LOG group records:  0\n",
      " -elapsed time: 0.225034\n",
      "ENTITY_CHARACTERISTIC group records:  26\n",
      " -elapsed time: 0.775188\n",
      "TAG group records:  10\n",
      " -elapsed time: 0.227357\n",
      "Loading completed with no errors\n"
     ]
    }
   ],
   "source": [
    "JHrApp.load_all()"
   ]
  },
  {
   "cell_type": "markdown",
   "metadata": {},
   "source": [
    "### Demo VueJs Project"
   ]
  },
  {
   "cell_type": "code",
   "execution_count": 16,
   "metadata": {
    "collapsed": false
   },
   "outputs": [
    {
     "data": {
      "text/plain": [
       "{'message': 'No need to process, again'}"
      ]
     },
     "execution_count": 16,
     "metadata": {},
     "output_type": "execute_result"
    }
   ],
   "source": [
    "# create project\n",
    "TKN = r.json()[\"token\"]\n",
    "REPO = Repo('IMTorgTestProj','information@mgm-tech.org','vue-cli-todomvc')\n",
    "VueCli = Project(TKN, REPO)\n",
    "\n",
    "rte2 = '/extract'\n",
    "hdr={'Authorization': 'JWT '+r.json()[\"token\"] }\n",
    "account={'acct_namespace':REPO.namespace,'email':REPO.email,'repo':REPO.repo_name}\n",
    "payload2 = {'namespace':account['acct_namespace'], 'email':account['email'], 'repo':account['repo']}\n",
    "r2 = requests.post(URL+rte2, headers=hdr, data=payload2)\n",
    "r2.json()"
   ]
  },
  {
   "cell_type": "code",
   "execution_count": null,
   "metadata": {
    "collapsed": true
   },
   "outputs": [],
   "source": []
  },
  {
   "cell_type": "markdown",
   "metadata": {
    "collapsed": true
   },
   "source": [
    "### Demo C# Nerddinner Project"
   ]
  },
  {
   "cell_type": "code",
   "execution_count": 17,
   "metadata": {
    "collapsed": false
   },
   "outputs": [
    {
     "data": {
      "text/plain": [
       "{'message': 'No need to process, again'}"
      ]
     },
     "execution_count": 17,
     "metadata": {},
     "output_type": "execute_result"
    }
   ],
   "source": [
    "# create project\n",
    "TKN = r.json()[\"token\"]\n",
    "REPO = Repo('IMTorgTestProj','information@mgm-tech.org','demoprj_C-_nerddinner')\n",
    "CshNerd = Project(TKN, REPO)\n",
    "\n",
    "rte2 = '/extract'\n",
    "hdr={'Authorization': 'JWT '+r.json()[\"token\"] }\n",
    "account={'acct_namespace':REPO.namespace,'email':REPO.email,'repo':REPO.repo_name}\n",
    "payload2 = {'namespace':account['acct_namespace'], 'email':account['email'], 'repo':account['repo'], 'selection':'current'}\n",
    "r2 = requests.post(URL+rte2, headers=hdr, data=payload2)\n",
    "r2.json()"
   ]
  },
  {
   "cell_type": "code",
   "execution_count": null,
   "metadata": {
    "collapsed": true
   },
   "outputs": [],
   "source": []
  }
 ],
 "metadata": {
  "anaconda-cloud": {},
  "kernelspec": {
   "display_name": "Python [default]",
   "language": "python",
   "name": "python3"
  },
  "language_info": {
   "codemirror_mode": {
    "name": "ipython",
    "version": 3
   },
   "file_extension": ".py",
   "mimetype": "text/x-python",
   "name": "python",
   "nbconvert_exporter": "python",
   "pygments_lexer": "ipython3",
   "version": "3.5.2"
  }
 },
 "nbformat": 4,
 "nbformat_minor": 0
}
