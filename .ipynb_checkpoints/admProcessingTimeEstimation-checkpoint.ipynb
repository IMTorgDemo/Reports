{
 "cells": [
  {
   "cell_type": "markdown",
   "metadata": {},
   "source": [
    "## Configure Environment"
   ]
  },
  {
   "cell_type": "code",
   "execution_count": 1,
   "metadata": {
    "collapsed": true
   },
   "outputs": [],
   "source": [
    "# Configure\n",
    "import requests\n",
    "import pandas\n",
    "\n",
    "URL = \"http://144.76.39.53:8082/api/v1\""
   ]
  },
  {
   "cell_type": "code",
   "execution_count": 2,
   "metadata": {
    "collapsed": true
   },
   "outputs": [],
   "source": [
    "# Acocunt information (must be manipulated on website: scrumsaga.com)\n",
    "SAGA_ACCT = {\"email\":\"dev.team@mgmt-tech.org\",\"password\":\"**********\"}"
   ]
  },
  {
   "cell_type": "code",
   "execution_count": 3,
   "metadata": {
    "collapsed": false
   },
   "outputs": [
    {
     "data": {
      "text/plain": [
       "'passwords match'"
      ]
     },
     "execution_count": 3,
     "metadata": {},
     "output_type": "execute_result"
    }
   ],
   "source": [
    "# Sign-in for token\n",
    "rte = \"/login\"\n",
    "r = requests.post(URL+rte, data=SAGA_ACCT)\n",
    "r.json()['msg']"
   ]
  },
  {
   "cell_type": "code",
   "execution_count": 4,
   "metadata": {
    "collapsed": false
   },
   "outputs": [],
   "source": [
    "# This is the ScrumSaga user information.\n",
    "hdr={'Authorization': 'JWT '+r.json()[\"token\"] }\n",
    "\n",
    "# This is the information for the GitHub repo.  This information DOES NOT have to match the ScrumSaga account information. \n",
    "USER = {'name':'IMTorgTestProj', 'email':'dev.team@mgmt-tech.org'}\n",
    "REPO1={'repo':'angular2-todo'}\n"
   ]
  },
  {
   "cell_type": "markdown",
   "metadata": {},
   "source": [
    "## Review load data"
   ]
  },
  {
   "cell_type": "code",
   "execution_count": 17,
   "metadata": {
    "collapsed": false
   },
   "outputs": [
    {
     "data": {
      "text/plain": [
       "'commits data provided'"
      ]
     },
     "execution_count": 17,
     "metadata": {},
     "output_type": "execute_result"
    }
   ],
   "source": [
    "rte2 = '/load/commits'\n",
    "payload2 = {'username':USER['name'], 'email':USER['email'], 'location':REPO1['repo']}\n",
    "r2 = requests.post(URL+rte2, headers=hdr, data=payload2)\n",
    "commits = pandas.DataFrame(r2.json()['data'])\n",
    "\n",
    "r2.json()['message']"
   ]
  },
  {
   "cell_type": "code",
   "execution_count": 18,
   "metadata": {
    "collapsed": false
   },
   "outputs": [
    {
     "data": {
      "text/plain": [
       "'process_log data provided'"
      ]
     },
     "execution_count": 18,
     "metadata": {},
     "output_type": "execute_result"
    }
   ],
   "source": [
    "rte2 = '/load/process_log'\n",
    "payload2 = {'username':USER['name'], 'email':USER['email'], 'location':REPO1['repo']}\n",
    "r2 = requests.post(URL+rte2, headers=hdr, data=payload2)\n",
    "log = pandas.DataFrame(r2.json()['data'])\n",
    "\n",
    "r2.json()['message']"
   ]
  },
  {
   "cell_type": "code",
   "execution_count": 19,
   "metadata": {
    "collapsed": false
   },
   "outputs": [
    {
     "data": {
      "text/plain": [
       "Index(['author_add', 'author_commits_count', 'author_del', 'author_files_size',\n",
       "       'author_id', 'author_modified_count', 'author_original_count',\n",
       "       'author_paths_count', 'author_total', 'authors_count', 'count',\n",
       "       'files_count', 'files_size', 'hash', 'id', 'loc_add', 'loc_del',\n",
       "       'loc_total', 'modified_file_count', 'original_file_count', 'prj_id',\n",
       "       'project', 'release_count', 'reviewer_add', 'reviewer_commits_count',\n",
       "       'reviewer_del', 'reviewer_files_size', 'reviewer_modified_count',\n",
       "       'reviewer_name', 'reviewer_original_count', 'reviewer_paths_count',\n",
       "       'reviewer_total', 'stamp', 'stamp_author', 'subject', 'tag_count'],\n",
       "      dtype='object')"
      ]
     },
     "execution_count": 19,
     "metadata": {},
     "output_type": "execute_result"
    }
   ],
   "source": [
    "commits.columns"
   ]
  },
  {
   "cell_type": "code",
   "execution_count": 30,
   "metadata": {
    "collapsed": false
   },
   "outputs": [
    {
     "data": {
      "text/html": [
       "<div>\n",
       "<table border=\"1\" class=\"dataframe\">\n",
       "  <thead>\n",
       "    <tr style=\"text-align: right;\">\n",
       "      <th></th>\n",
       "      <th>hash</th>\n",
       "      <th>stamp</th>\n",
       "      <th>files_count</th>\n",
       "      <th>files_size</th>\n",
       "      <th>loc_total</th>\n",
       "    </tr>\n",
       "  </thead>\n",
       "  <tbody>\n",
       "    <tr>\n",
       "      <th>0</th>\n",
       "      <td>118a12efe1629671966bf646933373913be52890</td>\n",
       "      <td>2015-12-16 14:13:44.000000</td>\n",
       "      <td>11</td>\n",
       "      <td>6785</td>\n",
       "      <td>303</td>\n",
       "    </tr>\n",
       "    <tr>\n",
       "      <th>1</th>\n",
       "      <td>f6349175aeae1825adab9b4a47a089b7bdd0160d</td>\n",
       "      <td>2015-12-16 17:21:06.000000</td>\n",
       "      <td>11</td>\n",
       "      <td>10935</td>\n",
       "      <td>517</td>\n",
       "    </tr>\n",
       "    <tr>\n",
       "      <th>2</th>\n",
       "      <td>dcae71449ee593d269e91eb9148bb1d4578476cb</td>\n",
       "      <td>2015-12-16 17:21:56.000000</td>\n",
       "      <td>11</td>\n",
       "      <td>10997</td>\n",
       "      <td>518</td>\n",
       "    </tr>\n",
       "    <tr>\n",
       "      <th>3</th>\n",
       "      <td>0db1690e8a57c758bd843d47fc3cb745cf4fda80</td>\n",
       "      <td>2015-12-16 17:22:05.000000</td>\n",
       "      <td>11</td>\n",
       "      <td>10935</td>\n",
       "      <td>517</td>\n",
       "    </tr>\n",
       "    <tr>\n",
       "      <th>4</th>\n",
       "      <td>b82e9eda8941df1c76fc089fde7324c19c7063f1</td>\n",
       "      <td>2015-12-16 17:23:31.000000</td>\n",
       "      <td>11</td>\n",
       "      <td>10826</td>\n",
       "      <td>512</td>\n",
       "    </tr>\n",
       "  </tbody>\n",
       "</table>\n",
       "</div>"
      ],
      "text/plain": [
       "                                       hash                       stamp  \\\n",
       "0  118a12efe1629671966bf646933373913be52890  2015-12-16 14:13:44.000000   \n",
       "1  f6349175aeae1825adab9b4a47a089b7bdd0160d  2015-12-16 17:21:06.000000   \n",
       "2  dcae71449ee593d269e91eb9148bb1d4578476cb  2015-12-16 17:21:56.000000   \n",
       "3  0db1690e8a57c758bd843d47fc3cb745cf4fda80  2015-12-16 17:22:05.000000   \n",
       "4  b82e9eda8941df1c76fc089fde7324c19c7063f1  2015-12-16 17:23:31.000000   \n",
       "\n",
       "   files_count  files_size  loc_total  \n",
       "0           11        6785        303  \n",
       "1           11       10935        517  \n",
       "2           11       10997        518  \n",
       "3           11       10935        517  \n",
       "4           11       10826        512  "
      ]
     },
     "execution_count": 30,
     "metadata": {},
     "output_type": "execute_result"
    }
   ],
   "source": [
    "commits[['hash','stamp','files_count', 'files_size','loc_total']].head(5)"
   ]
  },
  {
   "cell_type": "code",
   "execution_count": 34,
   "metadata": {
    "collapsed": false
   },
   "outputs": [
    {
     "data": {
      "text/html": [
       "<div>\n",
       "<table border=\"1\" class=\"dataframe\">\n",
       "  <thead>\n",
       "    <tr style=\"text-align: right;\">\n",
       "      <th></th>\n",
       "      <th>hash</th>\n",
       "      <th>id</th>\n",
       "      <th>project</th>\n",
       "      <th>seconds</th>\n",
       "      <th>user</th>\n",
       "    </tr>\n",
       "  </thead>\n",
       "  <tbody>\n",
       "    <tr>\n",
       "      <th>0</th>\n",
       "      <td>118a12efe1629671966bf646933373913be52890</td>\n",
       "      <td>1</td>\n",
       "      <td>angular2-todo</td>\n",
       "      <td>6</td>\n",
       "      <td>IMTorgTestProj</td>\n",
       "    </tr>\n",
       "    <tr>\n",
       "      <th>1</th>\n",
       "      <td>f6349175aeae1825adab9b4a47a089b7bdd0160d</td>\n",
       "      <td>2</td>\n",
       "      <td>angular2-todo</td>\n",
       "      <td>0</td>\n",
       "      <td>IMTorgTestProj</td>\n",
       "    </tr>\n",
       "    <tr>\n",
       "      <th>2</th>\n",
       "      <td>dcae71449ee593d269e91eb9148bb1d4578476cb</td>\n",
       "      <td>3</td>\n",
       "      <td>angular2-todo</td>\n",
       "      <td>0</td>\n",
       "      <td>IMTorgTestProj</td>\n",
       "    </tr>\n",
       "    <tr>\n",
       "      <th>3</th>\n",
       "      <td>0db1690e8a57c758bd843d47fc3cb745cf4fda80</td>\n",
       "      <td>4</td>\n",
       "      <td>angular2-todo</td>\n",
       "      <td>0</td>\n",
       "      <td>IMTorgTestProj</td>\n",
       "    </tr>\n",
       "    <tr>\n",
       "      <th>4</th>\n",
       "      <td>b82e9eda8941df1c76fc089fde7324c19c7063f1</td>\n",
       "      <td>5</td>\n",
       "      <td>angular2-todo</td>\n",
       "      <td>0</td>\n",
       "      <td>IMTorgTestProj</td>\n",
       "    </tr>\n",
       "  </tbody>\n",
       "</table>\n",
       "</div>"
      ],
      "text/plain": [
       "                                       hash  id        project  seconds  \\\n",
       "0  118a12efe1629671966bf646933373913be52890   1  angular2-todo        6   \n",
       "1  f6349175aeae1825adab9b4a47a089b7bdd0160d   2  angular2-todo        0   \n",
       "2  dcae71449ee593d269e91eb9148bb1d4578476cb   3  angular2-todo        0   \n",
       "3  0db1690e8a57c758bd843d47fc3cb745cf4fda80   4  angular2-todo        0   \n",
       "4  b82e9eda8941df1c76fc089fde7324c19c7063f1   5  angular2-todo        0   \n",
       "\n",
       "             user  \n",
       "0  IMTorgTestProj  \n",
       "1  IMTorgTestProj  \n",
       "2  IMTorgTestProj  \n",
       "3  IMTorgTestProj  \n",
       "4  IMTorgTestProj  "
      ]
     },
     "execution_count": 34,
     "metadata": {},
     "output_type": "execute_result"
    }
   ],
   "source": [
    "log.head(5)"
   ]
  },
  {
   "cell_type": "markdown",
   "metadata": {},
   "source": [
    "## Load Multiple Repo Data"
   ]
  },
  {
   "cell_type": "code",
   "execution_count": 24,
   "metadata": {
    "collapsed": false
   },
   "outputs": [
    {
     "name": "stdout",
     "output_type": "stream",
     "text": [
      "angular-dart-todomvc\n",
      "Backbone_RequireJS\n",
      "purescript-react-native-todomvc\n",
      "spine.todos\n",
      "svelte-todomvc\n",
      "todoapp\n",
      "todo\n",
      "todomvc-aurelia\n",
      "todomvc-elmfire\n",
      "todomvc-meteor\n",
      "vue-cli-todomvc\n",
      "yo-backbone-todo-app\n"
     ]
    }
   ],
   "source": [
    "repos = ['angular2-todo','angular-dart-todomvc','Backbone_RequireJS','purescript-react-native-todomvc','spine.todos','svelte-todomvc','todoapp','todo','todomvc-aurelia','todomvc-elmfire','todomvc-meteor','vue-cli-todomvc','yo-backbone-todo-app']\n"
   ]
  },
  {
   "cell_type": "code",
   "execution_count": 45,
   "metadata": {
    "collapsed": false
   },
   "outputs": [],
   "source": [
    "\n",
    "def loadMultRepos(fieldGrp, repos):\n",
    "    restrValues = ['authors', 'commits', 'entity_structure', 'entity_characteristics', 'dependencies', 'process_log']\n",
    "    if fieldGrp in restrValues:\n",
    "        rte2 = '/load/'+fieldGrp\n",
    "        payload2 = {'username':USER['name'], 'email':USER['email'], 'location':repos[0]}\n",
    "        r2 = requests.post(URL+rte2, headers=hdr, data=payload2)\n",
    "        tmpTbl = pandas.DataFrame(r2.json()['data'])\n",
    "        tmpTbl['repo'] = repos[0]\n",
    "        output = tmpTbl\n",
    "    \n",
    "        for repo in repos[1:]:\n",
    "            payload2 = {'username':USER['name'], 'email':USER['email'], 'location':repo}\n",
    "            try:\n",
    "                r2 = requests.post(URL+rte2, headers=hdr, data=payload2)\n",
    "                tmpTbl = pandas.DataFrame(r2.json()['data'])\n",
    "                tmpTbl['repo'] = repo\n",
    "                output = pandas.concat([output,tmpTbl])\n",
    "            except:\n",
    "                pass\n",
    "    \n",
    "        l = output['repo'].tolist()\n",
    "        miss = list(set(repos) - set(l))\n",
    "        if miss:\n",
    "            print('the following repos failed load:')\n",
    "            print( miss )\n",
    "        else:\n",
    "            print('all repos loaded')\n",
    "        \n",
    "        return output\n",
    "    else:\n",
    "        print('the field group must be one of the following:')\n",
    "        print(restrValues)\n",
    "        "
   ]
  },
  {
   "cell_type": "markdown",
   "metadata": {},
   "source": [
    "### Commit Data"
   ]
  },
  {
   "cell_type": "code",
   "execution_count": 46,
   "metadata": {
    "collapsed": false
   },
   "outputs": [
    {
     "name": "stdout",
     "output_type": "stream",
     "text": [
      "all repos loaded\n"
     ]
    }
   ],
   "source": [
    "commits = loadMultRepos('commits', repos)"
   ]
  },
  {
   "cell_type": "code",
   "execution_count": 47,
   "metadata": {
    "collapsed": false
   },
   "outputs": [
    {
     "data": {
      "text/html": [
       "<div>\n",
       "<table border=\"1\" class=\"dataframe\">\n",
       "  <thead>\n",
       "    <tr style=\"text-align: right;\">\n",
       "      <th></th>\n",
       "      <th>repo</th>\n",
       "      <th>files_size</th>\n",
       "      <th>files_count</th>\n",
       "      <th>loc_total</th>\n",
       "    </tr>\n",
       "  </thead>\n",
       "  <tbody>\n",
       "    <tr>\n",
       "      <th>0</th>\n",
       "      <td>angular2-todo</td>\n",
       "      <td>6785</td>\n",
       "      <td>11</td>\n",
       "      <td>303</td>\n",
       "    </tr>\n",
       "    <tr>\n",
       "      <th>1</th>\n",
       "      <td>angular2-todo</td>\n",
       "      <td>10935</td>\n",
       "      <td>11</td>\n",
       "      <td>517</td>\n",
       "    </tr>\n",
       "    <tr>\n",
       "      <th>2</th>\n",
       "      <td>angular2-todo</td>\n",
       "      <td>10997</td>\n",
       "      <td>11</td>\n",
       "      <td>518</td>\n",
       "    </tr>\n",
       "    <tr>\n",
       "      <th>3</th>\n",
       "      <td>angular2-todo</td>\n",
       "      <td>10935</td>\n",
       "      <td>11</td>\n",
       "      <td>517</td>\n",
       "    </tr>\n",
       "    <tr>\n",
       "      <th>4</th>\n",
       "      <td>angular2-todo</td>\n",
       "      <td>10826</td>\n",
       "      <td>11</td>\n",
       "      <td>512</td>\n",
       "    </tr>\n",
       "  </tbody>\n",
       "</table>\n",
       "</div>"
      ],
      "text/plain": [
       "            repo  files_size  files_count  loc_total\n",
       "0  angular2-todo        6785           11        303\n",
       "1  angular2-todo       10935           11        517\n",
       "2  angular2-todo       10997           11        518\n",
       "3  angular2-todo       10935           11        517\n",
       "4  angular2-todo       10826           11        512"
      ]
     },
     "execution_count": 47,
     "metadata": {},
     "output_type": "execute_result"
    }
   ],
   "source": [
    "#print(commits.shape)\n",
    "#print(commits.columns)\n",
    "commits[['repo','files_size','files_count','loc_total']].groupby('repo')"
   ]
  },
  {
   "cell_type": "code",
   "execution_count": 119,
   "metadata": {
    "collapsed": false
   },
   "outputs": [],
   "source": [
    "tmp = commits.groupby('repo').count() \n",
    "tmpCmts = tmp[['author_add']]\n",
    "tmpCmts = tmpCmts.rename(columns={'author_add':'commits'})\n",
    "\n",
    "tmp=commits.groupby('repo').last()\n",
    "tmpFinal = tmp[['files_size','files_count','loc_total']]\n",
    "\n",
    "tmpDf2 = pandas.merge(tmpCmts, tmpFinal, left_index=True, right_index=True, how = 'right')"
   ]
  },
  {
   "cell_type": "code",
   "execution_count": null,
   "metadata": {
    "collapsed": true
   },
   "outputs": [],
   "source": [
    "#def normalizeMetric(group, field):\n",
    "# subtract the first record's value from each record, within the specific group\n",
    "    "
   ]
  },
  {
   "cell_type": "markdown",
   "metadata": {},
   "source": [
    "### Process Log Data"
   ]
  },
  {
   "cell_type": "code",
   "execution_count": 48,
   "metadata": {
    "collapsed": false
   },
   "outputs": [
    {
     "name": "stdout",
     "output_type": "stream",
     "text": [
      "all repos loaded\n"
     ]
    }
   ],
   "source": [
    "logs = loadMultRepos('process_log', repos)"
   ]
  },
  {
   "cell_type": "code",
   "execution_count": 60,
   "metadata": {
    "collapsed": false
   },
   "outputs": [
    {
     "data": {
      "text/html": [
       "<div>\n",
       "<table border=\"1\" class=\"dataframe\">\n",
       "  <thead>\n",
       "    <tr style=\"text-align: right;\">\n",
       "      <th></th>\n",
       "      <th>hash</th>\n",
       "      <th>id</th>\n",
       "      <th>project</th>\n",
       "      <th>seconds</th>\n",
       "      <th>user</th>\n",
       "      <th>repo</th>\n",
       "    </tr>\n",
       "  </thead>\n",
       "  <tbody>\n",
       "    <tr>\n",
       "      <th>0</th>\n",
       "      <td>118a12efe1629671966bf646933373913be52890</td>\n",
       "      <td>1</td>\n",
       "      <td>angular2-todo</td>\n",
       "      <td>6</td>\n",
       "      <td>IMTorgTestProj</td>\n",
       "      <td>angular2-todo</td>\n",
       "    </tr>\n",
       "    <tr>\n",
       "      <th>44</th>\n",
       "      <td></td>\n",
       "      <td>45</td>\n",
       "      <td>angular2-todo</td>\n",
       "      <td>40</td>\n",
       "      <td>IMTorgTestProj</td>\n",
       "      <td>angular2-todo</td>\n",
       "    </tr>\n",
       "    <tr>\n",
       "      <th>0</th>\n",
       "      <td>d178e7a990aeec735b1e7666a7355d5bbba52010</td>\n",
       "      <td>1</td>\n",
       "      <td>angular-dart-todomvc</td>\n",
       "      <td>5</td>\n",
       "      <td>IMTorgTestProj</td>\n",
       "      <td>angular-dart-todomvc</td>\n",
       "    </tr>\n",
       "    <tr>\n",
       "      <th>41</th>\n",
       "      <td></td>\n",
       "      <td>42</td>\n",
       "      <td>angular-dart-todomvc</td>\n",
       "      <td>23</td>\n",
       "      <td>IMTorgTestProj</td>\n",
       "      <td>angular-dart-todomvc</td>\n",
       "    </tr>\n",
       "    <tr>\n",
       "      <th>0</th>\n",
       "      <td>87918d4c3ad6bcc9e6dd697b3892ecfb17324d0f</td>\n",
       "      <td>1</td>\n",
       "      <td>Backbone_RequireJS</td>\n",
       "      <td>6</td>\n",
       "      <td>IMTorgTestProj</td>\n",
       "      <td>Backbone_RequireJS</td>\n",
       "    </tr>\n",
       "  </tbody>\n",
       "</table>\n",
       "</div>"
      ],
      "text/plain": [
       "                                        hash  id               project  \\\n",
       "0   118a12efe1629671966bf646933373913be52890   1         angular2-todo   \n",
       "44                                            45         angular2-todo   \n",
       "0   d178e7a990aeec735b1e7666a7355d5bbba52010   1  angular-dart-todomvc   \n",
       "41                                            42  angular-dart-todomvc   \n",
       "0   87918d4c3ad6bcc9e6dd697b3892ecfb17324d0f   1    Backbone_RequireJS   \n",
       "\n",
       "    seconds            user                  repo  \n",
       "0         6  IMTorgTestProj         angular2-todo  \n",
       "44       40  IMTorgTestProj         angular2-todo  \n",
       "0         5  IMTorgTestProj  angular-dart-todomvc  \n",
       "41       23  IMTorgTestProj  angular-dart-todomvc  \n",
       "0         6  IMTorgTestProj    Backbone_RequireJS  "
      ]
     },
     "execution_count": 60,
     "metadata": {},
     "output_type": "execute_result"
    }
   ],
   "source": [
    "#print( logs.shape )\n",
    "#logs.head()\n",
    "logs[logs['seconds'] > 0].head()"
   ]
  },
  {
   "cell_type": "code",
   "execution_count": 79,
   "metadata": {
    "collapsed": false
   },
   "outputs": [],
   "source": [
    "tmpLogs = logs.groupby('repo').sum()\n",
    "tmpDf1 = tmpLogs[['seconds']]\n"
   ]
  },
  {
   "cell_type": "markdown",
   "metadata": {},
   "source": [
    "### Combine Data"
   ]
  },
  {
   "cell_type": "code",
   "execution_count": 120,
   "metadata": {
    "collapsed": false
   },
   "outputs": [
    {
     "data": {
      "text/html": [
       "<div>\n",
       "<table border=\"1\" class=\"dataframe\">\n",
       "  <thead>\n",
       "    <tr style=\"text-align: right;\">\n",
       "      <th></th>\n",
       "      <th>seconds</th>\n",
       "      <th>commits</th>\n",
       "      <th>files_size</th>\n",
       "      <th>files_count</th>\n",
       "      <th>loc_total</th>\n",
       "    </tr>\n",
       "    <tr>\n",
       "      <th>repo</th>\n",
       "      <th></th>\n",
       "      <th></th>\n",
       "      <th></th>\n",
       "      <th></th>\n",
       "      <th></th>\n",
       "    </tr>\n",
       "  </thead>\n",
       "  <tbody>\n",
       "    <tr>\n",
       "      <th>Backbone_RequireJS</th>\n",
       "      <td>19</td>\n",
       "      <td>4</td>\n",
       "      <td>356821</td>\n",
       "      <td>30</td>\n",
       "      <td>5722</td>\n",
       "    </tr>\n",
       "    <tr>\n",
       "      <th>angular-dart-todomvc</th>\n",
       "      <td>28</td>\n",
       "      <td>41</td>\n",
       "      <td>8767</td>\n",
       "      <td>10</td>\n",
       "      <td>381</td>\n",
       "    </tr>\n",
       "    <tr>\n",
       "      <th>angular2-todo</th>\n",
       "      <td>46</td>\n",
       "      <td>44</td>\n",
       "      <td>103679</td>\n",
       "      <td>26</td>\n",
       "      <td>1212</td>\n",
       "    </tr>\n",
       "    <tr>\n",
       "      <th>purescript-react-native-todomvc</th>\n",
       "      <td>41</td>\n",
       "      <td>40</td>\n",
       "      <td>122430</td>\n",
       "      <td>39</td>\n",
       "      <td>2092</td>\n",
       "    </tr>\n",
       "    <tr>\n",
       "      <th>spine.todos</th>\n",
       "      <td>46</td>\n",
       "      <td>17</td>\n",
       "      <td>278009</td>\n",
       "      <td>12</td>\n",
       "      <td>10302</td>\n",
       "    </tr>\n",
       "    <tr>\n",
       "      <th>svelte-todomvc</th>\n",
       "      <td>14</td>\n",
       "      <td>7</td>\n",
       "      <td>31237</td>\n",
       "      <td>8</td>\n",
       "      <td>1002</td>\n",
       "    </tr>\n",
       "    <tr>\n",
       "      <th>todo</th>\n",
       "      <td>49</td>\n",
       "      <td>33</td>\n",
       "      <td>145309</td>\n",
       "      <td>23</td>\n",
       "      <td>1039</td>\n",
       "    </tr>\n",
       "    <tr>\n",
       "      <th>todoapp</th>\n",
       "      <td>58</td>\n",
       "      <td>12</td>\n",
       "      <td>241627</td>\n",
       "      <td>29</td>\n",
       "      <td>3142</td>\n",
       "    </tr>\n",
       "    <tr>\n",
       "      <th>todomvc-aurelia</th>\n",
       "      <td>340</td>\n",
       "      <td>193</td>\n",
       "      <td>63619</td>\n",
       "      <td>36</td>\n",
       "      <td>2238</td>\n",
       "    </tr>\n",
       "    <tr>\n",
       "      <th>todomvc-elmfire</th>\n",
       "      <td>65</td>\n",
       "      <td>14</td>\n",
       "      <td>28092</td>\n",
       "      <td>9</td>\n",
       "      <td>1199</td>\n",
       "    </tr>\n",
       "    <tr>\n",
       "      <th>todomvc-meteor</th>\n",
       "      <td>13</td>\n",
       "      <td>8</td>\n",
       "      <td>7776</td>\n",
       "      <td>6</td>\n",
       "      <td>327</td>\n",
       "    </tr>\n",
       "    <tr>\n",
       "      <th>vue-cli-todomvc</th>\n",
       "      <td>15</td>\n",
       "      <td>7</td>\n",
       "      <td>181304</td>\n",
       "      <td>26</td>\n",
       "      <td>5228</td>\n",
       "    </tr>\n",
       "    <tr>\n",
       "      <th>yo-backbone-todo-app</th>\n",
       "      <td>8</td>\n",
       "      <td>1</td>\n",
       "      <td>53416</td>\n",
       "      <td>26</td>\n",
       "      <td>1471</td>\n",
       "    </tr>\n",
       "  </tbody>\n",
       "</table>\n",
       "</div>"
      ],
      "text/plain": [
       "                                 seconds  commits  files_size  files_count  \\\n",
       "repo                                                                         \n",
       "Backbone_RequireJS                    19        4      356821           30   \n",
       "angular-dart-todomvc                  28       41        8767           10   \n",
       "angular2-todo                         46       44      103679           26   \n",
       "purescript-react-native-todomvc       41       40      122430           39   \n",
       "spine.todos                           46       17      278009           12   \n",
       "svelte-todomvc                        14        7       31237            8   \n",
       "todo                                  49       33      145309           23   \n",
       "todoapp                               58       12      241627           29   \n",
       "todomvc-aurelia                      340      193       63619           36   \n",
       "todomvc-elmfire                       65       14       28092            9   \n",
       "todomvc-meteor                        13        8        7776            6   \n",
       "vue-cli-todomvc                       15        7      181304           26   \n",
       "yo-backbone-todo-app                   8        1       53416           26   \n",
       "\n",
       "                                 loc_total  \n",
       "repo                                        \n",
       "Backbone_RequireJS                    5722  \n",
       "angular-dart-todomvc                   381  \n",
       "angular2-todo                         1212  \n",
       "purescript-react-native-todomvc       2092  \n",
       "spine.todos                          10302  \n",
       "svelte-todomvc                        1002  \n",
       "todo                                  1039  \n",
       "todoapp                               3142  \n",
       "todomvc-aurelia                       2238  \n",
       "todomvc-elmfire                       1199  \n",
       "todomvc-meteor                         327  \n",
       "vue-cli-todomvc                       5228  \n",
       "yo-backbone-todo-app                  1471  "
      ]
     },
     "execution_count": 120,
     "metadata": {},
     "output_type": "execute_result"
    }
   ],
   "source": [
    "mdlDf = pandas.merge(tmpDf1, tmpDf2, left_index=True, right_index=True, how = 'right')\n",
    "mdlDf"
   ]
  },
  {
   "cell_type": "markdown",
   "metadata": {},
   "source": [
    "### Analysis"
   ]
  },
  {
   "cell_type": "code",
   "execution_count": 115,
   "metadata": {
    "collapsed": false
   },
   "outputs": [],
   "source": [
    "import statsmodels.formula.api as sm\n",
    "from sklearn.linear_model import LinearRegression\n",
    "import scipy, scipy.stats\n",
    "import numpy as np\n",
    "\n",
    "import matplotlib.pyplot as plt\n",
    "import matplotlib\n",
    "matplotlib.style.use('ggplot')"
   ]
  },
  {
   "cell_type": "code",
   "execution_count": 121,
   "metadata": {
    "collapsed": false
   },
   "outputs": [
    {
     "data": {
      "text/html": [
       "<div>\n",
       "<table border=\"1\" class=\"dataframe\">\n",
       "  <thead>\n",
       "    <tr style=\"text-align: right;\">\n",
       "      <th></th>\n",
       "      <th>seconds</th>\n",
       "      <th>commits</th>\n",
       "      <th>files_size</th>\n",
       "      <th>files_count</th>\n",
       "      <th>loc_total</th>\n",
       "    </tr>\n",
       "  </thead>\n",
       "  <tbody>\n",
       "    <tr>\n",
       "      <th>count</th>\n",
       "      <td>13.000000</td>\n",
       "      <td>13.000000</td>\n",
       "      <td>13.000000</td>\n",
       "      <td>13.000000</td>\n",
       "      <td>13.000000</td>\n",
       "    </tr>\n",
       "    <tr>\n",
       "      <th>mean</th>\n",
       "      <td>57.076923</td>\n",
       "      <td>32.384615</td>\n",
       "      <td>124775.846154</td>\n",
       "      <td>21.538462</td>\n",
       "      <td>2719.615385</td>\n",
       "    </tr>\n",
       "    <tr>\n",
       "      <th>std</th>\n",
       "      <td>87.058851</td>\n",
       "      <td>50.603917</td>\n",
       "      <td>111476.400051</td>\n",
       "      <td>11.214688</td>\n",
       "      <td>2838.951436</td>\n",
       "    </tr>\n",
       "    <tr>\n",
       "      <th>min</th>\n",
       "      <td>8.000000</td>\n",
       "      <td>1.000000</td>\n",
       "      <td>7776.000000</td>\n",
       "      <td>6.000000</td>\n",
       "      <td>327.000000</td>\n",
       "    </tr>\n",
       "    <tr>\n",
       "      <th>25%</th>\n",
       "      <td>15.000000</td>\n",
       "      <td>7.000000</td>\n",
       "      <td>31237.000000</td>\n",
       "      <td>10.000000</td>\n",
       "      <td>1039.000000</td>\n",
       "    </tr>\n",
       "    <tr>\n",
       "      <th>50%</th>\n",
       "      <td>41.000000</td>\n",
       "      <td>14.000000</td>\n",
       "      <td>103679.000000</td>\n",
       "      <td>26.000000</td>\n",
       "      <td>1471.000000</td>\n",
       "    </tr>\n",
       "    <tr>\n",
       "      <th>75%</th>\n",
       "      <td>49.000000</td>\n",
       "      <td>40.000000</td>\n",
       "      <td>181304.000000</td>\n",
       "      <td>29.000000</td>\n",
       "      <td>3142.000000</td>\n",
       "    </tr>\n",
       "    <tr>\n",
       "      <th>max</th>\n",
       "      <td>340.000000</td>\n",
       "      <td>193.000000</td>\n",
       "      <td>356821.000000</td>\n",
       "      <td>39.000000</td>\n",
       "      <td>10302.000000</td>\n",
       "    </tr>\n",
       "  </tbody>\n",
       "</table>\n",
       "</div>"
      ],
      "text/plain": [
       "          seconds     commits     files_size  files_count     loc_total\n",
       "count   13.000000   13.000000      13.000000    13.000000     13.000000\n",
       "mean    57.076923   32.384615  124775.846154    21.538462   2719.615385\n",
       "std     87.058851   50.603917  111476.400051    11.214688   2838.951436\n",
       "min      8.000000    1.000000    7776.000000     6.000000    327.000000\n",
       "25%     15.000000    7.000000   31237.000000    10.000000   1039.000000\n",
       "50%     41.000000   14.000000  103679.000000    26.000000   1471.000000\n",
       "75%     49.000000   40.000000  181304.000000    29.000000   3142.000000\n",
       "max    340.000000  193.000000  356821.000000    39.000000  10302.000000"
      ]
     },
     "execution_count": 121,
     "metadata": {},
     "output_type": "execute_result"
    }
   ],
   "source": [
    "#scatter( mdlDf.seconds, mdlDf[['author_add','files_size','files_count','loc_total']] )\n",
    "#mdlDf.plot.scatter(x='seconds', y='loc_total');\n",
    "mdlDf.describe()"
   ]
  },
  {
   "cell_type": "code",
   "execution_count": 122,
   "metadata": {
    "collapsed": false
   },
   "outputs": [],
   "source": [
    "# linear model\n",
    "# proc_time(s) = Intrcpt + file_size(mb) + file_count(n) + loc_total(n) + commit_count(n)\n",
    "mdlDf['Eins'] = np.ones(( len(mdlDf), ))\n",
    "Y = mdlDf.seconds\n",
    "X = mdlDf[['Eins','commits','files_size','files_count','loc_total']]\n",
    "result = sm.OLS( Y, X ).fit()"
   ]
  },
  {
   "cell_type": "code",
   "execution_count": 123,
   "metadata": {
    "collapsed": false
   },
   "outputs": [
    {
     "name": "stderr",
     "output_type": "stream",
     "text": [
      "/opt/conda/lib/python3.5/site-packages/scipy/stats/stats.py:1557: UserWarning: kurtosistest only valid for n>=20 ... continuing anyway, n=13\n",
      "  \"anyway, n=%i\" % int(n))\n"
     ]
    },
    {
     "data": {
      "text/html": [
       "<table class=\"simpletable\">\n",
       "<caption>OLS Regression Results</caption>\n",
       "<tr>\n",
       "  <th>Dep. Variable:</th>         <td>seconds</td>     <th>  R-squared:         </th> <td>   0.935</td>\n",
       "</tr>\n",
       "<tr>\n",
       "  <th>Model:</th>                   <td>OLS</td>       <th>  Adj. R-squared:    </th> <td>   0.902</td>\n",
       "</tr>\n",
       "<tr>\n",
       "  <th>Method:</th>             <td>Least Squares</td>  <th>  F-statistic:       </th> <td>   28.57</td>\n",
       "</tr>\n",
       "<tr>\n",
       "  <th>Date:</th>             <td>Tue, 17 Jan 2017</td> <th>  Prob (F-statistic):</th> <td>8.68e-05</td>\n",
       "</tr>\n",
       "<tr>\n",
       "  <th>Time:</th>                 <td>17:12:57</td>     <th>  Log-Likelihood:    </th> <td> -58.267</td>\n",
       "</tr>\n",
       "<tr>\n",
       "  <th>No. Observations:</th>      <td>    13</td>      <th>  AIC:               </th> <td>   126.5</td>\n",
       "</tr>\n",
       "<tr>\n",
       "  <th>Df Residuals:</th>          <td>     8</td>      <th>  BIC:               </th> <td>   129.4</td>\n",
       "</tr>\n",
       "<tr>\n",
       "  <th>Df Model:</th>              <td>     4</td>      <th>                     </th>     <td> </td>   \n",
       "</tr>\n",
       "<tr>\n",
       "  <th>Covariance Type:</th>      <td>nonrobust</td>    <th>                     </th>     <td> </td>   \n",
       "</tr>\n",
       "</table>\n",
       "<table class=\"simpletable\">\n",
       "<tr>\n",
       "       <td></td>          <th>coef</th>     <th>std err</th>      <th>t</th>      <th>P>|t|</th> <th>[95.0% Conf. Int.]</th> \n",
       "</tr>\n",
       "<tr>\n",
       "  <th>Eins</th>        <td>    0.9592</td> <td>   18.384</td> <td>    0.052</td> <td> 0.960</td> <td>  -41.434    43.352</td>\n",
       "</tr>\n",
       "<tr>\n",
       "  <th>commits</th>     <td>    1.7530</td> <td>    0.208</td> <td>    8.448</td> <td> 0.000</td> <td>    1.274     2.232</td>\n",
       "</tr>\n",
       "<tr>\n",
       "  <th>files_size</th>  <td> 8.219e-05</td> <td>    0.000</td> <td>    0.507</td> <td> 0.626</td> <td>   -0.000     0.000</td>\n",
       "</tr>\n",
       "<tr>\n",
       "  <th>files_count</th> <td>   -0.5968</td> <td>    1.072</td> <td>   -0.557</td> <td> 0.593</td> <td>   -3.069     1.876</td>\n",
       "</tr>\n",
       "<tr>\n",
       "  <th>loc_total</th>   <td>    0.0007</td> <td>    0.005</td> <td>    0.134</td> <td> 0.896</td> <td>   -0.012     0.013</td>\n",
       "</tr>\n",
       "</table>\n",
       "<table class=\"simpletable\">\n",
       "<tr>\n",
       "  <th>Omnibus:</th>       <td> 0.207</td> <th>  Durbin-Watson:     </th> <td>   1.066</td>\n",
       "</tr>\n",
       "<tr>\n",
       "  <th>Prob(Omnibus):</th> <td> 0.902</td> <th>  Jarque-Bera (JB):  </th> <td>   0.135</td>\n",
       "</tr>\n",
       "<tr>\n",
       "  <th>Skew:</th>          <td> 0.172</td> <th>  Prob(JB):          </th> <td>   0.935</td>\n",
       "</tr>\n",
       "<tr>\n",
       "  <th>Kurtosis:</th>      <td> 2.638</td> <th>  Cond. No.          </th> <td>4.00e+05</td>\n",
       "</tr>\n",
       "</table>"
      ],
      "text/plain": [
       "<class 'statsmodels.iolib.summary.Summary'>\n",
       "\"\"\"\n",
       "                            OLS Regression Results                            \n",
       "==============================================================================\n",
       "Dep. Variable:                seconds   R-squared:                       0.935\n",
       "Model:                            OLS   Adj. R-squared:                  0.902\n",
       "Method:                 Least Squares   F-statistic:                     28.57\n",
       "Date:                Tue, 17 Jan 2017   Prob (F-statistic):           8.68e-05\n",
       "Time:                        17:12:57   Log-Likelihood:                -58.267\n",
       "No. Observations:                  13   AIC:                             126.5\n",
       "Df Residuals:                       8   BIC:                             129.4\n",
       "Df Model:                           4                                         \n",
       "Covariance Type:            nonrobust                                         \n",
       "===============================================================================\n",
       "                  coef    std err          t      P>|t|      [95.0% Conf. Int.]\n",
       "-------------------------------------------------------------------------------\n",
       "Eins            0.9592     18.384      0.052      0.960       -41.434    43.352\n",
       "commits         1.7530      0.208      8.448      0.000         1.274     2.232\n",
       "files_size   8.219e-05      0.000      0.507      0.626        -0.000     0.000\n",
       "files_count    -0.5968      1.072     -0.557      0.593        -3.069     1.876\n",
       "loc_total       0.0007      0.005      0.134      0.896        -0.012     0.013\n",
       "==============================================================================\n",
       "Omnibus:                        0.207   Durbin-Watson:                   1.066\n",
       "Prob(Omnibus):                  0.902   Jarque-Bera (JB):                0.135\n",
       "Skew:                           0.172   Prob(JB):                        0.935\n",
       "Kurtosis:                       2.638   Cond. No.                     4.00e+05\n",
       "==============================================================================\n",
       "\n",
       "Warnings:\n",
       "[1] Standard Errors assume that the covariance matrix of the errors is correctly specified.\n",
       "[2] The condition number is large,  4e+05. This might indicate that there are\n",
       "strong multicollinearity or other numerical problems.\n",
       "\"\"\""
      ]
     },
     "execution_count": 123,
     "metadata": {},
     "output_type": "execute_result"
    }
   ],
   "source": [
    "result.summary()"
   ]
  },
  {
   "cell_type": "code",
   "execution_count": null,
   "metadata": {
    "collapsed": true
   },
   "outputs": [],
   "source": []
  }
 ],
 "metadata": {
  "kernelspec": {
   "display_name": "Python 3",
   "language": "python",
   "name": "python3"
  },
  "language_info": {
   "codemirror_mode": {
    "name": "ipython",
    "version": 3
   },
   "file_extension": ".py",
   "mimetype": "text/x-python",
   "name": "python",
   "nbconvert_exporter": "python",
   "pygments_lexer": "ipython3",
   "version": "3.5.1"
  }
 },
 "nbformat": 4,
 "nbformat_minor": 0
}
