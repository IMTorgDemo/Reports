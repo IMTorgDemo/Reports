{
 "cells": [
  {
   "cell_type": "markdown",
   "metadata": {
    "collapsed": true
   },
   "source": [
    "### Set-up Environment\n",
    "Any creation or modification of account information must be performed on the [website](www.scrumsaga.com).  Ensure that you maintain proper security over passwords when sharing notebooks."
   ]
  },
  {
   "cell_type": "code",
   "execution_count": 1,
   "metadata": {
    "collapsed": true
   },
   "outputs": [],
   "source": [
    "# Configure\n",
    "import requests\n",
    "import pandas\n",
    "\n",
    "URL = \"http://api.scrumsaga.com/v1\""
   ]
  },
  {
   "cell_type": "code",
   "execution_count": 2,
   "metadata": {
    "collapsed": true
   },
   "outputs": [],
   "source": [
    "# Acocunt information (must be manipulated on website: scrumsaga.com)\n",
    "SAGA_ACCT = {\"email\":\"dev.team@mgmt-tech.org\",\"password\":\"******\"}"
   ]
  },
  {
   "cell_type": "code",
   "execution_count": 3,
   "metadata": {
    "collapsed": false
   },
   "outputs": [
    {
     "data": {
      "text/plain": [
       "'{\"msg\":\"api running\"}'"
      ]
     },
     "execution_count": 3,
     "metadata": {},
     "output_type": "execute_result"
    }
   ],
   "source": [
    "r = requests.get(URL)\n",
    "r.text"
   ]
  },
  {
   "cell_type": "code",
   "execution_count": 4,
   "metadata": {
    "collapsed": false
   },
   "outputs": [
    {
     "data": {
      "text/plain": [
       "'passwords match'"
      ]
     },
     "execution_count": 4,
     "metadata": {},
     "output_type": "execute_result"
    }
   ],
   "source": [
    "# Sign-in for token\n",
    "rte = \"/login\"\n",
    "r = requests.post(URL+rte, data=SAGA_ACCT)\n",
    "r.json()['msg']"
   ]
  },
  {
   "cell_type": "markdown",
   "metadata": {},
   "source": [
    "### First Example\n",
    "\n",
    "The account token is used to authenticate user with each request.  This is separate from the repo information.  Multiple repo information can be used with the same ScrumSaga account.  This is to facilitate use with different organizations and other configurations.  Repo information consists of the GitHub 'user/repo' location and a valid public email.  The publicly available user name and email is used for pulvr to find the project.  The test project of a repo with a single Java class can be found, here:\n",
    "\n",
    "https://github.com/IMTorgTestUser/testprj_Java_oTest"
   ]
  },
  {
   "cell_type": "code",
   "execution_count": 26,
   "metadata": {
    "collapsed": false
   },
   "outputs": [],
   "source": [
    "# This is the ScrumSaga user information.\n",
    "hdr={'Authorization': 'JWT '+r.json()[\"token\"] }\n",
    "\n",
    "# This is the information for the GitHub repo.  This information DOES NOT have to match the ScrumSaga account information. \n",
    "USER1 = {'namespace':'IMTorg', 'email':'dev.team@mgmt-tech.org'}\n",
    "REPO1={'repo':'testprj_Java_aSimple', 'commit':'8a4378cbcb8a882ff63f9d9de4e77f977c0a93cf'}"
   ]
  },
  {
   "cell_type": "code",
   "execution_count": 17,
   "metadata": {
    "collapsed": true
   },
   "outputs": [],
   "source": [
    "rte4 = '/acctData'\n",
    "hdr={'Authorization': 'JWT '+r.json()[\"token\"] }\n",
    "r4 = requests.post(URL+rte4, headers=hdr)"
   ]
  },
  {
   "cell_type": "code",
   "execution_count": 22,
   "metadata": {
    "collapsed": false
   },
   "outputs": [
    {
     "data": {
      "text/plain": [
       "['IMTorgTestUser_IMTorg--testprj_Java_aSimple.db',\n",
       " 'IMTorgTestUser_undefined--undefined.db']"
      ]
     },
     "execution_count": 22,
     "metadata": {},
     "output_type": "execute_result"
    }
   ],
   "source": [
    "r4.json()['data']"
   ]
  },
  {
   "cell_type": "code",
   "execution_count": 27,
   "metadata": {
    "collapsed": false
   },
   "outputs": [
    {
     "data": {
      "text/plain": [
       "{'message': 'No need to process, again'}"
      ]
     },
     "execution_count": 27,
     "metadata": {},
     "output_type": "execute_result"
    }
   ],
   "source": [
    "rte4 = '/extract'\n",
    "hdr={'Authorization': 'JWT '+r.json()[\"token\"] }\n",
    "account={'acct_namespace':USER1['namespace'],'email':USER1['email'],'repo':REPO1['repo']}\n",
    "payload4 = {'namespace':account['acct_namespace'], 'email':account['email'], 'repo':account['repo']}\n",
    "r4 = requests.post(URL+rte4, headers=hdr, data=payload4)\n",
    "r4.json()"
   ]
  },
  {
   "cell_type": "code",
   "execution_count": 28,
   "metadata": {
    "collapsed": false
   },
   "outputs": [
    {
     "data": {
      "text/html": [
       "<div>\n",
       "<table border=\"1\" class=\"dataframe\">\n",
       "  <thead>\n",
       "    <tr style=\"text-align: right;\">\n",
       "      <th></th>\n",
       "      <th>author_add</th>\n",
       "      <th>author_commits_count</th>\n",
       "      <th>author_del</th>\n",
       "      <th>author_files_size</th>\n",
       "      <th>author_id</th>\n",
       "      <th>author_modified_count</th>\n",
       "      <th>author_original_count</th>\n",
       "      <th>author_paths_count</th>\n",
       "      <th>author_total</th>\n",
       "      <th>authors_count</th>\n",
       "      <th>...</th>\n",
       "      <th>reviewer_files_size</th>\n",
       "      <th>reviewer_modified_count</th>\n",
       "      <th>reviewer_name</th>\n",
       "      <th>reviewer_original_count</th>\n",
       "      <th>reviewer_paths_count</th>\n",
       "      <th>reviewer_total</th>\n",
       "      <th>stamp</th>\n",
       "      <th>stamp_author</th>\n",
       "      <th>subject</th>\n",
       "      <th>tag_count</th>\n",
       "    </tr>\n",
       "  </thead>\n",
       "  <tbody>\n",
       "    <tr>\n",
       "      <th>0</th>\n",
       "      <td>7976</td>\n",
       "      <td>1</td>\n",
       "      <td>0</td>\n",
       "      <td>30576278</td>\n",
       "      <td>1</td>\n",
       "      <td>0</td>\n",
       "      <td>42</td>\n",
       "      <td>42</td>\n",
       "      <td>7976</td>\n",
       "      <td>1</td>\n",
       "      <td>...</td>\n",
       "      <td>30576278</td>\n",
       "      <td>0</td>\n",
       "      <td>IMTorg</td>\n",
       "      <td>42</td>\n",
       "      <td>42</td>\n",
       "      <td>7976</td>\n",
       "      <td>2015-12-10 13:58:11.000000</td>\n",
       "      <td>2015-12-10 13:58:11.000000</td>\n",
       "      <td>initialize Java Eclipse project</td>\n",
       "      <td>0</td>\n",
       "    </tr>\n",
       "    <tr>\n",
       "      <th>1</th>\n",
       "      <td>9795</td>\n",
       "      <td>2</td>\n",
       "      <td>1516</td>\n",
       "      <td>48477175</td>\n",
       "      <td>1</td>\n",
       "      <td>3</td>\n",
       "      <td>86</td>\n",
       "      <td>86</td>\n",
       "      <td>8279</td>\n",
       "      <td>1</td>\n",
       "      <td>...</td>\n",
       "      <td>48477175</td>\n",
       "      <td>3</td>\n",
       "      <td>IMTorg</td>\n",
       "      <td>86</td>\n",
       "      <td>86</td>\n",
       "      <td>8279</td>\n",
       "      <td>2015-12-10 14:43:48.000000</td>\n",
       "      <td>2015-12-10 14:43:48.000000</td>\n",
       "      <td>added common_lang .jar files</td>\n",
       "      <td>0</td>\n",
       "    </tr>\n",
       "    <tr>\n",
       "      <th>2</th>\n",
       "      <td>9808</td>\n",
       "      <td>3</td>\n",
       "      <td>1517</td>\n",
       "      <td>48478030</td>\n",
       "      <td>1</td>\n",
       "      <td>7</td>\n",
       "      <td>90</td>\n",
       "      <td>90</td>\n",
       "      <td>8291</td>\n",
       "      <td>1</td>\n",
       "      <td>...</td>\n",
       "      <td>48478030</td>\n",
       "      <td>7</td>\n",
       "      <td>IMTorg</td>\n",
       "      <td>90</td>\n",
       "      <td>90</td>\n",
       "      <td>8291</td>\n",
       "      <td>2015-12-10 14:46:29.000000</td>\n",
       "      <td>2015-12-10 14:46:29.000000</td>\n",
       "      <td>added Sample class</td>\n",
       "      <td>0</td>\n",
       "    </tr>\n",
       "    <tr>\n",
       "      <th>3</th>\n",
       "      <td>12283</td>\n",
       "      <td>4</td>\n",
       "      <td>3091</td>\n",
       "      <td>53283342</td>\n",
       "      <td>1</td>\n",
       "      <td>14</td>\n",
       "      <td>106</td>\n",
       "      <td>106</td>\n",
       "      <td>9192</td>\n",
       "      <td>1</td>\n",
       "      <td>...</td>\n",
       "      <td>53283342</td>\n",
       "      <td>14</td>\n",
       "      <td>IMTorg</td>\n",
       "      <td>106</td>\n",
       "      <td>106</td>\n",
       "      <td>9192</td>\n",
       "      <td>2015-12-10 14:51:57.000000</td>\n",
       "      <td>2015-12-10 14:51:57.000000</td>\n",
       "      <td>provided a new class</td>\n",
       "      <td>0</td>\n",
       "    </tr>\n",
       "    <tr>\n",
       "      <th>4</th>\n",
       "      <td>13880</td>\n",
       "      <td>5</td>\n",
       "      <td>4679</td>\n",
       "      <td>53283978</td>\n",
       "      <td>1</td>\n",
       "      <td>15</td>\n",
       "      <td>108</td>\n",
       "      <td>108</td>\n",
       "      <td>9201</td>\n",
       "      <td>1</td>\n",
       "      <td>...</td>\n",
       "      <td>53283978</td>\n",
       "      <td>15</td>\n",
       "      <td>IMTorg</td>\n",
       "      <td>108</td>\n",
       "      <td>108</td>\n",
       "      <td>9201</td>\n",
       "      <td>2015-12-10 14:52:40.000000</td>\n",
       "      <td>2015-12-10 14:52:40.000000</td>\n",
       "      <td>added Hello World!</td>\n",
       "      <td>0</td>\n",
       "    </tr>\n",
       "  </tbody>\n",
       "</table>\n",
       "<p>5 rows × 36 columns</p>\n",
       "</div>"
      ],
      "text/plain": [
       "   author_add  author_commits_count  author_del  author_files_size  author_id  \\\n",
       "0        7976                     1           0           30576278          1   \n",
       "1        9795                     2        1516           48477175          1   \n",
       "2        9808                     3        1517           48478030          1   \n",
       "3       12283                     4        3091           53283342          1   \n",
       "4       13880                     5        4679           53283978          1   \n",
       "\n",
       "   author_modified_count  author_original_count  author_paths_count  \\\n",
       "0                      0                     42                  42   \n",
       "1                      3                     86                  86   \n",
       "2                      7                     90                  90   \n",
       "3                     14                    106                 106   \n",
       "4                     15                    108                 108   \n",
       "\n",
       "   author_total  authors_count    ...      reviewer_files_size  \\\n",
       "0          7976              1    ...                 30576278   \n",
       "1          8279              1    ...                 48477175   \n",
       "2          8291              1    ...                 48478030   \n",
       "3          9192              1    ...                 53283342   \n",
       "4          9201              1    ...                 53283978   \n",
       "\n",
       "   reviewer_modified_count  reviewer_name reviewer_original_count  \\\n",
       "0                        0         IMTorg                      42   \n",
       "1                        3         IMTorg                      86   \n",
       "2                        7         IMTorg                      90   \n",
       "3                       14         IMTorg                     106   \n",
       "4                       15         IMTorg                     108   \n",
       "\n",
       "   reviewer_paths_count  reviewer_total                       stamp  \\\n",
       "0                    42            7976  2015-12-10 13:58:11.000000   \n",
       "1                    86            8279  2015-12-10 14:43:48.000000   \n",
       "2                    90            8291  2015-12-10 14:46:29.000000   \n",
       "3                   106            9192  2015-12-10 14:51:57.000000   \n",
       "4                   108            9201  2015-12-10 14:52:40.000000   \n",
       "\n",
       "                 stamp_author                          subject  tag_count  \n",
       "0  2015-12-10 13:58:11.000000  initialize Java Eclipse project          0  \n",
       "1  2015-12-10 14:43:48.000000     added common_lang .jar files          0  \n",
       "2  2015-12-10 14:46:29.000000               added Sample class          0  \n",
       "3  2015-12-10 14:51:57.000000             provided a new class          0  \n",
       "4  2015-12-10 14:52:40.000000               added Hello World!          0  \n",
       "\n",
       "[5 rows x 36 columns]"
      ]
     },
     "execution_count": 28,
     "metadata": {},
     "output_type": "execute_result"
    }
   ],
   "source": [
    "rte2 = '/load/commits'\n",
    "#payload2 = {'username':USER['name'], 'email':USER['email'], 'location':REPO1['repo']}\n",
    "r2 = requests.post(URL+rte2, headers=hdr, data=payload4)\n",
    "r2.json()\n",
    "commits = pandas.DataFrame(r2.json()['data'])\n",
    "\n",
    "r2.json()['message']\n",
    "commits.head()"
   ]
  },
  {
   "cell_type": "code",
   "execution_count": 30,
   "metadata": {
    "collapsed": false
   },
   "outputs": [
    {
     "data": {
      "text/html": [
       "<div>\n",
       "<table border=\"1\" class=\"dataframe\">\n",
       "  <thead>\n",
       "    <tr style=\"text-align: right;\">\n",
       "      <th></th>\n",
       "      <th>author_domain</th>\n",
       "      <th>author_email</th>\n",
       "      <th>author_name</th>\n",
       "      <th>date_author_join_prj</th>\n",
       "      <th>id</th>\n",
       "      <th>prj_id</th>\n",
       "    </tr>\n",
       "  </thead>\n",
       "  <tbody>\n",
       "    <tr>\n",
       "      <th>0</th>\n",
       "      <td>mgmt-tech.org</td>\n",
       "      <td>jason.beach@mgmt-tech.org</td>\n",
       "      <td>IMTorg</td>\n",
       "      <td>2015-12-10 13:58:11.000000</td>\n",
       "      <td>1</td>\n",
       "      <td>1</td>\n",
       "    </tr>\n",
       "    <tr>\n",
       "      <th>1</th>\n",
       "      <td>gmx.com</td>\n",
       "      <td>claytonk@gmx.com</td>\n",
       "      <td>clayton</td>\n",
       "      <td>2016-02-15 13:52:37.000000</td>\n",
       "      <td>2</td>\n",
       "      <td>1</td>\n",
       "    </tr>\n",
       "  </tbody>\n",
       "</table>\n",
       "</div>"
      ],
      "text/plain": [
       "   author_domain               author_email author_name  \\\n",
       "0  mgmt-tech.org  jason.beach@mgmt-tech.org      IMTorg   \n",
       "1        gmx.com           claytonk@gmx.com     clayton   \n",
       "\n",
       "         date_author_join_prj  id prj_id  \n",
       "0  2015-12-10 13:58:11.000000   1      1  \n",
       "1  2016-02-15 13:52:37.000000   2      1  "
      ]
     },
     "execution_count": 30,
     "metadata": {},
     "output_type": "execute_result"
    }
   ],
   "source": [
    "rte2 = '/load/authors'\n",
    "r2 = requests.post(URL+rte2, headers=hdr, data=payload4)\n",
    "authors = pandas.DataFrame(r2.json()['data'])\n",
    "\n",
    "r2.json()['message']\n",
    "authors.head()"
   ]
  },
  {
   "cell_type": "code",
   "execution_count": 31,
   "metadata": {
    "collapsed": false
   },
   "outputs": [
    {
     "data": {
      "text/html": [
       "<div>\n",
       "<table border=\"1\" class=\"dataframe\">\n",
       "  <thead>\n",
       "    <tr style=\"text-align: right;\">\n",
       "      <th></th>\n",
       "      <th>child_of</th>\n",
       "      <th>child_of_id</th>\n",
       "      <th>created_hash</th>\n",
       "      <th>entity_name</th>\n",
       "      <th>entity_type</th>\n",
       "      <th>ext</th>\n",
       "      <th>id</th>\n",
       "      <th>last_before_removed_hash</th>\n",
       "      <th>prj_id</th>\n",
       "      <th>type</th>\n",
       "    </tr>\n",
       "  </thead>\n",
       "  <tbody>\n",
       "    <tr>\n",
       "      <th>0</th>\n",
       "      <td>0</td>\n",
       "      <td>0</td>\n",
       "      <td>None</td>\n",
       "      <td>testprj_Java_aSimple</td>\n",
       "      <td>project</td>\n",
       "      <td>None</td>\n",
       "      <td>1</td>\n",
       "      <td>None</td>\n",
       "      <td>1</td>\n",
       "      <td>None</td>\n",
       "    </tr>\n",
       "    <tr>\n",
       "      <th>1</th>\n",
       "      <td>.</td>\n",
       "      <td>1</td>\n",
       "      <td>2cd4c25a1c199e127cd4f0d7a1fdb10b06456ca3</td>\n",
       "      <td>.metadata</td>\n",
       "      <td>directory</td>\n",
       "      <td></td>\n",
       "      <td>2</td>\n",
       "      <td></td>\n",
       "      <td>1</td>\n",
       "      <td>None</td>\n",
       "    </tr>\n",
       "    <tr>\n",
       "      <th>2</th>\n",
       "      <td>.metadata</td>\n",
       "      <td>2</td>\n",
       "      <td>2cd4c25a1c199e127cd4f0d7a1fdb10b06456ca3</td>\n",
       "      <td>version.ini</td>\n",
       "      <td>file</td>\n",
       "      <td>.ini</td>\n",
       "      <td>3</td>\n",
       "      <td></td>\n",
       "      <td>1</td>\n",
       "      <td>None</td>\n",
       "    </tr>\n",
       "    <tr>\n",
       "      <th>3</th>\n",
       "      <td>.metadata</td>\n",
       "      <td>2</td>\n",
       "      <td>2cd4c25a1c199e127cd4f0d7a1fdb10b06456ca3</td>\n",
       "      <td>.log</td>\n",
       "      <td>file</td>\n",
       "      <td></td>\n",
       "      <td>4</td>\n",
       "      <td></td>\n",
       "      <td>1</td>\n",
       "      <td>None</td>\n",
       "    </tr>\n",
       "    <tr>\n",
       "      <th>4</th>\n",
       "      <td>.metadata</td>\n",
       "      <td>2</td>\n",
       "      <td>2cd4c25a1c199e127cd4f0d7a1fdb10b06456ca3</td>\n",
       "      <td>.metadata/.mylyn</td>\n",
       "      <td>directory</td>\n",
       "      <td></td>\n",
       "      <td>5</td>\n",
       "      <td></td>\n",
       "      <td>1</td>\n",
       "      <td>None</td>\n",
       "    </tr>\n",
       "  </tbody>\n",
       "</table>\n",
       "</div>"
      ],
      "text/plain": [
       "    child_of  child_of_id                              created_hash  \\\n",
       "0          0            0                                      None   \n",
       "1          .            1  2cd4c25a1c199e127cd4f0d7a1fdb10b06456ca3   \n",
       "2  .metadata            2  2cd4c25a1c199e127cd4f0d7a1fdb10b06456ca3   \n",
       "3  .metadata            2  2cd4c25a1c199e127cd4f0d7a1fdb10b06456ca3   \n",
       "4  .metadata            2  2cd4c25a1c199e127cd4f0d7a1fdb10b06456ca3   \n",
       "\n",
       "            entity_name entity_type   ext  id last_before_removed_hash  \\\n",
       "0  testprj_Java_aSimple     project  None   1                     None   \n",
       "1             .metadata   directory         2                            \n",
       "2           version.ini        file  .ini   3                            \n",
       "3                  .log        file         4                            \n",
       "4      .metadata/.mylyn   directory         5                            \n",
       "\n",
       "   prj_id  type  \n",
       "0       1  None  \n",
       "1       1  None  \n",
       "2       1  None  \n",
       "3       1  None  \n",
       "4       1  None  "
      ]
     },
     "execution_count": 31,
     "metadata": {},
     "output_type": "execute_result"
    }
   ],
   "source": [
    "rte2 = '/load/entity_structure'\n",
    "r2 = requests.post(URL+rte2, headers=hdr, data=payload4)\n",
    "struct = pandas.DataFrame(r2.json()['data'])\n",
    "\n",
    "r2.json()['message']\n",
    "struct.head()"
   ]
  },
  {
   "cell_type": "code",
   "execution_count": null,
   "metadata": {
    "collapsed": true
   },
   "outputs": [],
   "source": []
  }
 ],
 "metadata": {
  "anaconda-cloud": {},
  "kernelspec": {
   "display_name": "Python [default]",
   "language": "python",
   "name": "python3"
  },
  "language_info": {
   "codemirror_mode": {
    "name": "ipython",
    "version": 3
   },
   "file_extension": ".py",
   "mimetype": "text/x-python",
   "name": "python",
   "nbconvert_exporter": "python",
   "pygments_lexer": "ipython3",
   "version": "3.5.2"
  }
 },
 "nbformat": 4,
 "nbformat_minor": 0
}
